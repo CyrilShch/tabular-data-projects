{
  "nbformat": 4,
  "nbformat_minor": 0,
  "metadata": {
    "kernelspec": {
      "name": "python3",
      "display_name": "Python 3"
    },
    "language_info": {
      "codemirror_mode": {
        "name": "ipython",
        "version": 3
      },
      "file_extension": ".py",
      "mimetype": "text/x-python",
      "name": "python",
      "nbconvert_exporter": "python",
      "pygments_lexer": "ipython3",
      "version": "3.7.7"
    },
    "colab": {
      "name": "py-classification-rain-tomorrow-australia-take2.ipynb",
      "provenance": [],
      "collapsed_sections": [
        "fvpwfm9RJzn7"
      ],
      "toc_visible": true,
      "machine_shape": "hm"
    },
    "accelerator": "GPU"
  },
  "cells": [
    {
      "cell_type": "markdown",
      "metadata": {
        "id": "CETeEf_iJzhm",
        "colab_type": "text"
      },
      "source": [
        "# Binary Classification Model for Rain in Australia Using Python Take 2\n",
        "### David Lowe\n",
        "### March 27, 2020\n",
        "\n",
        "Template Credit: Adapted from a template made available by Dr. Jason Brownlee of Machine Learning Mastery. [https://machinelearningmastery.com/]\n",
        "\n",
        "SUMMARY: The purpose of this project is to construct a predictive model using various machine learning algorithms and to document the end-to-end steps using a template. The Rain in Australia dataset is a binary classification situation where we are trying to predict one of the two possible outcomes.\n",
        "\n",
        "INTRODUCTION: This dataset contains daily weather observations from numerous Australian weather stations. The target variable RainTomorrow represents whether it rained the next day. We also should exclude the variable Risk-MM when training a binary classification model. By not eliminating the Risk-MM feature, we run a risk of leaking the answers into our model and reduce its effectiveness.\n",
        "\n",
        "In iteration Take1, we constructed several traditional machine learning models using the linear, non-linear, and ensemble techniques. We also observed the best accuracy score that we could obtain with each of these models.\n",
        "\n",
        "In this Take2 iteration, we will construct and tune an XGBoost machine learning model for this dataset. We will observe the best accuracy score that we can obtain with the XGBoost model.\n",
        "\n",
        "ANALYSIS: In iteration Take1, the baseline performance of the machine learning algorithms achieved an average accuracy of 83.83%. Two algorithms (Extra Trees and Random Forest) achieved the top accuracy metrics after the first round of modeling. After a series of tuning trials, Random Forest turned in a better overall result than Extra Trees with a lower variance. Random Forest achieved an accuracy metric of 85.44%. When configured with the optimized parameters, the Random Forest algorithm processed the test dataset with an accuracy of 85.52%, which was consistent with the accuracy score from the training phase.\n",
        "\n",
        "In this Take2 iteration, the XGBoost algorithm achieved a baseline accuracy of 84.69% by setting n_estimators to the default value of 100. After a series of tuning trials, XGBoost turned in an overall accuracy result of 86.21% with the n_estimators value set to 1000. When we apply the tuned XGBoost model to the test dataset, we obtained an accuracy score of 86.27%, which was consistent with the model performance from the training phase.\n",
        "\n",
        "CONCLUSION: For this iteration, the XGBoost algorithm achieved the best overall result using the training and test datasets. For this dataset, XGBoost should be considered for further modeling.\n",
        "\n",
        "Dataset Used: Rain in Australia Data Set\n",
        "\n",
        "Dataset ML Model: Binary classification with numerical and categorical attributes\n",
        "\n",
        "Dataset Reference: https://www.kaggle.com/jsphyg/weather-dataset-rattle-package\n",
        "\n",
        "One potential source of performance benchmark: https://www.kaggle.com/jsphyg/weather-dataset-rattle-package/kernels\n",
        "\n",
        "The project aims to touch on the following areas:\n",
        "\n",
        "* Document a predictive modeling problem end-to-end.\n",
        "* Explore data cleaning and transformation options\n",
        "* Explore non-ensemble and ensemble algorithms for baseline model performance\n",
        "* Explore algorithm tuning techniques for improving model performance\n",
        "\n",
        "Any predictive modeling machine learning project genrally can be broken down into about six major tasks:\n",
        "\n",
        "1. Prepare Environment\n",
        "2. Summarize Data\n",
        "3. Prepare Data\n",
        "4. Model and Evaluate Algorithms\n",
        "5. Improve Accuracy or Results\n",
        "6. Finalize Model and Present Results"
      ]
    },
    {
      "cell_type": "markdown",
      "metadata": {
        "id": "aE1k9XubJzh6",
        "colab_type": "text"
      },
      "source": [
        "## Section 1 - Prepare Environment"
      ]
    },
    {
      "cell_type": "code",
      "metadata": {
        "id": "4siTk23MJziA",
        "colab_type": "code",
        "outputId": "4424a681-9ad8-4a46-c46d-defe8acbddff",
        "colab": {
          "base_uri": "https://localhost:8080/",
          "height": 329
        }
      },
      "source": [
        "# Retrieve GPU configuration information from Colab\n",
        "gpu_info = !nvidia-smi\n",
        "gpu_info = '\\n'.join(gpu_info)\n",
        "if gpu_info.find('failed') >= 0:\n",
        "    print('Select the Runtime → \"Change runtime type\" menu to enable a GPU accelerator, ')\n",
        "    print('and then re-execute this cell.')\n",
        "else:\n",
        "    print(gpu_info)"
      ],
      "execution_count": 1,
      "outputs": [
        {
          "output_type": "stream",
          "text": [
            "Sun Mar 22 16:34:19 2020       \n",
            "+-----------------------------------------------------------------------------+\n",
            "| NVIDIA-SMI 440.64.00    Driver Version: 418.67       CUDA Version: 10.1     |\n",
            "|-------------------------------+----------------------+----------------------+\n",
            "| GPU  Name        Persistence-M| Bus-Id        Disp.A | Volatile Uncorr. ECC |\n",
            "| Fan  Temp  Perf  Pwr:Usage/Cap|         Memory-Usage | GPU-Util  Compute M. |\n",
            "|===============================+======================+======================|\n",
            "|   0  Tesla P100-PCIE...  Off  | 00000000:00:04.0 Off |                    0 |\n",
            "| N/A   38C    P0    26W / 250W |      0MiB / 16280MiB |      0%      Default |\n",
            "+-------------------------------+----------------------+----------------------+\n",
            "                                                                               \n",
            "+-----------------------------------------------------------------------------+\n",
            "| Processes:                                                       GPU Memory |\n",
            "|  GPU       PID   Type   Process name                             Usage      |\n",
            "|=============================================================================|\n",
            "|  No running processes found                                                 |\n",
            "+-----------------------------------------------------------------------------+\n"
          ],
          "name": "stdout"
        }
      ]
    },
    {
      "cell_type": "code",
      "metadata": {
        "id": "JI5xhprFJziR",
        "colab_type": "code",
        "outputId": "bbf14edc-742c-4135-ee99-54313bb86e24",
        "colab": {
          "base_uri": "https://localhost:8080/",
          "height": 72
        }
      },
      "source": [
        "# Retrieve memory configuration information from Colab\n",
        "from psutil import virtual_memory\n",
        "ram_gb = virtual_memory().total / 1e9\n",
        "print('Your runtime has {:.1f} gigabytes of available RAM\\n'.format(ram_gb))\n",
        "\n",
        "if ram_gb < 20:\n",
        "    print('To enable a high-RAM runtime, select the Runtime → \"Change runtime type\"')\n",
        "    print('menu, and then select High-RAM in the Runtime shape dropdown. Then, ')\n",
        "    print('re-execute this cell.')\n",
        "else:\n",
        "    print('You are using a high-RAM runtime!')"
      ],
      "execution_count": 2,
      "outputs": [
        {
          "output_type": "stream",
          "text": [
            "Your runtime has 27.4 gigabytes of available RAM\n",
            "\n",
            "You are using a high-RAM runtime!\n"
          ],
          "name": "stdout"
        }
      ]
    },
    {
      "cell_type": "markdown",
      "metadata": {
        "id": "pIqxMf1UJzic",
        "colab_type": "text"
      },
      "source": [
        "### 1.a) Load libraries and modules"
      ]
    },
    {
      "cell_type": "code",
      "metadata": {
        "id": "CIwvl4k0Jzie",
        "colab_type": "code",
        "colab": {}
      },
      "source": [
        "# Set the random seed number for reproducible results\n",
        "seedNum = 888"
      ],
      "execution_count": 0,
      "outputs": []
    },
    {
      "cell_type": "code",
      "metadata": {
        "id": "Rn_oqO0rJzin",
        "colab_type": "code",
        "colab": {}
      },
      "source": [
        "import numpy as np\n",
        "import pandas as pd\n",
        "import matplotlib.pyplot as plt\n",
        "import math\n",
        "import os\n",
        "import sys\n",
        "import shutil\n",
        "import urllib.request\n",
        "import zipfile\n",
        "import smtplib\n",
        "import re\n",
        "from datetime import datetime\n",
        "from email.message import EmailMessage\n",
        "from pandas.plotting import scatter_matrix\n",
        "from sklearn import preprocessing\n",
        "from sklearn.model_selection import train_test_split\n",
        "from sklearn.model_selection import KFold\n",
        "from sklearn.model_selection import StratifiedKFold\n",
        "from sklearn.model_selection import cross_val_score\n",
        "from sklearn.model_selection import GridSearchCV\n",
        "from sklearn.metrics import classification_report\n",
        "from sklearn.metrics import confusion_matrix\n",
        "from sklearn.metrics import accuracy_score\n",
        "from sklearn.metrics import roc_auc_score\n",
        "from sklearn.pipeline import Pipeline\n",
        "from sklearn.feature_selection import RFE\n",
        "# from imblearn.over_sampling import SMOTE\n",
        "# from imblearn.combine import SMOTEENN\n",
        "# from imblearn.combine import SMOTETomek\n",
        "\n",
        "# from sklearn.linear_model import LogisticRegression\n",
        "# from sklearn.tree import DecisionTreeClassifier\n",
        "# from sklearn.neighbors import KNeighborsClassifier\n",
        "# from sklearn.ensemble import BaggingClassifier\n",
        "from sklearn.ensemble import RandomForestClassifier\n",
        "# from sklearn.ensemble import ExtraTreesClassifier\n",
        "# from sklearn.ensemble import GradientBoostingClassifier\n",
        "# from imblearn.ensemble import BalancedRandomForestClassifier\n",
        "# from imblearn.ensemble import RUSBoostClassifier\n",
        "# from imblearn.ensemble import BalancedBaggingClassifier\n",
        "from xgboost import XGBClassifier"
      ],
      "execution_count": 0,
      "outputs": []
    },
    {
      "cell_type": "markdown",
      "metadata": {
        "id": "l2OIlTC7Jziz",
        "colab_type": "text"
      },
      "source": [
        "### 1.b) Set up the controlling parameters and functions"
      ]
    },
    {
      "cell_type": "code",
      "metadata": {
        "id": "bXDJplesJzi2",
        "colab_type": "code",
        "colab": {}
      },
      "source": [
        "# Begin the timer for the script processing\n",
        "startTimeScript = datetime.now()\n",
        "\n",
        "# Set up the number of CPU cores available for multi-thread processing\n",
        "n_jobs = -1\n",
        "\n",
        "# Set up the flag to stop sending progress emails (setting to True will send status emails!)\n",
        "notifyStatus = False\n",
        "\n",
        "# Set the flag for splitting the dataset\n",
        "splitDataset = True\n",
        "splitPercentage = 0.25\n",
        "\n",
        "# Set the number of folds for cross validation\n",
        "n_folds = 5\n",
        "\n",
        "# Set various default modeling parameters\n",
        "scoring = 'accuracy'\n",
        "# scoring = 'roc_auc'\n",
        "\n",
        "# Set various Pandas options\n",
        "pd.set_option('display.max_rows', 9999)"
      ],
      "execution_count": 0,
      "outputs": []
    },
    {
      "cell_type": "code",
      "metadata": {
        "id": "TlU3EKOpJzi-",
        "colab_type": "code",
        "colab": {}
      },
      "source": [
        "# Set up the email notification function\n",
        "def email_notify(msg_text):\n",
        "    sender = os.environ.get('MAIL_SENDER')\n",
        "    receiver = os.environ.get('MAIL_RECEIVER')\n",
        "    gateway = os.environ.get('SMTP_GATEWAY')\n",
        "    smtpuser = os.environ.get('SMTP_USERNAME')\n",
        "    password = os.environ.get('SMTP_PASSWORD')\n",
        "    if sender==None or receiver==None or gateway==None or smtpuser==None or password==None:\n",
        "        sys.exit(\"Incomplete email setup info. Script Processing Aborted!!!\")\n",
        "    msg = EmailMessage()\n",
        "    msg.set_content(msg_text)\n",
        "    msg['Subject'] = 'Notification from Python Binary Classification Script'\n",
        "    msg['From'] = sender\n",
        "    msg['To'] = receiver\n",
        "    server = smtplib.SMTP(gateway, 587)\n",
        "    server.starttls()\n",
        "    server.login(smtpuser, password)\n",
        "    server.send_message(msg)\n",
        "    server.quit()"
      ],
      "execution_count": 0,
      "outputs": []
    },
    {
      "cell_type": "code",
      "metadata": {
        "id": "5BWJWFYyJzjF",
        "colab_type": "code",
        "colab": {}
      },
      "source": [
        "if (notifyStatus): email_notify(\"Library and Data Loading has begun! \"+datetime.now().strftime('%a %B %d, %Y %I:%M:%S %p'))"
      ],
      "execution_count": 0,
      "outputs": []
    },
    {
      "cell_type": "markdown",
      "metadata": {
        "id": "vyF7fyTIJzjQ",
        "colab_type": "text"
      },
      "source": [
        "### 1.c) Load dataset"
      ]
    },
    {
      "cell_type": "code",
      "metadata": {
        "id": "bu3x2c0NJzjS",
        "colab_type": "code",
        "outputId": "fb11c281-e944-49d5-cb70-1988902d49ef",
        "colab": {
          "base_uri": "https://localhost:8080/",
          "height": 383
        }
      },
      "source": [
        "dataset_path = 'https://dainesanalytics.com/datasets/kaggle-rain-tomorrow-australia/weatherAUS.csv'\n",
        "\n",
        "Xy_original = pd.read_csv(dataset_path, sep=',')\n",
        "\n",
        "# Take a peek at the dataframe after import\n",
        "Xy_original.head(10)"
      ],
      "execution_count": 8,
      "outputs": [
        {
          "output_type": "execute_result",
          "data": {
            "text/html": [
              "<div>\n",
              "<style scoped>\n",
              "    .dataframe tbody tr th:only-of-type {\n",
              "        vertical-align: middle;\n",
              "    }\n",
              "\n",
              "    .dataframe tbody tr th {\n",
              "        vertical-align: top;\n",
              "    }\n",
              "\n",
              "    .dataframe thead th {\n",
              "        text-align: right;\n",
              "    }\n",
              "</style>\n",
              "<table border=\"1\" class=\"dataframe\">\n",
              "  <thead>\n",
              "    <tr style=\"text-align: right;\">\n",
              "      <th></th>\n",
              "      <th>Date</th>\n",
              "      <th>Location</th>\n",
              "      <th>MinTemp</th>\n",
              "      <th>MaxTemp</th>\n",
              "      <th>Rainfall</th>\n",
              "      <th>Evaporation</th>\n",
              "      <th>Sunshine</th>\n",
              "      <th>WindGustDir</th>\n",
              "      <th>WindGustSpeed</th>\n",
              "      <th>WindDir9am</th>\n",
              "      <th>WindDir3pm</th>\n",
              "      <th>WindSpeed9am</th>\n",
              "      <th>WindSpeed3pm</th>\n",
              "      <th>Humidity9am</th>\n",
              "      <th>Humidity3pm</th>\n",
              "      <th>Pressure9am</th>\n",
              "      <th>Pressure3pm</th>\n",
              "      <th>Cloud9am</th>\n",
              "      <th>Cloud3pm</th>\n",
              "      <th>Temp9am</th>\n",
              "      <th>Temp3pm</th>\n",
              "      <th>RainToday</th>\n",
              "      <th>RISK_MM</th>\n",
              "      <th>RainTomorrow</th>\n",
              "    </tr>\n",
              "  </thead>\n",
              "  <tbody>\n",
              "    <tr>\n",
              "      <th>0</th>\n",
              "      <td>2008-12-01</td>\n",
              "      <td>Albury</td>\n",
              "      <td>13.4</td>\n",
              "      <td>22.9</td>\n",
              "      <td>0.6</td>\n",
              "      <td>NaN</td>\n",
              "      <td>NaN</td>\n",
              "      <td>W</td>\n",
              "      <td>44.0</td>\n",
              "      <td>W</td>\n",
              "      <td>WNW</td>\n",
              "      <td>20.0</td>\n",
              "      <td>24.0</td>\n",
              "      <td>71.0</td>\n",
              "      <td>22.0</td>\n",
              "      <td>1007.7</td>\n",
              "      <td>1007.1</td>\n",
              "      <td>8.0</td>\n",
              "      <td>NaN</td>\n",
              "      <td>16.9</td>\n",
              "      <td>21.8</td>\n",
              "      <td>No</td>\n",
              "      <td>0.0</td>\n",
              "      <td>No</td>\n",
              "    </tr>\n",
              "    <tr>\n",
              "      <th>1</th>\n",
              "      <td>2008-12-02</td>\n",
              "      <td>Albury</td>\n",
              "      <td>7.4</td>\n",
              "      <td>25.1</td>\n",
              "      <td>0.0</td>\n",
              "      <td>NaN</td>\n",
              "      <td>NaN</td>\n",
              "      <td>WNW</td>\n",
              "      <td>44.0</td>\n",
              "      <td>NNW</td>\n",
              "      <td>WSW</td>\n",
              "      <td>4.0</td>\n",
              "      <td>22.0</td>\n",
              "      <td>44.0</td>\n",
              "      <td>25.0</td>\n",
              "      <td>1010.6</td>\n",
              "      <td>1007.8</td>\n",
              "      <td>NaN</td>\n",
              "      <td>NaN</td>\n",
              "      <td>17.2</td>\n",
              "      <td>24.3</td>\n",
              "      <td>No</td>\n",
              "      <td>0.0</td>\n",
              "      <td>No</td>\n",
              "    </tr>\n",
              "    <tr>\n",
              "      <th>2</th>\n",
              "      <td>2008-12-03</td>\n",
              "      <td>Albury</td>\n",
              "      <td>12.9</td>\n",
              "      <td>25.7</td>\n",
              "      <td>0.0</td>\n",
              "      <td>NaN</td>\n",
              "      <td>NaN</td>\n",
              "      <td>WSW</td>\n",
              "      <td>46.0</td>\n",
              "      <td>W</td>\n",
              "      <td>WSW</td>\n",
              "      <td>19.0</td>\n",
              "      <td>26.0</td>\n",
              "      <td>38.0</td>\n",
              "      <td>30.0</td>\n",
              "      <td>1007.6</td>\n",
              "      <td>1008.7</td>\n",
              "      <td>NaN</td>\n",
              "      <td>2.0</td>\n",
              "      <td>21.0</td>\n",
              "      <td>23.2</td>\n",
              "      <td>No</td>\n",
              "      <td>0.0</td>\n",
              "      <td>No</td>\n",
              "    </tr>\n",
              "    <tr>\n",
              "      <th>3</th>\n",
              "      <td>2008-12-04</td>\n",
              "      <td>Albury</td>\n",
              "      <td>9.2</td>\n",
              "      <td>28.0</td>\n",
              "      <td>0.0</td>\n",
              "      <td>NaN</td>\n",
              "      <td>NaN</td>\n",
              "      <td>NE</td>\n",
              "      <td>24.0</td>\n",
              "      <td>SE</td>\n",
              "      <td>E</td>\n",
              "      <td>11.0</td>\n",
              "      <td>9.0</td>\n",
              "      <td>45.0</td>\n",
              "      <td>16.0</td>\n",
              "      <td>1017.6</td>\n",
              "      <td>1012.8</td>\n",
              "      <td>NaN</td>\n",
              "      <td>NaN</td>\n",
              "      <td>18.1</td>\n",
              "      <td>26.5</td>\n",
              "      <td>No</td>\n",
              "      <td>1.0</td>\n",
              "      <td>No</td>\n",
              "    </tr>\n",
              "    <tr>\n",
              "      <th>4</th>\n",
              "      <td>2008-12-05</td>\n",
              "      <td>Albury</td>\n",
              "      <td>17.5</td>\n",
              "      <td>32.3</td>\n",
              "      <td>1.0</td>\n",
              "      <td>NaN</td>\n",
              "      <td>NaN</td>\n",
              "      <td>W</td>\n",
              "      <td>41.0</td>\n",
              "      <td>ENE</td>\n",
              "      <td>NW</td>\n",
              "      <td>7.0</td>\n",
              "      <td>20.0</td>\n",
              "      <td>82.0</td>\n",
              "      <td>33.0</td>\n",
              "      <td>1010.8</td>\n",
              "      <td>1006.0</td>\n",
              "      <td>7.0</td>\n",
              "      <td>8.0</td>\n",
              "      <td>17.8</td>\n",
              "      <td>29.7</td>\n",
              "      <td>No</td>\n",
              "      <td>0.2</td>\n",
              "      <td>No</td>\n",
              "    </tr>\n",
              "    <tr>\n",
              "      <th>5</th>\n",
              "      <td>2008-12-06</td>\n",
              "      <td>Albury</td>\n",
              "      <td>14.6</td>\n",
              "      <td>29.7</td>\n",
              "      <td>0.2</td>\n",
              "      <td>NaN</td>\n",
              "      <td>NaN</td>\n",
              "      <td>WNW</td>\n",
              "      <td>56.0</td>\n",
              "      <td>W</td>\n",
              "      <td>W</td>\n",
              "      <td>19.0</td>\n",
              "      <td>24.0</td>\n",
              "      <td>55.0</td>\n",
              "      <td>23.0</td>\n",
              "      <td>1009.2</td>\n",
              "      <td>1005.4</td>\n",
              "      <td>NaN</td>\n",
              "      <td>NaN</td>\n",
              "      <td>20.6</td>\n",
              "      <td>28.9</td>\n",
              "      <td>No</td>\n",
              "      <td>0.0</td>\n",
              "      <td>No</td>\n",
              "    </tr>\n",
              "    <tr>\n",
              "      <th>6</th>\n",
              "      <td>2008-12-07</td>\n",
              "      <td>Albury</td>\n",
              "      <td>14.3</td>\n",
              "      <td>25.0</td>\n",
              "      <td>0.0</td>\n",
              "      <td>NaN</td>\n",
              "      <td>NaN</td>\n",
              "      <td>W</td>\n",
              "      <td>50.0</td>\n",
              "      <td>SW</td>\n",
              "      <td>W</td>\n",
              "      <td>20.0</td>\n",
              "      <td>24.0</td>\n",
              "      <td>49.0</td>\n",
              "      <td>19.0</td>\n",
              "      <td>1009.6</td>\n",
              "      <td>1008.2</td>\n",
              "      <td>1.0</td>\n",
              "      <td>NaN</td>\n",
              "      <td>18.1</td>\n",
              "      <td>24.6</td>\n",
              "      <td>No</td>\n",
              "      <td>0.0</td>\n",
              "      <td>No</td>\n",
              "    </tr>\n",
              "    <tr>\n",
              "      <th>7</th>\n",
              "      <td>2008-12-08</td>\n",
              "      <td>Albury</td>\n",
              "      <td>7.7</td>\n",
              "      <td>26.7</td>\n",
              "      <td>0.0</td>\n",
              "      <td>NaN</td>\n",
              "      <td>NaN</td>\n",
              "      <td>W</td>\n",
              "      <td>35.0</td>\n",
              "      <td>SSE</td>\n",
              "      <td>W</td>\n",
              "      <td>6.0</td>\n",
              "      <td>17.0</td>\n",
              "      <td>48.0</td>\n",
              "      <td>19.0</td>\n",
              "      <td>1013.4</td>\n",
              "      <td>1010.1</td>\n",
              "      <td>NaN</td>\n",
              "      <td>NaN</td>\n",
              "      <td>16.3</td>\n",
              "      <td>25.5</td>\n",
              "      <td>No</td>\n",
              "      <td>0.0</td>\n",
              "      <td>No</td>\n",
              "    </tr>\n",
              "    <tr>\n",
              "      <th>8</th>\n",
              "      <td>2008-12-09</td>\n",
              "      <td>Albury</td>\n",
              "      <td>9.7</td>\n",
              "      <td>31.9</td>\n",
              "      <td>0.0</td>\n",
              "      <td>NaN</td>\n",
              "      <td>NaN</td>\n",
              "      <td>NNW</td>\n",
              "      <td>80.0</td>\n",
              "      <td>SE</td>\n",
              "      <td>NW</td>\n",
              "      <td>7.0</td>\n",
              "      <td>28.0</td>\n",
              "      <td>42.0</td>\n",
              "      <td>9.0</td>\n",
              "      <td>1008.9</td>\n",
              "      <td>1003.6</td>\n",
              "      <td>NaN</td>\n",
              "      <td>NaN</td>\n",
              "      <td>18.3</td>\n",
              "      <td>30.2</td>\n",
              "      <td>No</td>\n",
              "      <td>1.4</td>\n",
              "      <td>Yes</td>\n",
              "    </tr>\n",
              "    <tr>\n",
              "      <th>9</th>\n",
              "      <td>2008-12-10</td>\n",
              "      <td>Albury</td>\n",
              "      <td>13.1</td>\n",
              "      <td>30.1</td>\n",
              "      <td>1.4</td>\n",
              "      <td>NaN</td>\n",
              "      <td>NaN</td>\n",
              "      <td>W</td>\n",
              "      <td>28.0</td>\n",
              "      <td>S</td>\n",
              "      <td>SSE</td>\n",
              "      <td>15.0</td>\n",
              "      <td>11.0</td>\n",
              "      <td>58.0</td>\n",
              "      <td>27.0</td>\n",
              "      <td>1007.0</td>\n",
              "      <td>1005.7</td>\n",
              "      <td>NaN</td>\n",
              "      <td>NaN</td>\n",
              "      <td>20.1</td>\n",
              "      <td>28.2</td>\n",
              "      <td>Yes</td>\n",
              "      <td>0.0</td>\n",
              "      <td>No</td>\n",
              "    </tr>\n",
              "  </tbody>\n",
              "</table>\n",
              "</div>"
            ],
            "text/plain": [
              "         Date Location  MinTemp  ...  RainToday  RISK_MM  RainTomorrow\n",
              "0  2008-12-01   Albury     13.4  ...         No      0.0            No\n",
              "1  2008-12-02   Albury      7.4  ...         No      0.0            No\n",
              "2  2008-12-03   Albury     12.9  ...         No      0.0            No\n",
              "3  2008-12-04   Albury      9.2  ...         No      1.0            No\n",
              "4  2008-12-05   Albury     17.5  ...         No      0.2            No\n",
              "5  2008-12-06   Albury     14.6  ...         No      0.0            No\n",
              "6  2008-12-07   Albury     14.3  ...         No      0.0            No\n",
              "7  2008-12-08   Albury      7.7  ...         No      0.0            No\n",
              "8  2008-12-09   Albury      9.7  ...         No      1.4           Yes\n",
              "9  2008-12-10   Albury     13.1  ...        Yes      0.0            No\n",
              "\n",
              "[10 rows x 24 columns]"
            ]
          },
          "metadata": {
            "tags": []
          },
          "execution_count": 8
        }
      ]
    },
    {
      "cell_type": "code",
      "metadata": {
        "id": "iqNUBxmBJzja",
        "colab_type": "code",
        "outputId": "160f8f75-d636-4873-ee13-90acdb949214",
        "colab": {
          "base_uri": "https://localhost:8080/",
          "height": 550
        }
      },
      "source": [
        "Xy_original.info()"
      ],
      "execution_count": 9,
      "outputs": [
        {
          "output_type": "stream",
          "text": [
            "<class 'pandas.core.frame.DataFrame'>\n",
            "RangeIndex: 142193 entries, 0 to 142192\n",
            "Data columns (total 24 columns):\n",
            "Date             142193 non-null object\n",
            "Location         142193 non-null object\n",
            "MinTemp          141556 non-null float64\n",
            "MaxTemp          141871 non-null float64\n",
            "Rainfall         140787 non-null float64\n",
            "Evaporation      81350 non-null float64\n",
            "Sunshine         74377 non-null float64\n",
            "WindGustDir      132863 non-null object\n",
            "WindGustSpeed    132923 non-null float64\n",
            "WindDir9am       132180 non-null object\n",
            "WindDir3pm       138415 non-null object\n",
            "WindSpeed9am     140845 non-null float64\n",
            "WindSpeed3pm     139563 non-null float64\n",
            "Humidity9am      140419 non-null float64\n",
            "Humidity3pm      138583 non-null float64\n",
            "Pressure9am      128179 non-null float64\n",
            "Pressure3pm      128212 non-null float64\n",
            "Cloud9am         88536 non-null float64\n",
            "Cloud3pm         85099 non-null float64\n",
            "Temp9am          141289 non-null float64\n",
            "Temp3pm          139467 non-null float64\n",
            "RainToday        140787 non-null object\n",
            "RISK_MM          142193 non-null float64\n",
            "RainTomorrow     142193 non-null object\n",
            "dtypes: float64(17), object(7)\n",
            "memory usage: 26.0+ MB\n"
          ],
          "name": "stdout"
        }
      ]
    },
    {
      "cell_type": "code",
      "metadata": {
        "id": "KmRslpg0Jzjl",
        "colab_type": "code",
        "outputId": "09581950-40b9-4f73-fc04-d84d0b674b5d",
        "colab": {
          "base_uri": "https://localhost:8080/",
          "height": 320
        }
      },
      "source": [
        "Xy_original.describe()"
      ],
      "execution_count": 10,
      "outputs": [
        {
          "output_type": "execute_result",
          "data": {
            "text/html": [
              "<div>\n",
              "<style scoped>\n",
              "    .dataframe tbody tr th:only-of-type {\n",
              "        vertical-align: middle;\n",
              "    }\n",
              "\n",
              "    .dataframe tbody tr th {\n",
              "        vertical-align: top;\n",
              "    }\n",
              "\n",
              "    .dataframe thead th {\n",
              "        text-align: right;\n",
              "    }\n",
              "</style>\n",
              "<table border=\"1\" class=\"dataframe\">\n",
              "  <thead>\n",
              "    <tr style=\"text-align: right;\">\n",
              "      <th></th>\n",
              "      <th>MinTemp</th>\n",
              "      <th>MaxTemp</th>\n",
              "      <th>Rainfall</th>\n",
              "      <th>Evaporation</th>\n",
              "      <th>Sunshine</th>\n",
              "      <th>WindGustSpeed</th>\n",
              "      <th>WindSpeed9am</th>\n",
              "      <th>WindSpeed3pm</th>\n",
              "      <th>Humidity9am</th>\n",
              "      <th>Humidity3pm</th>\n",
              "      <th>Pressure9am</th>\n",
              "      <th>Pressure3pm</th>\n",
              "      <th>Cloud9am</th>\n",
              "      <th>Cloud3pm</th>\n",
              "      <th>Temp9am</th>\n",
              "      <th>Temp3pm</th>\n",
              "      <th>RISK_MM</th>\n",
              "    </tr>\n",
              "  </thead>\n",
              "  <tbody>\n",
              "    <tr>\n",
              "      <th>count</th>\n",
              "      <td>141556.000000</td>\n",
              "      <td>141871.000000</td>\n",
              "      <td>140787.000000</td>\n",
              "      <td>81350.000000</td>\n",
              "      <td>74377.000000</td>\n",
              "      <td>132923.000000</td>\n",
              "      <td>140845.000000</td>\n",
              "      <td>139563.000000</td>\n",
              "      <td>140419.000000</td>\n",
              "      <td>138583.000000</td>\n",
              "      <td>128179.000000</td>\n",
              "      <td>128212.000000</td>\n",
              "      <td>88536.000000</td>\n",
              "      <td>85099.000000</td>\n",
              "      <td>141289.000000</td>\n",
              "      <td>139467.000000</td>\n",
              "      <td>142193.000000</td>\n",
              "    </tr>\n",
              "    <tr>\n",
              "      <th>mean</th>\n",
              "      <td>12.186400</td>\n",
              "      <td>23.226784</td>\n",
              "      <td>2.349974</td>\n",
              "      <td>5.469824</td>\n",
              "      <td>7.624853</td>\n",
              "      <td>39.984292</td>\n",
              "      <td>14.001988</td>\n",
              "      <td>18.637576</td>\n",
              "      <td>68.843810</td>\n",
              "      <td>51.482606</td>\n",
              "      <td>1017.653758</td>\n",
              "      <td>1015.258204</td>\n",
              "      <td>4.437189</td>\n",
              "      <td>4.503167</td>\n",
              "      <td>16.987509</td>\n",
              "      <td>21.687235</td>\n",
              "      <td>2.360682</td>\n",
              "    </tr>\n",
              "    <tr>\n",
              "      <th>std</th>\n",
              "      <td>6.403283</td>\n",
              "      <td>7.117618</td>\n",
              "      <td>8.465173</td>\n",
              "      <td>4.188537</td>\n",
              "      <td>3.781525</td>\n",
              "      <td>13.588801</td>\n",
              "      <td>8.893337</td>\n",
              "      <td>8.803345</td>\n",
              "      <td>19.051293</td>\n",
              "      <td>20.797772</td>\n",
              "      <td>7.105476</td>\n",
              "      <td>7.036677</td>\n",
              "      <td>2.887016</td>\n",
              "      <td>2.720633</td>\n",
              "      <td>6.492838</td>\n",
              "      <td>6.937594</td>\n",
              "      <td>8.477969</td>\n",
              "    </tr>\n",
              "    <tr>\n",
              "      <th>min</th>\n",
              "      <td>-8.500000</td>\n",
              "      <td>-4.800000</td>\n",
              "      <td>0.000000</td>\n",
              "      <td>0.000000</td>\n",
              "      <td>0.000000</td>\n",
              "      <td>6.000000</td>\n",
              "      <td>0.000000</td>\n",
              "      <td>0.000000</td>\n",
              "      <td>0.000000</td>\n",
              "      <td>0.000000</td>\n",
              "      <td>980.500000</td>\n",
              "      <td>977.100000</td>\n",
              "      <td>0.000000</td>\n",
              "      <td>0.000000</td>\n",
              "      <td>-7.200000</td>\n",
              "      <td>-5.400000</td>\n",
              "      <td>0.000000</td>\n",
              "    </tr>\n",
              "    <tr>\n",
              "      <th>25%</th>\n",
              "      <td>7.600000</td>\n",
              "      <td>17.900000</td>\n",
              "      <td>0.000000</td>\n",
              "      <td>2.600000</td>\n",
              "      <td>4.900000</td>\n",
              "      <td>31.000000</td>\n",
              "      <td>7.000000</td>\n",
              "      <td>13.000000</td>\n",
              "      <td>57.000000</td>\n",
              "      <td>37.000000</td>\n",
              "      <td>1012.900000</td>\n",
              "      <td>1010.400000</td>\n",
              "      <td>1.000000</td>\n",
              "      <td>2.000000</td>\n",
              "      <td>12.300000</td>\n",
              "      <td>16.600000</td>\n",
              "      <td>0.000000</td>\n",
              "    </tr>\n",
              "    <tr>\n",
              "      <th>50%</th>\n",
              "      <td>12.000000</td>\n",
              "      <td>22.600000</td>\n",
              "      <td>0.000000</td>\n",
              "      <td>4.800000</td>\n",
              "      <td>8.500000</td>\n",
              "      <td>39.000000</td>\n",
              "      <td>13.000000</td>\n",
              "      <td>19.000000</td>\n",
              "      <td>70.000000</td>\n",
              "      <td>52.000000</td>\n",
              "      <td>1017.600000</td>\n",
              "      <td>1015.200000</td>\n",
              "      <td>5.000000</td>\n",
              "      <td>5.000000</td>\n",
              "      <td>16.700000</td>\n",
              "      <td>21.100000</td>\n",
              "      <td>0.000000</td>\n",
              "    </tr>\n",
              "    <tr>\n",
              "      <th>75%</th>\n",
              "      <td>16.800000</td>\n",
              "      <td>28.200000</td>\n",
              "      <td>0.800000</td>\n",
              "      <td>7.400000</td>\n",
              "      <td>10.600000</td>\n",
              "      <td>48.000000</td>\n",
              "      <td>19.000000</td>\n",
              "      <td>24.000000</td>\n",
              "      <td>83.000000</td>\n",
              "      <td>66.000000</td>\n",
              "      <td>1022.400000</td>\n",
              "      <td>1020.000000</td>\n",
              "      <td>7.000000</td>\n",
              "      <td>7.000000</td>\n",
              "      <td>21.600000</td>\n",
              "      <td>26.400000</td>\n",
              "      <td>0.800000</td>\n",
              "    </tr>\n",
              "    <tr>\n",
              "      <th>max</th>\n",
              "      <td>33.900000</td>\n",
              "      <td>48.100000</td>\n",
              "      <td>371.000000</td>\n",
              "      <td>145.000000</td>\n",
              "      <td>14.500000</td>\n",
              "      <td>135.000000</td>\n",
              "      <td>130.000000</td>\n",
              "      <td>87.000000</td>\n",
              "      <td>100.000000</td>\n",
              "      <td>100.000000</td>\n",
              "      <td>1041.000000</td>\n",
              "      <td>1039.600000</td>\n",
              "      <td>9.000000</td>\n",
              "      <td>9.000000</td>\n",
              "      <td>40.200000</td>\n",
              "      <td>46.700000</td>\n",
              "      <td>371.000000</td>\n",
              "    </tr>\n",
              "  </tbody>\n",
              "</table>\n",
              "</div>"
            ],
            "text/plain": [
              "             MinTemp        MaxTemp  ...        Temp3pm        RISK_MM\n",
              "count  141556.000000  141871.000000  ...  139467.000000  142193.000000\n",
              "mean       12.186400      23.226784  ...      21.687235       2.360682\n",
              "std         6.403283       7.117618  ...       6.937594       8.477969\n",
              "min        -8.500000      -4.800000  ...      -5.400000       0.000000\n",
              "25%         7.600000      17.900000  ...      16.600000       0.000000\n",
              "50%        12.000000      22.600000  ...      21.100000       0.000000\n",
              "75%        16.800000      28.200000  ...      26.400000       0.800000\n",
              "max        33.900000      48.100000  ...      46.700000     371.000000\n",
              "\n",
              "[8 rows x 17 columns]"
            ]
          },
          "metadata": {
            "tags": []
          },
          "execution_count": 10
        }
      ]
    },
    {
      "cell_type": "code",
      "metadata": {
        "id": "HS7-oGZcJzjs",
        "colab_type": "code",
        "outputId": "016bf05f-8411-46dc-e58d-d08793590a3e",
        "colab": {
          "base_uri": "https://localhost:8080/",
          "height": 476
        }
      },
      "source": [
        "Xy_original.isnull().sum()"
      ],
      "execution_count": 11,
      "outputs": [
        {
          "output_type": "execute_result",
          "data": {
            "text/plain": [
              "Date                 0\n",
              "Location             0\n",
              "MinTemp            637\n",
              "MaxTemp            322\n",
              "Rainfall          1406\n",
              "Evaporation      60843\n",
              "Sunshine         67816\n",
              "WindGustDir       9330\n",
              "WindGustSpeed     9270\n",
              "WindDir9am       10013\n",
              "WindDir3pm        3778\n",
              "WindSpeed9am      1348\n",
              "WindSpeed3pm      2630\n",
              "Humidity9am       1774\n",
              "Humidity3pm       3610\n",
              "Pressure9am      14014\n",
              "Pressure3pm      13981\n",
              "Cloud9am         53657\n",
              "Cloud3pm         57094\n",
              "Temp9am            904\n",
              "Temp3pm           2726\n",
              "RainToday         1406\n",
              "RISK_MM              0\n",
              "RainTomorrow         0\n",
              "dtype: int64"
            ]
          },
          "metadata": {
            "tags": []
          },
          "execution_count": 11
        }
      ]
    },
    {
      "cell_type": "code",
      "metadata": {
        "id": "lB3xOOY5Jzj2",
        "colab_type": "code",
        "outputId": "a925c221-7258-4aa7-d582-3d8c75b5137f",
        "colab": {
          "base_uri": "https://localhost:8080/",
          "height": 35
        }
      },
      "source": [
        "print('Total number of NaN in the dataframe: ', Xy_original.isnull().sum().sum())"
      ],
      "execution_count": 12,
      "outputs": [
        {
          "output_type": "stream",
          "text": [
            "Total number of NaN in the dataframe:  316559\n"
          ],
          "name": "stdout"
        }
      ]
    },
    {
      "cell_type": "markdown",
      "metadata": {
        "id": "CPvZVca_Jzj8",
        "colab_type": "text"
      },
      "source": [
        "### 1.d) Data Cleaning"
      ]
    },
    {
      "cell_type": "code",
      "metadata": {
        "id": "GZp8GdZbJzkA",
        "colab_type": "code",
        "outputId": "27184f0d-1787-4576-da0e-8f27eb631f43",
        "colab": {
          "base_uri": "https://localhost:8080/",
          "height": 383
        }
      },
      "source": [
        "# Standardize the class column to the name of targetVar if required\n",
        "# Xy_original = Xy_original.rename(columns={'RainTomorrow': 'targetVar'})\n",
        "\n",
        "# Dropping features\n",
        "Xy_original.drop(columns=['Date','RISK_MM'], inplace=True)\n",
        "\n",
        "# Impute missing values\n",
        "Xy_original['MinTemp'].fillna(value=Xy_original['MinTemp'].median(), inplace=True)\n",
        "Xy_original['MaxTemp'].fillna(value=Xy_original['MaxTemp'].median(), inplace=True)\n",
        "Xy_original['Rainfall'].fillna(0.0, inplace=True)\n",
        "Xy_original['Evaporation'].fillna(0.0, inplace=True)\n",
        "Xy_original['Sunshine'].fillna(value=Xy_original['Sunshine'].median(), inplace=True)\n",
        "Xy_original['WindGustDir'].fillna(\"UNKNOWN\", inplace=True)\n",
        "Xy_original['WindGustSpeed'].fillna(0, inplace=True)\n",
        "Xy_original['WindDir9am'].fillna(\"UNKNOWN\", inplace=True)\n",
        "Xy_original['WindDir3pm'].fillna(\"UNKNOWN\", inplace=True)\n",
        "Xy_original['WindSpeed9am'].fillna(0, inplace=True)\n",
        "Xy_original['WindSpeed3pm'].fillna(0, inplace=True)\n",
        "Xy_original['Humidity9am'].fillna(value=Xy_original['Humidity9am'].median(), inplace=True)\n",
        "Xy_original['Humidity3pm'].fillna(value=Xy_original['Humidity3pm'].median(), inplace=True)\n",
        "Xy_original['Pressure9am'].fillna(value=Xy_original['Pressure9am'].median(), inplace=True)\n",
        "Xy_original['Pressure3pm'].fillna(value=Xy_original['Pressure3pm'].median(), inplace=True)\n",
        "Xy_original['Cloud9am'].fillna(value=Xy_original['Cloud9am'].median(), inplace=True)\n",
        "Xy_original['Cloud3pm'].fillna(value=Xy_original['Cloud3pm'].median(), inplace=True)\n",
        "Xy_original['Temp9am'].fillna(value=Xy_original['Temp9am'].median(), inplace=True)\n",
        "Xy_original['Temp3pm'].fillna(value=Xy_original['Temp3pm'].median(), inplace=True)\n",
        "Xy_original['RainToday'].fillna(\"No\", inplace=True)\n",
        "\n",
        "# Convert columns from one data type to another\n",
        "# Xy_original.column_name = Xy_original.column_name.astype('int')\n",
        "Xy_original['Location'] = Xy_original['Location'].astype('category')\n",
        "Xy_original['WindGustDir'] = Xy_original['WindGustDir'].astype('category')\n",
        "Xy_original['WindDir9am'] = Xy_original['WindDir9am'].astype('category')\n",
        "Xy_original['WindDir3pm'] = Xy_original['WindDir3pm'].astype('category')\n",
        "Xy_original['RainToday'] = Xy_original['RainToday'].astype('category')\n",
        "\n",
        "# Convert features with Yes/No levels into categorical feature of 1/0\n",
        "def reClassRainTomorrow(target):\n",
        "    if (target == 'Yes'): return 1\n",
        "    else: return 0\n",
        "Xy_original['targetVar'] = Xy_original['RainTomorrow'].apply(reClassRainTomorrow)\n",
        "Xy_original.drop(columns=['RainTomorrow'], inplace=True)\n",
        "\n",
        "# Take a peek at the dataframe after cleaning\n",
        "Xy_original.head(10)"
      ],
      "execution_count": 13,
      "outputs": [
        {
          "output_type": "execute_result",
          "data": {
            "text/html": [
              "<div>\n",
              "<style scoped>\n",
              "    .dataframe tbody tr th:only-of-type {\n",
              "        vertical-align: middle;\n",
              "    }\n",
              "\n",
              "    .dataframe tbody tr th {\n",
              "        vertical-align: top;\n",
              "    }\n",
              "\n",
              "    .dataframe thead th {\n",
              "        text-align: right;\n",
              "    }\n",
              "</style>\n",
              "<table border=\"1\" class=\"dataframe\">\n",
              "  <thead>\n",
              "    <tr style=\"text-align: right;\">\n",
              "      <th></th>\n",
              "      <th>Location</th>\n",
              "      <th>MinTemp</th>\n",
              "      <th>MaxTemp</th>\n",
              "      <th>Rainfall</th>\n",
              "      <th>Evaporation</th>\n",
              "      <th>Sunshine</th>\n",
              "      <th>WindGustDir</th>\n",
              "      <th>WindGustSpeed</th>\n",
              "      <th>WindDir9am</th>\n",
              "      <th>WindDir3pm</th>\n",
              "      <th>WindSpeed9am</th>\n",
              "      <th>WindSpeed3pm</th>\n",
              "      <th>Humidity9am</th>\n",
              "      <th>Humidity3pm</th>\n",
              "      <th>Pressure9am</th>\n",
              "      <th>Pressure3pm</th>\n",
              "      <th>Cloud9am</th>\n",
              "      <th>Cloud3pm</th>\n",
              "      <th>Temp9am</th>\n",
              "      <th>Temp3pm</th>\n",
              "      <th>RainToday</th>\n",
              "      <th>targetVar</th>\n",
              "    </tr>\n",
              "  </thead>\n",
              "  <tbody>\n",
              "    <tr>\n",
              "      <th>0</th>\n",
              "      <td>Albury</td>\n",
              "      <td>13.4</td>\n",
              "      <td>22.9</td>\n",
              "      <td>0.6</td>\n",
              "      <td>0.0</td>\n",
              "      <td>8.5</td>\n",
              "      <td>W</td>\n",
              "      <td>44.0</td>\n",
              "      <td>W</td>\n",
              "      <td>WNW</td>\n",
              "      <td>20.0</td>\n",
              "      <td>24.0</td>\n",
              "      <td>71.0</td>\n",
              "      <td>22.0</td>\n",
              "      <td>1007.7</td>\n",
              "      <td>1007.1</td>\n",
              "      <td>8.0</td>\n",
              "      <td>5.0</td>\n",
              "      <td>16.9</td>\n",
              "      <td>21.8</td>\n",
              "      <td>No</td>\n",
              "      <td>0</td>\n",
              "    </tr>\n",
              "    <tr>\n",
              "      <th>1</th>\n",
              "      <td>Albury</td>\n",
              "      <td>7.4</td>\n",
              "      <td>25.1</td>\n",
              "      <td>0.0</td>\n",
              "      <td>0.0</td>\n",
              "      <td>8.5</td>\n",
              "      <td>WNW</td>\n",
              "      <td>44.0</td>\n",
              "      <td>NNW</td>\n",
              "      <td>WSW</td>\n",
              "      <td>4.0</td>\n",
              "      <td>22.0</td>\n",
              "      <td>44.0</td>\n",
              "      <td>25.0</td>\n",
              "      <td>1010.6</td>\n",
              "      <td>1007.8</td>\n",
              "      <td>5.0</td>\n",
              "      <td>5.0</td>\n",
              "      <td>17.2</td>\n",
              "      <td>24.3</td>\n",
              "      <td>No</td>\n",
              "      <td>0</td>\n",
              "    </tr>\n",
              "    <tr>\n",
              "      <th>2</th>\n",
              "      <td>Albury</td>\n",
              "      <td>12.9</td>\n",
              "      <td>25.7</td>\n",
              "      <td>0.0</td>\n",
              "      <td>0.0</td>\n",
              "      <td>8.5</td>\n",
              "      <td>WSW</td>\n",
              "      <td>46.0</td>\n",
              "      <td>W</td>\n",
              "      <td>WSW</td>\n",
              "      <td>19.0</td>\n",
              "      <td>26.0</td>\n",
              "      <td>38.0</td>\n",
              "      <td>30.0</td>\n",
              "      <td>1007.6</td>\n",
              "      <td>1008.7</td>\n",
              "      <td>5.0</td>\n",
              "      <td>2.0</td>\n",
              "      <td>21.0</td>\n",
              "      <td>23.2</td>\n",
              "      <td>No</td>\n",
              "      <td>0</td>\n",
              "    </tr>\n",
              "    <tr>\n",
              "      <th>3</th>\n",
              "      <td>Albury</td>\n",
              "      <td>9.2</td>\n",
              "      <td>28.0</td>\n",
              "      <td>0.0</td>\n",
              "      <td>0.0</td>\n",
              "      <td>8.5</td>\n",
              "      <td>NE</td>\n",
              "      <td>24.0</td>\n",
              "      <td>SE</td>\n",
              "      <td>E</td>\n",
              "      <td>11.0</td>\n",
              "      <td>9.0</td>\n",
              "      <td>45.0</td>\n",
              "      <td>16.0</td>\n",
              "      <td>1017.6</td>\n",
              "      <td>1012.8</td>\n",
              "      <td>5.0</td>\n",
              "      <td>5.0</td>\n",
              "      <td>18.1</td>\n",
              "      <td>26.5</td>\n",
              "      <td>No</td>\n",
              "      <td>0</td>\n",
              "    </tr>\n",
              "    <tr>\n",
              "      <th>4</th>\n",
              "      <td>Albury</td>\n",
              "      <td>17.5</td>\n",
              "      <td>32.3</td>\n",
              "      <td>1.0</td>\n",
              "      <td>0.0</td>\n",
              "      <td>8.5</td>\n",
              "      <td>W</td>\n",
              "      <td>41.0</td>\n",
              "      <td>ENE</td>\n",
              "      <td>NW</td>\n",
              "      <td>7.0</td>\n",
              "      <td>20.0</td>\n",
              "      <td>82.0</td>\n",
              "      <td>33.0</td>\n",
              "      <td>1010.8</td>\n",
              "      <td>1006.0</td>\n",
              "      <td>7.0</td>\n",
              "      <td>8.0</td>\n",
              "      <td>17.8</td>\n",
              "      <td>29.7</td>\n",
              "      <td>No</td>\n",
              "      <td>0</td>\n",
              "    </tr>\n",
              "    <tr>\n",
              "      <th>5</th>\n",
              "      <td>Albury</td>\n",
              "      <td>14.6</td>\n",
              "      <td>29.7</td>\n",
              "      <td>0.2</td>\n",
              "      <td>0.0</td>\n",
              "      <td>8.5</td>\n",
              "      <td>WNW</td>\n",
              "      <td>56.0</td>\n",
              "      <td>W</td>\n",
              "      <td>W</td>\n",
              "      <td>19.0</td>\n",
              "      <td>24.0</td>\n",
              "      <td>55.0</td>\n",
              "      <td>23.0</td>\n",
              "      <td>1009.2</td>\n",
              "      <td>1005.4</td>\n",
              "      <td>5.0</td>\n",
              "      <td>5.0</td>\n",
              "      <td>20.6</td>\n",
              "      <td>28.9</td>\n",
              "      <td>No</td>\n",
              "      <td>0</td>\n",
              "    </tr>\n",
              "    <tr>\n",
              "      <th>6</th>\n",
              "      <td>Albury</td>\n",
              "      <td>14.3</td>\n",
              "      <td>25.0</td>\n",
              "      <td>0.0</td>\n",
              "      <td>0.0</td>\n",
              "      <td>8.5</td>\n",
              "      <td>W</td>\n",
              "      <td>50.0</td>\n",
              "      <td>SW</td>\n",
              "      <td>W</td>\n",
              "      <td>20.0</td>\n",
              "      <td>24.0</td>\n",
              "      <td>49.0</td>\n",
              "      <td>19.0</td>\n",
              "      <td>1009.6</td>\n",
              "      <td>1008.2</td>\n",
              "      <td>1.0</td>\n",
              "      <td>5.0</td>\n",
              "      <td>18.1</td>\n",
              "      <td>24.6</td>\n",
              "      <td>No</td>\n",
              "      <td>0</td>\n",
              "    </tr>\n",
              "    <tr>\n",
              "      <th>7</th>\n",
              "      <td>Albury</td>\n",
              "      <td>7.7</td>\n",
              "      <td>26.7</td>\n",
              "      <td>0.0</td>\n",
              "      <td>0.0</td>\n",
              "      <td>8.5</td>\n",
              "      <td>W</td>\n",
              "      <td>35.0</td>\n",
              "      <td>SSE</td>\n",
              "      <td>W</td>\n",
              "      <td>6.0</td>\n",
              "      <td>17.0</td>\n",
              "      <td>48.0</td>\n",
              "      <td>19.0</td>\n",
              "      <td>1013.4</td>\n",
              "      <td>1010.1</td>\n",
              "      <td>5.0</td>\n",
              "      <td>5.0</td>\n",
              "      <td>16.3</td>\n",
              "      <td>25.5</td>\n",
              "      <td>No</td>\n",
              "      <td>0</td>\n",
              "    </tr>\n",
              "    <tr>\n",
              "      <th>8</th>\n",
              "      <td>Albury</td>\n",
              "      <td>9.7</td>\n",
              "      <td>31.9</td>\n",
              "      <td>0.0</td>\n",
              "      <td>0.0</td>\n",
              "      <td>8.5</td>\n",
              "      <td>NNW</td>\n",
              "      <td>80.0</td>\n",
              "      <td>SE</td>\n",
              "      <td>NW</td>\n",
              "      <td>7.0</td>\n",
              "      <td>28.0</td>\n",
              "      <td>42.0</td>\n",
              "      <td>9.0</td>\n",
              "      <td>1008.9</td>\n",
              "      <td>1003.6</td>\n",
              "      <td>5.0</td>\n",
              "      <td>5.0</td>\n",
              "      <td>18.3</td>\n",
              "      <td>30.2</td>\n",
              "      <td>No</td>\n",
              "      <td>1</td>\n",
              "    </tr>\n",
              "    <tr>\n",
              "      <th>9</th>\n",
              "      <td>Albury</td>\n",
              "      <td>13.1</td>\n",
              "      <td>30.1</td>\n",
              "      <td>1.4</td>\n",
              "      <td>0.0</td>\n",
              "      <td>8.5</td>\n",
              "      <td>W</td>\n",
              "      <td>28.0</td>\n",
              "      <td>S</td>\n",
              "      <td>SSE</td>\n",
              "      <td>15.0</td>\n",
              "      <td>11.0</td>\n",
              "      <td>58.0</td>\n",
              "      <td>27.0</td>\n",
              "      <td>1007.0</td>\n",
              "      <td>1005.7</td>\n",
              "      <td>5.0</td>\n",
              "      <td>5.0</td>\n",
              "      <td>20.1</td>\n",
              "      <td>28.2</td>\n",
              "      <td>Yes</td>\n",
              "      <td>0</td>\n",
              "    </tr>\n",
              "  </tbody>\n",
              "</table>\n",
              "</div>"
            ],
            "text/plain": [
              "  Location  MinTemp  MaxTemp  Rainfall  ...  Temp9am  Temp3pm RainToday  targetVar\n",
              "0   Albury     13.4     22.9       0.6  ...     16.9     21.8        No          0\n",
              "1   Albury      7.4     25.1       0.0  ...     17.2     24.3        No          0\n",
              "2   Albury     12.9     25.7       0.0  ...     21.0     23.2        No          0\n",
              "3   Albury      9.2     28.0       0.0  ...     18.1     26.5        No          0\n",
              "4   Albury     17.5     32.3       1.0  ...     17.8     29.7        No          0\n",
              "5   Albury     14.6     29.7       0.2  ...     20.6     28.9        No          0\n",
              "6   Albury     14.3     25.0       0.0  ...     18.1     24.6        No          0\n",
              "7   Albury      7.7     26.7       0.0  ...     16.3     25.5        No          0\n",
              "8   Albury      9.7     31.9       0.0  ...     18.3     30.2        No          1\n",
              "9   Albury     13.1     30.1       1.4  ...     20.1     28.2       Yes          0\n",
              "\n",
              "[10 rows x 22 columns]"
            ]
          },
          "metadata": {
            "tags": []
          },
          "execution_count": 13
        }
      ]
    },
    {
      "cell_type": "code",
      "metadata": {
        "id": "fM5O4fSSJzkH",
        "colab_type": "code",
        "outputId": "08e0d425-8e01-4e0d-b3c5-b339480d5007",
        "colab": {
          "base_uri": "https://localhost:8080/",
          "height": 513
        }
      },
      "source": [
        "Xy_original.info()"
      ],
      "execution_count": 14,
      "outputs": [
        {
          "output_type": "stream",
          "text": [
            "<class 'pandas.core.frame.DataFrame'>\n",
            "RangeIndex: 142193 entries, 0 to 142192\n",
            "Data columns (total 22 columns):\n",
            "Location         142193 non-null category\n",
            "MinTemp          142193 non-null float64\n",
            "MaxTemp          142193 non-null float64\n",
            "Rainfall         142193 non-null float64\n",
            "Evaporation      142193 non-null float64\n",
            "Sunshine         142193 non-null float64\n",
            "WindGustDir      142193 non-null category\n",
            "WindGustSpeed    142193 non-null float64\n",
            "WindDir9am       142193 non-null category\n",
            "WindDir3pm       142193 non-null category\n",
            "WindSpeed9am     142193 non-null float64\n",
            "WindSpeed3pm     142193 non-null float64\n",
            "Humidity9am      142193 non-null float64\n",
            "Humidity3pm      142193 non-null float64\n",
            "Pressure9am      142193 non-null float64\n",
            "Pressure3pm      142193 non-null float64\n",
            "Cloud9am         142193 non-null float64\n",
            "Cloud3pm         142193 non-null float64\n",
            "Temp9am          142193 non-null float64\n",
            "Temp3pm          142193 non-null float64\n",
            "RainToday        142193 non-null category\n",
            "targetVar        142193 non-null int64\n",
            "dtypes: category(5), float64(16), int64(1)\n",
            "memory usage: 19.1 MB\n"
          ],
          "name": "stdout"
        }
      ]
    },
    {
      "cell_type": "code",
      "metadata": {
        "id": "4w6Ya_6JJzkN",
        "colab_type": "code",
        "outputId": "87eda089-015d-4efc-9be7-6f8e41210e12",
        "colab": {
          "base_uri": "https://localhost:8080/",
          "height": 320
        }
      },
      "source": [
        "Xy_original.describe()"
      ],
      "execution_count": 15,
      "outputs": [
        {
          "output_type": "execute_result",
          "data": {
            "text/html": [
              "<div>\n",
              "<style scoped>\n",
              "    .dataframe tbody tr th:only-of-type {\n",
              "        vertical-align: middle;\n",
              "    }\n",
              "\n",
              "    .dataframe tbody tr th {\n",
              "        vertical-align: top;\n",
              "    }\n",
              "\n",
              "    .dataframe thead th {\n",
              "        text-align: right;\n",
              "    }\n",
              "</style>\n",
              "<table border=\"1\" class=\"dataframe\">\n",
              "  <thead>\n",
              "    <tr style=\"text-align: right;\">\n",
              "      <th></th>\n",
              "      <th>MinTemp</th>\n",
              "      <th>MaxTemp</th>\n",
              "      <th>Rainfall</th>\n",
              "      <th>Evaporation</th>\n",
              "      <th>Sunshine</th>\n",
              "      <th>WindGustSpeed</th>\n",
              "      <th>WindSpeed9am</th>\n",
              "      <th>WindSpeed3pm</th>\n",
              "      <th>Humidity9am</th>\n",
              "      <th>Humidity3pm</th>\n",
              "      <th>Pressure9am</th>\n",
              "      <th>Pressure3pm</th>\n",
              "      <th>Cloud9am</th>\n",
              "      <th>Cloud3pm</th>\n",
              "      <th>Temp9am</th>\n",
              "      <th>Temp3pm</th>\n",
              "      <th>targetVar</th>\n",
              "    </tr>\n",
              "  </thead>\n",
              "  <tbody>\n",
              "    <tr>\n",
              "      <th>count</th>\n",
              "      <td>142193.000000</td>\n",
              "      <td>142193.000000</td>\n",
              "      <td>142193.000000</td>\n",
              "      <td>142193.000000</td>\n",
              "      <td>142193.000000</td>\n",
              "      <td>142193.000000</td>\n",
              "      <td>142193.000000</td>\n",
              "      <td>142193.000000</td>\n",
              "      <td>142193.000000</td>\n",
              "      <td>142193.000000</td>\n",
              "      <td>142193.000000</td>\n",
              "      <td>142193.000000</td>\n",
              "      <td>142193.000000</td>\n",
              "      <td>142193.000000</td>\n",
              "      <td>142193.000000</td>\n",
              "      <td>142193.000000</td>\n",
              "      <td>142193.000000</td>\n",
              "    </tr>\n",
              "    <tr>\n",
              "      <th>mean</th>\n",
              "      <td>12.185565</td>\n",
              "      <td>23.225365</td>\n",
              "      <td>2.326738</td>\n",
              "      <td>3.129340</td>\n",
              "      <td>8.042236</td>\n",
              "      <td>37.377592</td>\n",
              "      <td>13.869248</td>\n",
              "      <td>18.292855</td>\n",
              "      <td>68.858235</td>\n",
              "      <td>51.495742</td>\n",
              "      <td>1017.648460</td>\n",
              "      <td>1015.252481</td>\n",
              "      <td>4.649568</td>\n",
              "      <td>4.702658</td>\n",
              "      <td>16.985681</td>\n",
              "      <td>21.675977</td>\n",
              "      <td>0.224181</td>\n",
              "    </tr>\n",
              "    <tr>\n",
              "      <th>std</th>\n",
              "      <td>6.388936</td>\n",
              "      <td>7.109617</td>\n",
              "      <td>8.426426</td>\n",
              "      <td>4.166674</td>\n",
              "      <td>2.769638</td>\n",
              "      <td>16.433198</td>\n",
              "      <td>8.954477</td>\n",
              "      <td>9.075870</td>\n",
              "      <td>18.932512</td>\n",
              "      <td>20.532227</td>\n",
              "      <td>6.746267</td>\n",
              "      <td>6.681810</td>\n",
              "      <td>2.294357</td>\n",
              "      <td>2.118753</td>\n",
              "      <td>6.472206</td>\n",
              "      <td>6.871243</td>\n",
              "      <td>0.417043</td>\n",
              "    </tr>\n",
              "    <tr>\n",
              "      <th>min</th>\n",
              "      <td>-8.500000</td>\n",
              "      <td>-4.800000</td>\n",
              "      <td>0.000000</td>\n",
              "      <td>0.000000</td>\n",
              "      <td>0.000000</td>\n",
              "      <td>0.000000</td>\n",
              "      <td>0.000000</td>\n",
              "      <td>0.000000</td>\n",
              "      <td>0.000000</td>\n",
              "      <td>0.000000</td>\n",
              "      <td>980.500000</td>\n",
              "      <td>977.100000</td>\n",
              "      <td>0.000000</td>\n",
              "      <td>0.000000</td>\n",
              "      <td>-7.200000</td>\n",
              "      <td>-5.400000</td>\n",
              "      <td>0.000000</td>\n",
              "    </tr>\n",
              "    <tr>\n",
              "      <th>25%</th>\n",
              "      <td>7.600000</td>\n",
              "      <td>17.900000</td>\n",
              "      <td>0.000000</td>\n",
              "      <td>0.000000</td>\n",
              "      <td>8.200000</td>\n",
              "      <td>30.000000</td>\n",
              "      <td>7.000000</td>\n",
              "      <td>11.000000</td>\n",
              "      <td>57.000000</td>\n",
              "      <td>37.000000</td>\n",
              "      <td>1013.500000</td>\n",
              "      <td>1011.000000</td>\n",
              "      <td>3.000000</td>\n",
              "      <td>4.000000</td>\n",
              "      <td>12.300000</td>\n",
              "      <td>16.700000</td>\n",
              "      <td>0.000000</td>\n",
              "    </tr>\n",
              "    <tr>\n",
              "      <th>50%</th>\n",
              "      <td>12.000000</td>\n",
              "      <td>22.600000</td>\n",
              "      <td>0.000000</td>\n",
              "      <td>1.600000</td>\n",
              "      <td>8.500000</td>\n",
              "      <td>37.000000</td>\n",
              "      <td>13.000000</td>\n",
              "      <td>17.000000</td>\n",
              "      <td>70.000000</td>\n",
              "      <td>52.000000</td>\n",
              "      <td>1017.600000</td>\n",
              "      <td>1015.200000</td>\n",
              "      <td>5.000000</td>\n",
              "      <td>5.000000</td>\n",
              "      <td>16.700000</td>\n",
              "      <td>21.100000</td>\n",
              "      <td>0.000000</td>\n",
              "    </tr>\n",
              "    <tr>\n",
              "      <th>75%</th>\n",
              "      <td>16.800000</td>\n",
              "      <td>28.200000</td>\n",
              "      <td>0.600000</td>\n",
              "      <td>5.400000</td>\n",
              "      <td>8.700000</td>\n",
              "      <td>46.000000</td>\n",
              "      <td>19.000000</td>\n",
              "      <td>24.000000</td>\n",
              "      <td>83.000000</td>\n",
              "      <td>65.000000</td>\n",
              "      <td>1021.800000</td>\n",
              "      <td>1019.400000</td>\n",
              "      <td>6.000000</td>\n",
              "      <td>6.000000</td>\n",
              "      <td>21.500000</td>\n",
              "      <td>26.300000</td>\n",
              "      <td>0.000000</td>\n",
              "    </tr>\n",
              "    <tr>\n",
              "      <th>max</th>\n",
              "      <td>33.900000</td>\n",
              "      <td>48.100000</td>\n",
              "      <td>371.000000</td>\n",
              "      <td>145.000000</td>\n",
              "      <td>14.500000</td>\n",
              "      <td>135.000000</td>\n",
              "      <td>130.000000</td>\n",
              "      <td>87.000000</td>\n",
              "      <td>100.000000</td>\n",
              "      <td>100.000000</td>\n",
              "      <td>1041.000000</td>\n",
              "      <td>1039.600000</td>\n",
              "      <td>9.000000</td>\n",
              "      <td>9.000000</td>\n",
              "      <td>40.200000</td>\n",
              "      <td>46.700000</td>\n",
              "      <td>1.000000</td>\n",
              "    </tr>\n",
              "  </tbody>\n",
              "</table>\n",
              "</div>"
            ],
            "text/plain": [
              "             MinTemp        MaxTemp  ...        Temp3pm      targetVar\n",
              "count  142193.000000  142193.000000  ...  142193.000000  142193.000000\n",
              "mean       12.185565      23.225365  ...      21.675977       0.224181\n",
              "std         6.388936       7.109617  ...       6.871243       0.417043\n",
              "min        -8.500000      -4.800000  ...      -5.400000       0.000000\n",
              "25%         7.600000      17.900000  ...      16.700000       0.000000\n",
              "50%        12.000000      22.600000  ...      21.100000       0.000000\n",
              "75%        16.800000      28.200000  ...      26.300000       0.000000\n",
              "max        33.900000      48.100000  ...      46.700000       1.000000\n",
              "\n",
              "[8 rows x 17 columns]"
            ]
          },
          "metadata": {
            "tags": []
          },
          "execution_count": 15
        }
      ]
    },
    {
      "cell_type": "code",
      "metadata": {
        "id": "db9dohFeJzkV",
        "colab_type": "code",
        "outputId": "e33b60aa-6409-489c-e003-e0a3b367b6c3",
        "colab": {
          "base_uri": "https://localhost:8080/",
          "height": 439
        }
      },
      "source": [
        "Xy_original.isnull().sum()"
      ],
      "execution_count": 16,
      "outputs": [
        {
          "output_type": "execute_result",
          "data": {
            "text/plain": [
              "Location         0\n",
              "MinTemp          0\n",
              "MaxTemp          0\n",
              "Rainfall         0\n",
              "Evaporation      0\n",
              "Sunshine         0\n",
              "WindGustDir      0\n",
              "WindGustSpeed    0\n",
              "WindDir9am       0\n",
              "WindDir3pm       0\n",
              "WindSpeed9am     0\n",
              "WindSpeed3pm     0\n",
              "Humidity9am      0\n",
              "Humidity3pm      0\n",
              "Pressure9am      0\n",
              "Pressure3pm      0\n",
              "Cloud9am         0\n",
              "Cloud3pm         0\n",
              "Temp9am          0\n",
              "Temp3pm          0\n",
              "RainToday        0\n",
              "targetVar        0\n",
              "dtype: int64"
            ]
          },
          "metadata": {
            "tags": []
          },
          "execution_count": 16
        }
      ]
    },
    {
      "cell_type": "code",
      "metadata": {
        "id": "YNTUEgEIJzkb",
        "colab_type": "code",
        "outputId": "0377753a-2794-4665-f350-a424e8981fae",
        "colab": {
          "base_uri": "https://localhost:8080/",
          "height": 35
        }
      },
      "source": [
        "print('Total number of NaN in the dataframe: ', Xy_original.isnull().sum().sum())"
      ],
      "execution_count": 17,
      "outputs": [
        {
          "output_type": "stream",
          "text": [
            "Total number of NaN in the dataframe:  0\n"
          ],
          "name": "stdout"
        }
      ]
    },
    {
      "cell_type": "markdown",
      "metadata": {
        "id": "3ipb-u1ZJzkj",
        "colab_type": "text"
      },
      "source": [
        "### 1.e) Splitting Data into Attribute-only and Target-only Sets"
      ]
    },
    {
      "cell_type": "code",
      "metadata": {
        "id": "HOpZmDiKJzkl",
        "colab_type": "code",
        "colab": {}
      },
      "source": [
        "# Use variable totCol to hold the number of columns in the dataframe\n",
        "totCol = len(Xy_original.columns)\n",
        "\n",
        "# Set up variable totAttr for the total number of attribute columns\n",
        "totAttr = totCol-1\n",
        "\n",
        "# targetCol variable indicates the column location of the target/class variable\n",
        "# If the first column, set targetCol to 1. If the last column, set targetCol to totCol\n",
        "# If (targetCol <> 1) and (targetCol <> totCol), be aware when slicing up the dataframes for visualization\n",
        "targetCol = totCol"
      ],
      "execution_count": 0,
      "outputs": []
    },
    {
      "cell_type": "code",
      "metadata": {
        "id": "e4KkQgPmJzkt",
        "colab_type": "code",
        "outputId": "cd598ddd-0d61-402e-e5f6-8c3ee05bbef2",
        "colab": {
          "base_uri": "https://localhost:8080/",
          "height": 35
        }
      },
      "source": [
        "# We create attribute-only and target-only datasets (X_original and y_original)\n",
        "# for various visualization and cleaning/transformation operations\n",
        "\n",
        "if targetCol == totCol:\n",
        "    X_original = Xy_original.iloc[:,0:totAttr]\n",
        "    y_original = Xy_original.iloc[:,totAttr]\n",
        "else:\n",
        "    X_original = Xy_original.iloc[:,1:totCol]\n",
        "    y_original = Xy_original.iloc[:,0]\n",
        "\n",
        "print(\"Xy_original.shape: {} X_original.shape: {} y_original.shape: {}\".format(Xy_original.shape, X_original.shape, y_original.shape))"
      ],
      "execution_count": 19,
      "outputs": [
        {
          "output_type": "stream",
          "text": [
            "Xy_original.shape: (142193, 22) X_original.shape: (142193, 21) y_original.shape: (142193,)\n"
          ],
          "name": "stdout"
        }
      ]
    },
    {
      "cell_type": "markdown",
      "metadata": {
        "id": "MedXKn8VJzk2",
        "colab_type": "text"
      },
      "source": [
        "### 1.f) Set up the parameters for data visualization"
      ]
    },
    {
      "cell_type": "code",
      "metadata": {
        "id": "F99KhNRpJzk4",
        "colab_type": "code",
        "colab": {}
      },
      "source": [
        "# Set up the number of row and columns for visualization display. dispRow * dispCol should be >= totAttr\n",
        "dispCol = 4\n",
        "if totAttr % dispCol == 0 :\n",
        "    dispRow = totAttr // dispCol\n",
        "else :\n",
        "    dispRow = (totAttr // dispCol) + 1\n",
        "    \n",
        "# Set figure width to display the data visualization plots\n",
        "fig_size = plt.rcParams[\"figure.figsize\"]\n",
        "fig_size[0] = dispCol*4\n",
        "fig_size[1] = dispRow*4\n",
        "plt.rcParams[\"figure.figsize\"] = fig_size"
      ],
      "execution_count": 0,
      "outputs": []
    },
    {
      "cell_type": "code",
      "metadata": {
        "id": "qjt_RMzfJzk8",
        "colab_type": "code",
        "colab": {}
      },
      "source": [
        "if (notifyStatus): email_notify(\"Library and Data Loading completed! \"+datetime.now().strftime('%a %B %d, %Y %I:%M:%S %p'))"
      ],
      "execution_count": 0,
      "outputs": []
    },
    {
      "cell_type": "markdown",
      "metadata": {
        "id": "VNgjCHThJzlF",
        "colab_type": "text"
      },
      "source": [
        "## Section 2 - Summarize Data\n",
        "To gain a better understanding of the data that we have on-hand, we will leverage a number of descriptive statistics and data visualization techniques. The plan is to use the results to consider new questions, review assumptions, and validate hypotheses that we can investigate later with specialized models."
      ]
    },
    {
      "cell_type": "code",
      "metadata": {
        "id": "Ym2ofWLkJzlG",
        "colab_type": "code",
        "colab": {}
      },
      "source": [
        "if (notifyStatus): email_notify(\"Data Summarization and Visualization has begun! \"+datetime.now().strftime('%a %B %d, %Y %I:%M:%S %p'))"
      ],
      "execution_count": 0,
      "outputs": []
    },
    {
      "cell_type": "markdown",
      "metadata": {
        "id": "7w2q-8kAJzlL",
        "colab_type": "text"
      },
      "source": [
        "### 2.a) Descriptive Statistics"
      ]
    },
    {
      "cell_type": "markdown",
      "metadata": {
        "id": "BSSRo3vHJzlN",
        "colab_type": "text"
      },
      "source": [
        "#### 2.a.i) Peek at the attribute columns"
      ]
    },
    {
      "cell_type": "code",
      "metadata": {
        "id": "moEmbgBCJzlN",
        "colab_type": "code",
        "outputId": "76dc224a-0014-40f3-e14c-1ca67a2ae70b",
        "colab": {
          "base_uri": "https://localhost:8080/",
          "height": 383
        }
      },
      "source": [
        "X_original.head(10)"
      ],
      "execution_count": 23,
      "outputs": [
        {
          "output_type": "execute_result",
          "data": {
            "text/html": [
              "<div>\n",
              "<style scoped>\n",
              "    .dataframe tbody tr th:only-of-type {\n",
              "        vertical-align: middle;\n",
              "    }\n",
              "\n",
              "    .dataframe tbody tr th {\n",
              "        vertical-align: top;\n",
              "    }\n",
              "\n",
              "    .dataframe thead th {\n",
              "        text-align: right;\n",
              "    }\n",
              "</style>\n",
              "<table border=\"1\" class=\"dataframe\">\n",
              "  <thead>\n",
              "    <tr style=\"text-align: right;\">\n",
              "      <th></th>\n",
              "      <th>Location</th>\n",
              "      <th>MinTemp</th>\n",
              "      <th>MaxTemp</th>\n",
              "      <th>Rainfall</th>\n",
              "      <th>Evaporation</th>\n",
              "      <th>Sunshine</th>\n",
              "      <th>WindGustDir</th>\n",
              "      <th>WindGustSpeed</th>\n",
              "      <th>WindDir9am</th>\n",
              "      <th>WindDir3pm</th>\n",
              "      <th>WindSpeed9am</th>\n",
              "      <th>WindSpeed3pm</th>\n",
              "      <th>Humidity9am</th>\n",
              "      <th>Humidity3pm</th>\n",
              "      <th>Pressure9am</th>\n",
              "      <th>Pressure3pm</th>\n",
              "      <th>Cloud9am</th>\n",
              "      <th>Cloud3pm</th>\n",
              "      <th>Temp9am</th>\n",
              "      <th>Temp3pm</th>\n",
              "      <th>RainToday</th>\n",
              "    </tr>\n",
              "  </thead>\n",
              "  <tbody>\n",
              "    <tr>\n",
              "      <th>0</th>\n",
              "      <td>Albury</td>\n",
              "      <td>13.4</td>\n",
              "      <td>22.9</td>\n",
              "      <td>0.6</td>\n",
              "      <td>0.0</td>\n",
              "      <td>8.5</td>\n",
              "      <td>W</td>\n",
              "      <td>44.0</td>\n",
              "      <td>W</td>\n",
              "      <td>WNW</td>\n",
              "      <td>20.0</td>\n",
              "      <td>24.0</td>\n",
              "      <td>71.0</td>\n",
              "      <td>22.0</td>\n",
              "      <td>1007.7</td>\n",
              "      <td>1007.1</td>\n",
              "      <td>8.0</td>\n",
              "      <td>5.0</td>\n",
              "      <td>16.9</td>\n",
              "      <td>21.8</td>\n",
              "      <td>No</td>\n",
              "    </tr>\n",
              "    <tr>\n",
              "      <th>1</th>\n",
              "      <td>Albury</td>\n",
              "      <td>7.4</td>\n",
              "      <td>25.1</td>\n",
              "      <td>0.0</td>\n",
              "      <td>0.0</td>\n",
              "      <td>8.5</td>\n",
              "      <td>WNW</td>\n",
              "      <td>44.0</td>\n",
              "      <td>NNW</td>\n",
              "      <td>WSW</td>\n",
              "      <td>4.0</td>\n",
              "      <td>22.0</td>\n",
              "      <td>44.0</td>\n",
              "      <td>25.0</td>\n",
              "      <td>1010.6</td>\n",
              "      <td>1007.8</td>\n",
              "      <td>5.0</td>\n",
              "      <td>5.0</td>\n",
              "      <td>17.2</td>\n",
              "      <td>24.3</td>\n",
              "      <td>No</td>\n",
              "    </tr>\n",
              "    <tr>\n",
              "      <th>2</th>\n",
              "      <td>Albury</td>\n",
              "      <td>12.9</td>\n",
              "      <td>25.7</td>\n",
              "      <td>0.0</td>\n",
              "      <td>0.0</td>\n",
              "      <td>8.5</td>\n",
              "      <td>WSW</td>\n",
              "      <td>46.0</td>\n",
              "      <td>W</td>\n",
              "      <td>WSW</td>\n",
              "      <td>19.0</td>\n",
              "      <td>26.0</td>\n",
              "      <td>38.0</td>\n",
              "      <td>30.0</td>\n",
              "      <td>1007.6</td>\n",
              "      <td>1008.7</td>\n",
              "      <td>5.0</td>\n",
              "      <td>2.0</td>\n",
              "      <td>21.0</td>\n",
              "      <td>23.2</td>\n",
              "      <td>No</td>\n",
              "    </tr>\n",
              "    <tr>\n",
              "      <th>3</th>\n",
              "      <td>Albury</td>\n",
              "      <td>9.2</td>\n",
              "      <td>28.0</td>\n",
              "      <td>0.0</td>\n",
              "      <td>0.0</td>\n",
              "      <td>8.5</td>\n",
              "      <td>NE</td>\n",
              "      <td>24.0</td>\n",
              "      <td>SE</td>\n",
              "      <td>E</td>\n",
              "      <td>11.0</td>\n",
              "      <td>9.0</td>\n",
              "      <td>45.0</td>\n",
              "      <td>16.0</td>\n",
              "      <td>1017.6</td>\n",
              "      <td>1012.8</td>\n",
              "      <td>5.0</td>\n",
              "      <td>5.0</td>\n",
              "      <td>18.1</td>\n",
              "      <td>26.5</td>\n",
              "      <td>No</td>\n",
              "    </tr>\n",
              "    <tr>\n",
              "      <th>4</th>\n",
              "      <td>Albury</td>\n",
              "      <td>17.5</td>\n",
              "      <td>32.3</td>\n",
              "      <td>1.0</td>\n",
              "      <td>0.0</td>\n",
              "      <td>8.5</td>\n",
              "      <td>W</td>\n",
              "      <td>41.0</td>\n",
              "      <td>ENE</td>\n",
              "      <td>NW</td>\n",
              "      <td>7.0</td>\n",
              "      <td>20.0</td>\n",
              "      <td>82.0</td>\n",
              "      <td>33.0</td>\n",
              "      <td>1010.8</td>\n",
              "      <td>1006.0</td>\n",
              "      <td>7.0</td>\n",
              "      <td>8.0</td>\n",
              "      <td>17.8</td>\n",
              "      <td>29.7</td>\n",
              "      <td>No</td>\n",
              "    </tr>\n",
              "    <tr>\n",
              "      <th>5</th>\n",
              "      <td>Albury</td>\n",
              "      <td>14.6</td>\n",
              "      <td>29.7</td>\n",
              "      <td>0.2</td>\n",
              "      <td>0.0</td>\n",
              "      <td>8.5</td>\n",
              "      <td>WNW</td>\n",
              "      <td>56.0</td>\n",
              "      <td>W</td>\n",
              "      <td>W</td>\n",
              "      <td>19.0</td>\n",
              "      <td>24.0</td>\n",
              "      <td>55.0</td>\n",
              "      <td>23.0</td>\n",
              "      <td>1009.2</td>\n",
              "      <td>1005.4</td>\n",
              "      <td>5.0</td>\n",
              "      <td>5.0</td>\n",
              "      <td>20.6</td>\n",
              "      <td>28.9</td>\n",
              "      <td>No</td>\n",
              "    </tr>\n",
              "    <tr>\n",
              "      <th>6</th>\n",
              "      <td>Albury</td>\n",
              "      <td>14.3</td>\n",
              "      <td>25.0</td>\n",
              "      <td>0.0</td>\n",
              "      <td>0.0</td>\n",
              "      <td>8.5</td>\n",
              "      <td>W</td>\n",
              "      <td>50.0</td>\n",
              "      <td>SW</td>\n",
              "      <td>W</td>\n",
              "      <td>20.0</td>\n",
              "      <td>24.0</td>\n",
              "      <td>49.0</td>\n",
              "      <td>19.0</td>\n",
              "      <td>1009.6</td>\n",
              "      <td>1008.2</td>\n",
              "      <td>1.0</td>\n",
              "      <td>5.0</td>\n",
              "      <td>18.1</td>\n",
              "      <td>24.6</td>\n",
              "      <td>No</td>\n",
              "    </tr>\n",
              "    <tr>\n",
              "      <th>7</th>\n",
              "      <td>Albury</td>\n",
              "      <td>7.7</td>\n",
              "      <td>26.7</td>\n",
              "      <td>0.0</td>\n",
              "      <td>0.0</td>\n",
              "      <td>8.5</td>\n",
              "      <td>W</td>\n",
              "      <td>35.0</td>\n",
              "      <td>SSE</td>\n",
              "      <td>W</td>\n",
              "      <td>6.0</td>\n",
              "      <td>17.0</td>\n",
              "      <td>48.0</td>\n",
              "      <td>19.0</td>\n",
              "      <td>1013.4</td>\n",
              "      <td>1010.1</td>\n",
              "      <td>5.0</td>\n",
              "      <td>5.0</td>\n",
              "      <td>16.3</td>\n",
              "      <td>25.5</td>\n",
              "      <td>No</td>\n",
              "    </tr>\n",
              "    <tr>\n",
              "      <th>8</th>\n",
              "      <td>Albury</td>\n",
              "      <td>9.7</td>\n",
              "      <td>31.9</td>\n",
              "      <td>0.0</td>\n",
              "      <td>0.0</td>\n",
              "      <td>8.5</td>\n",
              "      <td>NNW</td>\n",
              "      <td>80.0</td>\n",
              "      <td>SE</td>\n",
              "      <td>NW</td>\n",
              "      <td>7.0</td>\n",
              "      <td>28.0</td>\n",
              "      <td>42.0</td>\n",
              "      <td>9.0</td>\n",
              "      <td>1008.9</td>\n",
              "      <td>1003.6</td>\n",
              "      <td>5.0</td>\n",
              "      <td>5.0</td>\n",
              "      <td>18.3</td>\n",
              "      <td>30.2</td>\n",
              "      <td>No</td>\n",
              "    </tr>\n",
              "    <tr>\n",
              "      <th>9</th>\n",
              "      <td>Albury</td>\n",
              "      <td>13.1</td>\n",
              "      <td>30.1</td>\n",
              "      <td>1.4</td>\n",
              "      <td>0.0</td>\n",
              "      <td>8.5</td>\n",
              "      <td>W</td>\n",
              "      <td>28.0</td>\n",
              "      <td>S</td>\n",
              "      <td>SSE</td>\n",
              "      <td>15.0</td>\n",
              "      <td>11.0</td>\n",
              "      <td>58.0</td>\n",
              "      <td>27.0</td>\n",
              "      <td>1007.0</td>\n",
              "      <td>1005.7</td>\n",
              "      <td>5.0</td>\n",
              "      <td>5.0</td>\n",
              "      <td>20.1</td>\n",
              "      <td>28.2</td>\n",
              "      <td>Yes</td>\n",
              "    </tr>\n",
              "  </tbody>\n",
              "</table>\n",
              "</div>"
            ],
            "text/plain": [
              "  Location  MinTemp  MaxTemp  Rainfall  ...  Cloud3pm  Temp9am Temp3pm  RainToday\n",
              "0   Albury     13.4     22.9       0.6  ...       5.0     16.9    21.8         No\n",
              "1   Albury      7.4     25.1       0.0  ...       5.0     17.2    24.3         No\n",
              "2   Albury     12.9     25.7       0.0  ...       2.0     21.0    23.2         No\n",
              "3   Albury      9.2     28.0       0.0  ...       5.0     18.1    26.5         No\n",
              "4   Albury     17.5     32.3       1.0  ...       8.0     17.8    29.7         No\n",
              "5   Albury     14.6     29.7       0.2  ...       5.0     20.6    28.9         No\n",
              "6   Albury     14.3     25.0       0.0  ...       5.0     18.1    24.6         No\n",
              "7   Albury      7.7     26.7       0.0  ...       5.0     16.3    25.5         No\n",
              "8   Albury      9.7     31.9       0.0  ...       5.0     18.3    30.2         No\n",
              "9   Albury     13.1     30.1       1.4  ...       5.0     20.1    28.2        Yes\n",
              "\n",
              "[10 rows x 21 columns]"
            ]
          },
          "metadata": {
            "tags": []
          },
          "execution_count": 23
        }
      ]
    },
    {
      "cell_type": "markdown",
      "metadata": {
        "id": "16B06RWVJzlW",
        "colab_type": "text"
      },
      "source": [
        "#### 2.a.ii) Dimensions and attribute types"
      ]
    },
    {
      "cell_type": "code",
      "metadata": {
        "id": "5hBQvVUdJzlX",
        "colab_type": "code",
        "outputId": "e6ebd7b4-ace5-4957-a6c5-927b421552c3",
        "colab": {
          "base_uri": "https://localhost:8080/",
          "height": 495
        }
      },
      "source": [
        "X_original.info()"
      ],
      "execution_count": 24,
      "outputs": [
        {
          "output_type": "stream",
          "text": [
            "<class 'pandas.core.frame.DataFrame'>\n",
            "RangeIndex: 142193 entries, 0 to 142192\n",
            "Data columns (total 21 columns):\n",
            "Location         142193 non-null category\n",
            "MinTemp          142193 non-null float64\n",
            "MaxTemp          142193 non-null float64\n",
            "Rainfall         142193 non-null float64\n",
            "Evaporation      142193 non-null float64\n",
            "Sunshine         142193 non-null float64\n",
            "WindGustDir      142193 non-null category\n",
            "WindGustSpeed    142193 non-null float64\n",
            "WindDir9am       142193 non-null category\n",
            "WindDir3pm       142193 non-null category\n",
            "WindSpeed9am     142193 non-null float64\n",
            "WindSpeed3pm     142193 non-null float64\n",
            "Humidity9am      142193 non-null float64\n",
            "Humidity3pm      142193 non-null float64\n",
            "Pressure9am      142193 non-null float64\n",
            "Pressure3pm      142193 non-null float64\n",
            "Cloud9am         142193 non-null float64\n",
            "Cloud3pm         142193 non-null float64\n",
            "Temp9am          142193 non-null float64\n",
            "Temp3pm          142193 non-null float64\n",
            "RainToday        142193 non-null category\n",
            "dtypes: category(5), float64(16)\n",
            "memory usage: 18.0 MB\n"
          ],
          "name": "stdout"
        }
      ]
    },
    {
      "cell_type": "markdown",
      "metadata": {
        "id": "yLQZNaWXJzlc",
        "colab_type": "text"
      },
      "source": [
        "#### 2.a.iii) Statistical summary of the attributes"
      ]
    },
    {
      "cell_type": "code",
      "metadata": {
        "id": "7wYD03LBJzle",
        "colab_type": "code",
        "outputId": "89345122-f96b-4344-8117-b9b442887de5",
        "colab": {
          "base_uri": "https://localhost:8080/",
          "height": 320
        }
      },
      "source": [
        "X_original.describe()"
      ],
      "execution_count": 25,
      "outputs": [
        {
          "output_type": "execute_result",
          "data": {
            "text/html": [
              "<div>\n",
              "<style scoped>\n",
              "    .dataframe tbody tr th:only-of-type {\n",
              "        vertical-align: middle;\n",
              "    }\n",
              "\n",
              "    .dataframe tbody tr th {\n",
              "        vertical-align: top;\n",
              "    }\n",
              "\n",
              "    .dataframe thead th {\n",
              "        text-align: right;\n",
              "    }\n",
              "</style>\n",
              "<table border=\"1\" class=\"dataframe\">\n",
              "  <thead>\n",
              "    <tr style=\"text-align: right;\">\n",
              "      <th></th>\n",
              "      <th>MinTemp</th>\n",
              "      <th>MaxTemp</th>\n",
              "      <th>Rainfall</th>\n",
              "      <th>Evaporation</th>\n",
              "      <th>Sunshine</th>\n",
              "      <th>WindGustSpeed</th>\n",
              "      <th>WindSpeed9am</th>\n",
              "      <th>WindSpeed3pm</th>\n",
              "      <th>Humidity9am</th>\n",
              "      <th>Humidity3pm</th>\n",
              "      <th>Pressure9am</th>\n",
              "      <th>Pressure3pm</th>\n",
              "      <th>Cloud9am</th>\n",
              "      <th>Cloud3pm</th>\n",
              "      <th>Temp9am</th>\n",
              "      <th>Temp3pm</th>\n",
              "    </tr>\n",
              "  </thead>\n",
              "  <tbody>\n",
              "    <tr>\n",
              "      <th>count</th>\n",
              "      <td>142193.000000</td>\n",
              "      <td>142193.000000</td>\n",
              "      <td>142193.000000</td>\n",
              "      <td>142193.000000</td>\n",
              "      <td>142193.000000</td>\n",
              "      <td>142193.000000</td>\n",
              "      <td>142193.000000</td>\n",
              "      <td>142193.000000</td>\n",
              "      <td>142193.000000</td>\n",
              "      <td>142193.000000</td>\n",
              "      <td>142193.000000</td>\n",
              "      <td>142193.000000</td>\n",
              "      <td>142193.000000</td>\n",
              "      <td>142193.000000</td>\n",
              "      <td>142193.000000</td>\n",
              "      <td>142193.000000</td>\n",
              "    </tr>\n",
              "    <tr>\n",
              "      <th>mean</th>\n",
              "      <td>12.185565</td>\n",
              "      <td>23.225365</td>\n",
              "      <td>2.326738</td>\n",
              "      <td>3.129340</td>\n",
              "      <td>8.042236</td>\n",
              "      <td>37.377592</td>\n",
              "      <td>13.869248</td>\n",
              "      <td>18.292855</td>\n",
              "      <td>68.858235</td>\n",
              "      <td>51.495742</td>\n",
              "      <td>1017.648460</td>\n",
              "      <td>1015.252481</td>\n",
              "      <td>4.649568</td>\n",
              "      <td>4.702658</td>\n",
              "      <td>16.985681</td>\n",
              "      <td>21.675977</td>\n",
              "    </tr>\n",
              "    <tr>\n",
              "      <th>std</th>\n",
              "      <td>6.388936</td>\n",
              "      <td>7.109617</td>\n",
              "      <td>8.426426</td>\n",
              "      <td>4.166674</td>\n",
              "      <td>2.769638</td>\n",
              "      <td>16.433198</td>\n",
              "      <td>8.954477</td>\n",
              "      <td>9.075870</td>\n",
              "      <td>18.932512</td>\n",
              "      <td>20.532227</td>\n",
              "      <td>6.746267</td>\n",
              "      <td>6.681810</td>\n",
              "      <td>2.294357</td>\n",
              "      <td>2.118753</td>\n",
              "      <td>6.472206</td>\n",
              "      <td>6.871243</td>\n",
              "    </tr>\n",
              "    <tr>\n",
              "      <th>min</th>\n",
              "      <td>-8.500000</td>\n",
              "      <td>-4.800000</td>\n",
              "      <td>0.000000</td>\n",
              "      <td>0.000000</td>\n",
              "      <td>0.000000</td>\n",
              "      <td>0.000000</td>\n",
              "      <td>0.000000</td>\n",
              "      <td>0.000000</td>\n",
              "      <td>0.000000</td>\n",
              "      <td>0.000000</td>\n",
              "      <td>980.500000</td>\n",
              "      <td>977.100000</td>\n",
              "      <td>0.000000</td>\n",
              "      <td>0.000000</td>\n",
              "      <td>-7.200000</td>\n",
              "      <td>-5.400000</td>\n",
              "    </tr>\n",
              "    <tr>\n",
              "      <th>25%</th>\n",
              "      <td>7.600000</td>\n",
              "      <td>17.900000</td>\n",
              "      <td>0.000000</td>\n",
              "      <td>0.000000</td>\n",
              "      <td>8.200000</td>\n",
              "      <td>30.000000</td>\n",
              "      <td>7.000000</td>\n",
              "      <td>11.000000</td>\n",
              "      <td>57.000000</td>\n",
              "      <td>37.000000</td>\n",
              "      <td>1013.500000</td>\n",
              "      <td>1011.000000</td>\n",
              "      <td>3.000000</td>\n",
              "      <td>4.000000</td>\n",
              "      <td>12.300000</td>\n",
              "      <td>16.700000</td>\n",
              "    </tr>\n",
              "    <tr>\n",
              "      <th>50%</th>\n",
              "      <td>12.000000</td>\n",
              "      <td>22.600000</td>\n",
              "      <td>0.000000</td>\n",
              "      <td>1.600000</td>\n",
              "      <td>8.500000</td>\n",
              "      <td>37.000000</td>\n",
              "      <td>13.000000</td>\n",
              "      <td>17.000000</td>\n",
              "      <td>70.000000</td>\n",
              "      <td>52.000000</td>\n",
              "      <td>1017.600000</td>\n",
              "      <td>1015.200000</td>\n",
              "      <td>5.000000</td>\n",
              "      <td>5.000000</td>\n",
              "      <td>16.700000</td>\n",
              "      <td>21.100000</td>\n",
              "    </tr>\n",
              "    <tr>\n",
              "      <th>75%</th>\n",
              "      <td>16.800000</td>\n",
              "      <td>28.200000</td>\n",
              "      <td>0.600000</td>\n",
              "      <td>5.400000</td>\n",
              "      <td>8.700000</td>\n",
              "      <td>46.000000</td>\n",
              "      <td>19.000000</td>\n",
              "      <td>24.000000</td>\n",
              "      <td>83.000000</td>\n",
              "      <td>65.000000</td>\n",
              "      <td>1021.800000</td>\n",
              "      <td>1019.400000</td>\n",
              "      <td>6.000000</td>\n",
              "      <td>6.000000</td>\n",
              "      <td>21.500000</td>\n",
              "      <td>26.300000</td>\n",
              "    </tr>\n",
              "    <tr>\n",
              "      <th>max</th>\n",
              "      <td>33.900000</td>\n",
              "      <td>48.100000</td>\n",
              "      <td>371.000000</td>\n",
              "      <td>145.000000</td>\n",
              "      <td>14.500000</td>\n",
              "      <td>135.000000</td>\n",
              "      <td>130.000000</td>\n",
              "      <td>87.000000</td>\n",
              "      <td>100.000000</td>\n",
              "      <td>100.000000</td>\n",
              "      <td>1041.000000</td>\n",
              "      <td>1039.600000</td>\n",
              "      <td>9.000000</td>\n",
              "      <td>9.000000</td>\n",
              "      <td>40.200000</td>\n",
              "      <td>46.700000</td>\n",
              "    </tr>\n",
              "  </tbody>\n",
              "</table>\n",
              "</div>"
            ],
            "text/plain": [
              "             MinTemp        MaxTemp  ...        Temp9am        Temp3pm\n",
              "count  142193.000000  142193.000000  ...  142193.000000  142193.000000\n",
              "mean       12.185565      23.225365  ...      16.985681      21.675977\n",
              "std         6.388936       7.109617  ...       6.472206       6.871243\n",
              "min        -8.500000      -4.800000  ...      -7.200000      -5.400000\n",
              "25%         7.600000      17.900000  ...      12.300000      16.700000\n",
              "50%        12.000000      22.600000  ...      16.700000      21.100000\n",
              "75%        16.800000      28.200000  ...      21.500000      26.300000\n",
              "max        33.900000      48.100000  ...      40.200000      46.700000\n",
              "\n",
              "[8 rows x 16 columns]"
            ]
          },
          "metadata": {
            "tags": []
          },
          "execution_count": 25
        }
      ]
    },
    {
      "cell_type": "markdown",
      "metadata": {
        "id": "p8cUZbPEJzlm",
        "colab_type": "text"
      },
      "source": [
        "#### 2.a.iv) Summarize the levels of the class attribute"
      ]
    },
    {
      "cell_type": "code",
      "metadata": {
        "id": "ofBS_SY_Jzlo",
        "colab_type": "code",
        "outputId": "0f22ded1-8371-4255-ca5d-8c3ec3dbc305",
        "colab": {
          "base_uri": "https://localhost:8080/",
          "height": 90
        }
      },
      "source": [
        "Xy_original.groupby('targetVar').size()"
      ],
      "execution_count": 26,
      "outputs": [
        {
          "output_type": "execute_result",
          "data": {
            "text/plain": [
              "targetVar\n",
              "0    110316\n",
              "1     31877\n",
              "dtype: int64"
            ]
          },
          "metadata": {
            "tags": []
          },
          "execution_count": 26
        }
      ]
    },
    {
      "cell_type": "markdown",
      "metadata": {
        "id": "5a3DGJYAJzlr",
        "colab_type": "text"
      },
      "source": [
        "### 2.b) Data Visualization"
      ]
    },
    {
      "cell_type": "code",
      "metadata": {
        "id": "NdaFQ791Jzlt",
        "colab_type": "code",
        "outputId": "9e8f8bd5-11a5-442c-87ce-69b20b561c87",
        "colab": {
          "base_uri": "https://localhost:8080/",
          "height": 1000
        }
      },
      "source": [
        "# Histograms for each attribute\n",
        "X_original.hist(layout=(dispRow,dispCol))\n",
        "plt.show()"
      ],
      "execution_count": 27,
      "outputs": [
        {
          "output_type": "stream",
          "text": [
            "/usr/local/lib/python3.6/dist-packages/pandas/plotting/_matplotlib/tools.py:307: MatplotlibDeprecationWarning: \n",
            "The rowNum attribute was deprecated in Matplotlib 3.2 and will be removed two minor releases later. Use ax.get_subplotspec().rowspan.start instead.\n",
            "  layout[ax.rowNum, ax.colNum] = ax.get_visible()\n",
            "/usr/local/lib/python3.6/dist-packages/pandas/plotting/_matplotlib/tools.py:307: MatplotlibDeprecationWarning: \n",
            "The colNum attribute was deprecated in Matplotlib 3.2 and will be removed two minor releases later. Use ax.get_subplotspec().colspan.start instead.\n",
            "  layout[ax.rowNum, ax.colNum] = ax.get_visible()\n",
            "/usr/local/lib/python3.6/dist-packages/pandas/plotting/_matplotlib/tools.py:313: MatplotlibDeprecationWarning: \n",
            "The rowNum attribute was deprecated in Matplotlib 3.2 and will be removed two minor releases later. Use ax.get_subplotspec().rowspan.start instead.\n",
            "  if not layout[ax.rowNum + 1, ax.colNum]:\n",
            "/usr/local/lib/python3.6/dist-packages/pandas/plotting/_matplotlib/tools.py:313: MatplotlibDeprecationWarning: \n",
            "The colNum attribute was deprecated in Matplotlib 3.2 and will be removed two minor releases later. Use ax.get_subplotspec().colspan.start instead.\n",
            "  if not layout[ax.rowNum + 1, ax.colNum]:\n"
          ],
          "name": "stderr"
        },
        {
          "output_type": "display_data",
          "data": {
            "image/png": "[encoded data removed]",
            "text/plain": [
              "<Figure size 1152x1728 with 24 Axes>"
            ]
          },
          "metadata": {
            "tags": []
          }
        }
      ]
    },
    {
      "cell_type": "code",
      "metadata": {
        "id": "SSJF7ZbPJzlz",
        "colab_type": "code",
        "outputId": "712bb32d-d700-4232-ad15-1d85054009de",
        "colab": {
          "base_uri": "https://localhost:8080/",
          "height": 1000
        }
      },
      "source": [
        "# Box and Whisker plot for each attribute\n",
        "X_original.plot(kind='box', subplots=True, layout=(dispRow,dispCol))\n",
        "plt.show()"
      ],
      "execution_count": 28,
      "outputs": [
        {
          "output_type": "stream",
          "text": [
            "/usr/local/lib/python3.6/dist-packages/pandas/plotting/_matplotlib/tools.py:307: MatplotlibDeprecationWarning: \n",
            "The rowNum attribute was deprecated in Matplotlib 3.2 and will be removed two minor releases later. Use ax.get_subplotspec().rowspan.start instead.\n",
            "  layout[ax.rowNum, ax.colNum] = ax.get_visible()\n",
            "/usr/local/lib/python3.6/dist-packages/pandas/plotting/_matplotlib/tools.py:307: MatplotlibDeprecationWarning: \n",
            "The colNum attribute was deprecated in Matplotlib 3.2 and will be removed two minor releases later. Use ax.get_subplotspec().colspan.start instead.\n",
            "  layout[ax.rowNum, ax.colNum] = ax.get_visible()\n",
            "/usr/local/lib/python3.6/dist-packages/pandas/plotting/_matplotlib/tools.py:313: MatplotlibDeprecationWarning: \n",
            "The rowNum attribute was deprecated in Matplotlib 3.2 and will be removed two minor releases later. Use ax.get_subplotspec().rowspan.start instead.\n",
            "  if not layout[ax.rowNum + 1, ax.colNum]:\n",
            "/usr/local/lib/python3.6/dist-packages/pandas/plotting/_matplotlib/tools.py:313: MatplotlibDeprecationWarning: \n",
            "The colNum attribute was deprecated in Matplotlib 3.2 and will be removed two minor releases later. Use ax.get_subplotspec().colspan.start instead.\n",
            "  if not layout[ax.rowNum + 1, ax.colNum]:\n",
            "/usr/local/lib/python3.6/dist-packages/pandas/plotting/_matplotlib/tools.py:307: MatplotlibDeprecationWarning: \n",
            "The rowNum attribute was deprecated in Matplotlib 3.2 and will be removed two minor releases later. Use ax.get_subplotspec().rowspan.start instead.\n",
            "  layout[ax.rowNum, ax.colNum] = ax.get_visible()\n",
            "/usr/local/lib/python3.6/dist-packages/pandas/plotting/_matplotlib/tools.py:307: MatplotlibDeprecationWarning: \n",
            "The colNum attribute was deprecated in Matplotlib 3.2 and will be removed two minor releases later. Use ax.get_subplotspec().colspan.start instead.\n",
            "  layout[ax.rowNum, ax.colNum] = ax.get_visible()\n",
            "/usr/local/lib/python3.6/dist-packages/pandas/plotting/_matplotlib/tools.py:313: MatplotlibDeprecationWarning: \n",
            "The rowNum attribute was deprecated in Matplotlib 3.2 and will be removed two minor releases later. Use ax.get_subplotspec().rowspan.start instead.\n",
            "  if not layout[ax.rowNum + 1, ax.colNum]:\n",
            "/usr/local/lib/python3.6/dist-packages/pandas/plotting/_matplotlib/tools.py:313: MatplotlibDeprecationWarning: \n",
            "The colNum attribute was deprecated in Matplotlib 3.2 and will be removed two minor releases later. Use ax.get_subplotspec().colspan.start instead.\n",
            "  if not layout[ax.rowNum + 1, ax.colNum]:\n"
          ],
          "name": "stderr"
        },
        {
          "output_type": "display_data",
          "data": {
            "image/png": "[encoded data removed]",
            "text/plain": [
              "<Figure size 1152x1728 with 24 Axes>"
            ]
          },
          "metadata": {
            "tags": []
          }
        }
      ]
    },
    {
      "cell_type": "code",
      "metadata": {
        "id": "Aja_wWToJzl5",
        "colab_type": "code",
        "outputId": "207b1897-4dab-4786-cd70-638b6c116bb7",
        "colab": {
          "base_uri": "https://localhost:8080/",
          "height": 706
        }
      },
      "source": [
        "# Correlation matrix\n",
        "fig = plt.figure(figsize=(16,12))\n",
        "ax = fig.add_subplot(111)\n",
        "correlations = X_original.corr(method='pearson')\n",
        "cax = ax.matshow(correlations, vmin=-1, vmax=1)\n",
        "fig.colorbar(cax)\n",
        "plt.show()"
      ],
      "execution_count": 29,
      "outputs": [
        {
          "output_type": "display_data",
          "data": {
            "image/png": "[encoded data removed]",
            "text/plain": [
              "<Figure size 1152x864 with 2 Axes>"
            ]
          },
          "metadata": {
            "tags": []
          }
        }
      ]
    },
    {
      "cell_type": "code",
      "metadata": {
        "id": "oqLGZxOyJzl9",
        "colab_type": "code",
        "colab": {}
      },
      "source": [
        "if (notifyStatus): email_notify(\"Data Summarization and Visualization completed! \"+datetime.now().strftime('%a %B %d, %Y %I:%M:%S %p'))"
      ],
      "execution_count": 0,
      "outputs": []
    },
    {
      "cell_type": "markdown",
      "metadata": {
        "id": "TIvdT_rpJzmB",
        "colab_type": "text"
      },
      "source": [
        "## Section 3 - Prepare Data\n",
        "Some dataset may require additional preparation activities that will best exposes the structure of the problem and the relationships between the input attributes and the output variable. Some data-prep tasks might include:\n",
        "\n",
        "* Cleaning data by removing duplicates, marking missing values and even imputing missing values.\n",
        "* Feature selection where redundant features may be removed.\n",
        "* Data transforms where attributes are scaled or redistributed in order to best expose the structure of the problem later to learning algorithms."
      ]
    },
    {
      "cell_type": "code",
      "metadata": {
        "id": "pw0RMnNkJzmD",
        "colab_type": "code",
        "colab": {}
      },
      "source": [
        "if (notifyStatus): email_notify(\"Data Cleaning and Transformation has begun! \"+datetime.now().strftime('%a %B %d, %Y %I:%M:%S %p'))"
      ],
      "execution_count": 0,
      "outputs": []
    },
    {
      "cell_type": "markdown",
      "metadata": {
        "id": "nTd6HoK2JzmI",
        "colab_type": "text"
      },
      "source": [
        "### 3.a) Feature Scaling and Data Pre-Processing"
      ]
    },
    {
      "cell_type": "code",
      "metadata": {
        "id": "NlzwuTboJzmK",
        "colab_type": "code",
        "outputId": "2f5f1927-b90a-46d7-c57a-d3132824416e",
        "colab": {
          "base_uri": "https://localhost:8080/",
          "height": 274
        }
      },
      "source": [
        "# Apply feature scaling techniques\n",
        "X_original['MinTemp'] = preprocessing.scale(X_original['MinTemp'])\n",
        "X_original['MaxTemp'] = preprocessing.scale(X_original['MaxTemp'])\n",
        "X_original['Rainfall'] = preprocessing.scale(X_original['Rainfall'])\n",
        "X_original['Evaporation'] = preprocessing.scale(X_original['Evaporation'])\n",
        "X_original['Sunshine'] = preprocessing.scale(X_original['Sunshine'])\n",
        "X_original['WindGustSpeed'] = preprocessing.scale(X_original['WindGustSpeed'])\n",
        "X_original['WindSpeed9am'] = preprocessing.scale(X_original['WindSpeed9am'])\n",
        "X_original['WindSpeed3pm'] = preprocessing.scale(X_original['WindSpeed3pm'])\n",
        "X_original['Humidity9am'] = preprocessing.scale(X_original['Humidity9am'])\n",
        "X_original['Humidity3pm'] = preprocessing.scale(X_original['Humidity3pm'])\n",
        "X_original['Pressure9am'] = preprocessing.scale(X_original['Pressure9am'])\n",
        "X_original['Pressure3pm'] = preprocessing.scale(X_original['Pressure3pm'])\n",
        "X_original['Cloud9am'] = preprocessing.scale(X_original['Cloud9am'])\n",
        "X_original['Cloud3pm'] = preprocessing.scale(X_original['Cloud3pm'])\n",
        "X_original['Temp9am'] = preprocessing.scale(X_original['Temp9am'])\n",
        "X_original['Temp3pm'] = preprocessing.scale(X_original['Temp3pm'])\n",
        "    \n",
        "print(X_original.head(-10))"
      ],
      "execution_count": 32,
      "outputs": [
        {
          "output_type": "stream",
          "text": [
            "       Location   MinTemp   MaxTemp  ...   Temp9am   Temp3pm  RainToday\n",
            "0        Albury  0.190085 -0.045764  ... -0.013238  0.018050         No\n",
            "1        Albury -0.749042  0.263677  ...  0.033114  0.381886         No\n",
            "2        Albury  0.111824  0.348070  ...  0.620242  0.221798         No\n",
            "3        Albury -0.467304  0.671577  ...  0.172171  0.702062         No\n",
            "4        Albury  0.831821  1.276393  ...  0.125818  1.167773         No\n",
            "...         ...       ...       ...  ...       ...       ...        ...\n",
            "142178    Uluru -1.406431 -0.650581  ... -1.357452 -0.622303         No\n",
            "142179    Uluru -1.531648 -0.580253  ... -1.388354 -0.418554         No\n",
            "142180    Uluru -1.109041 -0.495860  ... -1.311100 -0.360340         No\n",
            "142181    Uluru -1.515996 -0.284878  ... -1.032987 -0.200252         No\n",
            "142182    Uluru -1.547300 -0.256747  ... -1.249297 -0.200252         No\n",
            "\n",
            "[142183 rows x 21 columns]\n"
          ],
          "name": "stdout"
        }
      ]
    },
    {
      "cell_type": "code",
      "metadata": {
        "id": "aWGZAXxvJzmO",
        "colab_type": "code",
        "outputId": "4db9d4bb-96f3-481b-c297-3b72f682cf62",
        "colab": {
          "base_uri": "https://localhost:8080/",
          "height": 1000
        }
      },
      "source": [
        "# Histograms for each attribute\n",
        "X_original.hist(layout=(dispRow,dispCol))\n",
        "plt.show()"
      ],
      "execution_count": 33,
      "outputs": [
        {
          "output_type": "stream",
          "text": [
            "/usr/local/lib/python3.6/dist-packages/pandas/plotting/_matplotlib/tools.py:307: MatplotlibDeprecationWarning: \n",
            "The rowNum attribute was deprecated in Matplotlib 3.2 and will be removed two minor releases later. Use ax.get_subplotspec().rowspan.start instead.\n",
            "  layout[ax.rowNum, ax.colNum] = ax.get_visible()\n",
            "/usr/local/lib/python3.6/dist-packages/pandas/plotting/_matplotlib/tools.py:307: MatplotlibDeprecationWarning: \n",
            "The colNum attribute was deprecated in Matplotlib 3.2 and will be removed two minor releases later. Use ax.get_subplotspec().colspan.start instead.\n",
            "  layout[ax.rowNum, ax.colNum] = ax.get_visible()\n",
            "/usr/local/lib/python3.6/dist-packages/pandas/plotting/_matplotlib/tools.py:313: MatplotlibDeprecationWarning: \n",
            "The rowNum attribute was deprecated in Matplotlib 3.2 and will be removed two minor releases later. Use ax.get_subplotspec().rowspan.start instead.\n",
            "  if not layout[ax.rowNum + 1, ax.colNum]:\n",
            "/usr/local/lib/python3.6/dist-packages/pandas/plotting/_matplotlib/tools.py:313: MatplotlibDeprecationWarning: \n",
            "The colNum attribute was deprecated in Matplotlib 3.2 and will be removed two minor releases later. Use ax.get_subplotspec().colspan.start instead.\n",
            "  if not layout[ax.rowNum + 1, ax.colNum]:\n"
          ],
          "name": "stderr"
        },
        {
          "output_type": "display_data",
          "data": {
            "image/png": "[encoded data removed]",
            "text/plain": [
              "<Figure size 1152x1728 with 24 Axes>"
            ]
          },
          "metadata": {
            "tags": []
          }
        }
      ]
    },
    {
      "cell_type": "markdown",
      "metadata": {
        "id": "08hYrH2mJzmW",
        "colab_type": "text"
      },
      "source": [
        "### 3.b) Apply One-Hot-Encoding to Categorical Features"
      ]
    },
    {
      "cell_type": "code",
      "metadata": {
        "id": "fN5ooT0xJzmX",
        "colab_type": "code",
        "outputId": "b3283cdf-6ee8-4236-e66d-8c01048574e5",
        "colab": {
          "base_uri": "https://localhost:8080/",
          "height": 1000
        }
      },
      "source": [
        "# Perform one-hot-encoding on the categorical attributes\n",
        "X_original = pd.get_dummies(X_original)\n",
        "X_original.info(verbose=True)"
      ],
      "execution_count": 34,
      "outputs": [
        {
          "output_type": "stream",
          "text": [
            "<class 'pandas.core.frame.DataFrame'>\n",
            "RangeIndex: 142193 entries, 0 to 142192\n",
            "Data columns (total 118 columns):\n",
            "MinTemp                      float64\n",
            "MaxTemp                      float64\n",
            "Rainfall                     float64\n",
            "Evaporation                  float64\n",
            "Sunshine                     float64\n",
            "WindGustSpeed                float64\n",
            "WindSpeed9am                 float64\n",
            "WindSpeed3pm                 float64\n",
            "Humidity9am                  float64\n",
            "Humidity3pm                  float64\n",
            "Pressure9am                  float64\n",
            "Pressure3pm                  float64\n",
            "Cloud9am                     float64\n",
            "Cloud3pm                     float64\n",
            "Temp9am                      float64\n",
            "Temp3pm                      float64\n",
            "Location_Adelaide            uint8\n",
            "Location_Albany              uint8\n",
            "Location_Albury              uint8\n",
            "Location_AliceSprings        uint8\n",
            "Location_BadgerysCreek       uint8\n",
            "Location_Ballarat            uint8\n",
            "Location_Bendigo             uint8\n",
            "Location_Brisbane            uint8\n",
            "Location_Cairns              uint8\n",
            "Location_Canberra            uint8\n",
            "Location_Cobar               uint8\n",
            "Location_CoffsHarbour        uint8\n",
            "Location_Dartmoor            uint8\n",
            "Location_Darwin              uint8\n",
            "Location_GoldCoast           uint8\n",
            "Location_Hobart              uint8\n",
            "Location_Katherine           uint8\n",
            "Location_Launceston          uint8\n",
            "Location_Melbourne           uint8\n",
            "Location_MelbourneAirport    uint8\n",
            "Location_Mildura             uint8\n",
            "Location_Moree               uint8\n",
            "Location_MountGambier        uint8\n",
            "Location_MountGinini         uint8\n",
            "Location_Newcastle           uint8\n",
            "Location_Nhil                uint8\n",
            "Location_NorahHead           uint8\n",
            "Location_NorfolkIsland       uint8\n",
            "Location_Nuriootpa           uint8\n",
            "Location_PearceRAAF          uint8\n",
            "Location_Penrith             uint8\n",
            "Location_Perth               uint8\n",
            "Location_PerthAirport        uint8\n",
            "Location_Portland            uint8\n",
            "Location_Richmond            uint8\n",
            "Location_Sale                uint8\n",
            "Location_SalmonGums          uint8\n",
            "Location_Sydney              uint8\n",
            "Location_SydneyAirport       uint8\n",
            "Location_Townsville          uint8\n",
            "Location_Tuggeranong         uint8\n",
            "Location_Uluru               uint8\n",
            "Location_WaggaWagga          uint8\n",
            "Location_Walpole             uint8\n",
            "Location_Watsonia            uint8\n",
            "Location_Williamtown         uint8\n",
            "Location_Witchcliffe         uint8\n",
            "Location_Wollongong          uint8\n",
            "Location_Woomera             uint8\n",
            "WindGustDir_E                uint8\n",
            "WindGustDir_ENE              uint8\n",
            "WindGustDir_ESE              uint8\n",
            "WindGustDir_N                uint8\n",
            "WindGustDir_NE               uint8\n",
            "WindGustDir_NNE              uint8\n",
            "WindGustDir_NNW              uint8\n",
            "WindGustDir_NW               uint8\n",
            "WindGustDir_S                uint8\n",
            "WindGustDir_SE               uint8\n",
            "WindGustDir_SSE              uint8\n",
            "WindGustDir_SSW              uint8\n",
            "WindGustDir_SW               uint8\n",
            "WindGustDir_UNKNOWN          uint8\n",
            "WindGustDir_W                uint8\n",
            "WindGustDir_WNW              uint8\n",
            "WindGustDir_WSW              uint8\n",
            "WindDir9am_E                 uint8\n",
            "WindDir9am_ENE               uint8\n",
            "WindDir9am_ESE               uint8\n",
            "WindDir9am_N                 uint8\n",
            "WindDir9am_NE                uint8\n",
            "WindDir9am_NNE               uint8\n",
            "WindDir9am_NNW               uint8\n",
            "WindDir9am_NW                uint8\n",
            "WindDir9am_S                 uint8\n",
            "WindDir9am_SE                uint8\n",
            "WindDir9am_SSE               uint8\n",
            "WindDir9am_SSW               uint8\n",
            "WindDir9am_SW                uint8\n",
            "WindDir9am_UNKNOWN           uint8\n",
            "WindDir9am_W                 uint8\n",
            "WindDir9am_WNW               uint8\n",
            "WindDir9am_WSW               uint8\n",
            "WindDir3pm_E                 uint8\n",
            "WindDir3pm_ENE               uint8\n",
            "WindDir3pm_ESE               uint8\n",
            "WindDir3pm_N                 uint8\n",
            "WindDir3pm_NE                uint8\n",
            "WindDir3pm_NNE               uint8\n",
            "WindDir3pm_NNW               uint8\n",
            "WindDir3pm_NW                uint8\n",
            "WindDir3pm_S                 uint8\n",
            "WindDir3pm_SE                uint8\n",
            "WindDir3pm_SSE               uint8\n",
            "WindDir3pm_SSW               uint8\n",
            "WindDir3pm_SW                uint8\n",
            "WindDir3pm_UNKNOWN           uint8\n",
            "WindDir3pm_W                 uint8\n",
            "WindDir3pm_WNW               uint8\n",
            "WindDir3pm_WSW               uint8\n",
            "RainToday_No                 uint8\n",
            "RainToday_Yes                uint8\n",
            "dtypes: float64(16), uint8(102)\n",
            "memory usage: 31.2 MB\n"
          ],
          "name": "stdout"
        }
      ]
    },
    {
      "cell_type": "markdown",
      "metadata": {
        "id": "VJ8gS_68Jzmd",
        "colab_type": "text"
      },
      "source": [
        "### 3.c) Training Data Balancing"
      ]
    },
    {
      "cell_type": "code",
      "metadata": {
        "id": "lY1dYFNjJzmg",
        "colab_type": "code",
        "colab": {}
      },
      "source": [
        "# Not applicable for this iteration of the project"
      ],
      "execution_count": 0,
      "outputs": []
    },
    {
      "cell_type": "markdown",
      "metadata": {
        "id": "fFUKbMTXJzmk",
        "colab_type": "text"
      },
      "source": [
        "### 3.d) Feature Selection"
      ]
    },
    {
      "cell_type": "code",
      "metadata": {
        "id": "J_7-L2yQJzml",
        "colab_type": "code",
        "colab": {}
      },
      "source": [
        "# Not applicable for this iteration of the project"
      ],
      "execution_count": 0,
      "outputs": []
    },
    {
      "cell_type": "markdown",
      "metadata": {
        "id": "pKsYRJ8VJzmr",
        "colab_type": "text"
      },
      "source": [
        "### 3.e) Display the Final Datasets for Model-Building"
      ]
    },
    {
      "cell_type": "code",
      "metadata": {
        "id": "P-Kqlms4Jzmv",
        "colab_type": "code",
        "outputId": "b1a94a00-3f10-4711-b488-637d7265185b",
        "colab": {
          "base_uri": "https://localhost:8080/",
          "height": 54
        }
      },
      "source": [
        "# Split the data further into training and test datasets\n",
        "if (splitDataset):\n",
        "    X_train_df, X_test_df, y_train_df, y_test_df = train_test_split(X_original, y_original, test_size=splitPercentage, \n",
        "                                                                    stratify=y_original, random_state=seedNum)\n",
        "else:\n",
        "    X_train_df, y_train_df = X_original, y_original\n",
        "    X_test_df, y_test_df = X_original, y_original\n",
        "print(\"X_train_df.shape: {} y_train_df.shape: {}\".format(X_train_df.shape, y_train_df.shape))\n",
        "print(\"X_test_df.shape: {} y_test_df.shape: {}\".format(X_test_df.shape, y_test_df.shape))"
      ],
      "execution_count": 37,
      "outputs": [
        {
          "output_type": "stream",
          "text": [
            "X_train_df.shape: (106644, 118) y_train_df.shape: (106644,)\n",
            "X_test_df.shape: (35549, 118) y_test_df.shape: (35549,)\n"
          ],
          "name": "stdout"
        }
      ]
    },
    {
      "cell_type": "code",
      "metadata": {
        "id": "H3l_7dUDJzm2",
        "colab_type": "code",
        "outputId": "3845420d-0a50-4be4-d4eb-c7403993e1ff",
        "colab": {
          "base_uri": "https://localhost:8080/",
          "height": 54
        }
      },
      "source": [
        "# Finalize the training and testing datasets for the modeling activities\n",
        "X_train = X_train_df.to_numpy()\n",
        "y_train = y_train_df.to_numpy()\n",
        "X_test = X_test_df.to_numpy()\n",
        "y_test = y_test_df.to_numpy()\n",
        "print(\"X_train.shape: {} y_train.shape: {}\".format(X_train.shape, y_train.shape))\n",
        "print(\"X_test.shape: {} y_test.shape: {}\".format(X_test.shape, y_test.shape))"
      ],
      "execution_count": 38,
      "outputs": [
        {
          "output_type": "stream",
          "text": [
            "X_train.shape: (106644, 118) y_train.shape: (106644,)\n",
            "X_test.shape: (35549, 118) y_test.shape: (35549,)\n"
          ],
          "name": "stdout"
        }
      ]
    },
    {
      "cell_type": "code",
      "metadata": {
        "id": "WuDC9md4Jzm6",
        "colab_type": "code",
        "colab": {}
      },
      "source": [
        "if (notifyStatus): email_notify(\"Data Cleaning and Transformation completed! \"+datetime.now().strftime('%a %B %d, %Y %I:%M:%S %p'))"
      ],
      "execution_count": 0,
      "outputs": []
    },
    {
      "cell_type": "markdown",
      "metadata": {
        "id": "MIklY7dTJzm9",
        "colab_type": "text"
      },
      "source": [
        "## 4. Model and Evaluate Algorithms\n",
        "After the data-prep, we next work on finding a workable model by evaluating a subset of machine learning algorithms that are good at exploiting the structure of the training. The typical evaluation tasks include:\n",
        "\n",
        "* Defining test options such as cross validation and the evaluation metric to use.\n",
        "* Spot checking a suite of linear and nonlinear machine learning algorithms.\n",
        "* Comparing the estimated accuracy of algorithms.\n",
        "\n",
        "For this project, we will evaluate one linear, two non-linear and four ensemble algorithms:\n",
        "\n",
        "Linear Algorithm: Logistic Regression\n",
        "\n",
        "Non-Linear Algorithms: Decision Trees (CART) and k-Nearest Neighbors\n",
        "\n",
        "Ensemble Algorithms: Bagged CART, Random Forest, Extra Trees, and Gradient Boosting\n",
        "\n",
        "The random number seed is reset before each run to ensure that the evaluation of each algorithm is performed using the same data splits. It ensures the results are directly comparable."
      ]
    },
    {
      "cell_type": "markdown",
      "metadata": {
        "id": "SJreo5X7Jzm-",
        "colab_type": "text"
      },
      "source": [
        "### 4.a) Set test options and evaluation metric"
      ]
    },
    {
      "cell_type": "code",
      "metadata": {
        "id": "DFVBHezKJzm_",
        "colab_type": "code",
        "colab": {}
      },
      "source": [
        "# Set up Algorithms Spot-Checking Array\n",
        "startTimeModule = datetime.now()\n",
        "train_models = []\n",
        "train_results = []\n",
        "train_model_names = []\n",
        "train_metrics = []\n",
        "# train_models.append(('LGR', LogisticRegression(random_state=seedNum)))\n",
        "# train_models.append(('CART', DecisionTreeClassifier(random_state=seedNum)))\n",
        "# train_models.append(('KNN', KNeighborsClassifier(n_jobs=n_jobs)))\n",
        "# train_models.append(('BGT', BaggingClassifier(random_state=seedNum, n_jobs=n_jobs)))\n",
        "train_models.append(('RNF', RandomForestClassifier(random_state=seedNum, n_jobs=n_jobs)))\n",
        "# train_models.append(('EXT', ExtraTreesClassifier(random_state=seedNum, n_jobs=n_jobs)))\n",
        "# train_models.append(('GBM', GradientBoostingClassifier(random_state=seedNum)))\n",
        "train_models.append(('XGB', XGBClassifier(random_state=seedNum, n_jobs=n_jobs, tree_method='gpu_hist')))"
      ],
      "execution_count": 0,
      "outputs": []
    },
    {
      "cell_type": "code",
      "metadata": {
        "id": "x-4P8UD_JznE",
        "colab_type": "code",
        "outputId": "b6cfbdb6-ea64-4ef3-9783-fc913c63885c",
        "colab": {
          "base_uri": "https://localhost:8080/",
          "height": 606
        }
      },
      "source": [
        "# Generate model in turn\n",
        "for name, model in train_models:\n",
        "\tif (notifyStatus): email_notify(\"Algorithm \"+name+\" modeling has begun! \"+datetime.now().strftime('%a %B %d, %Y %I:%M:%S %p'))\n",
        "\tstartTimeModule = datetime.now()\n",
        "\tkfold = KFold(n_splits=n_folds, shuffle=True, random_state=seedNum)\n",
        "\tcv_results = cross_val_score(model, X_train, y_train, cv=kfold, scoring=scoring, n_jobs=n_jobs, verbose=1)\n",
        "\tprint('Cross Validation Results:', cv_results)\n",
        "\ttrain_results.append(cv_results)\n",
        "\ttrain_model_names.append(name)\n",
        "\ttrain_metrics.append(cv_results.mean())\n",
        "\tprint(\"%s: %f (%f)\" % (name, cv_results.mean(), cv_results.std()))\n",
        "\tprint(model)\n",
        "\tprint ('Model training time:', (datetime.now() - startTimeModule), '\\n')\n",
        "\tif (notifyStatus): email_notify(\"Algorithm \"+name+\" modeling completed! \"+datetime.now().strftime('%a %B %d, %Y %I:%M:%S %p'))\n",
        "print ('Average metrics ('+scoring+') from all models:',np.mean(train_metrics))\n",
        "print ('Total training time for all models:',(datetime.now() - startTimeModule))"
      ],
      "execution_count": 41,
      "outputs": [
        {
          "output_type": "stream",
          "text": [
            "[Parallel(n_jobs=-1)]: Using backend LokyBackend with 4 concurrent workers.\n",
            "[Parallel(n_jobs=-1)]: Done   5 out of   5 | elapsed:   40.3s finished\n",
            "[Parallel(n_jobs=-1)]: Using backend LokyBackend with 4 concurrent workers.\n"
          ],
          "name": "stderr"
        },
        {
          "output_type": "stream",
          "text": [
            "Cross Validation Results: [0.85320456 0.86042477 0.84968822 0.85447044 0.85291635]\n",
            "RNF: 0.854141 (0.003516)\n",
            "RandomForestClassifier(bootstrap=True, ccp_alpha=0.0, class_weight=None,\n",
            "                       criterion='gini', max_depth=None, max_features='auto',\n",
            "                       max_leaf_nodes=None, max_samples=None,\n",
            "                       min_impurity_decrease=0.0, min_impurity_split=None,\n",
            "                       min_samples_leaf=1, min_samples_split=2,\n",
            "                       min_weight_fraction_leaf=0.0, n_estimators=100,\n",
            "                       n_jobs=-1, oob_score=False, random_state=888, verbose=0,\n",
            "                       warm_start=False)\n",
            "Model training time: 0:00:40.307196 \n",
            "\n"
          ],
          "name": "stdout"
        },
        {
          "output_type": "stream",
          "text": [
            "/usr/local/lib/python3.6/dist-packages/joblib/externals/loky/process_executor.py:706: UserWarning: A worker stopped while some jobs were given to the executor. This can be caused by a too short worker timeout or by a memory leak.\n",
            "  \"timeout or by a memory leak.\", UserWarning\n"
          ],
          "name": "stderr"
        },
        {
          "output_type": "stream",
          "text": [
            "Cross Validation Results: [0.84645319 0.8524544  0.84298373 0.84776595 0.84489872]\n",
            "XGB: 0.846911 (0.003198)\n",
            "XGBClassifier(base_score=0.5, booster='gbtree', colsample_bylevel=1,\n",
            "              colsample_bynode=1, colsample_bytree=1, gamma=0,\n",
            "              learning_rate=0.1, max_delta_step=0, max_depth=3,\n",
            "              min_child_weight=1, missing=None, n_estimators=100, n_jobs=-1,\n",
            "              nthread=None, objective='binary:logistic', random_state=888,\n",
            "              reg_alpha=0, reg_lambda=1, scale_pos_weight=1, seed=None,\n",
            "              silent=None, subsample=1, tree_method='gpu_hist', verbosity=1)\n",
            "Model training time: 0:00:05.663204 \n",
            "\n",
            "Average metrics (accuracy) from all models: 0.8505260341088602\n",
            "Total training time for all models: 0:00:05.664063\n"
          ],
          "name": "stdout"
        },
        {
          "output_type": "stream",
          "text": [
            "[Parallel(n_jobs=-1)]: Done   5 out of   5 | elapsed:    5.7s finished\n"
          ],
          "name": "stderr"
        }
      ]
    },
    {
      "cell_type": "markdown",
      "metadata": {
        "id": "mXNxcnf4Jznb",
        "colab_type": "text"
      },
      "source": [
        "### 4.b) Spot-checking baseline algorithms"
      ]
    },
    {
      "cell_type": "code",
      "metadata": {
        "id": "o1LnfOKLJznb",
        "colab_type": "code",
        "outputId": "87ae28f3-37d8-47ec-c367-fd00520c160b",
        "colab": {
          "base_uri": "https://localhost:8080/",
          "height": 787
        }
      },
      "source": [
        "fig = plt.figure(figsize=(16,12))\n",
        "fig.suptitle('Algorithm Comparison - Spot Checking')\n",
        "ax = fig.add_subplot(111)\n",
        "plt.boxplot(train_results)\n",
        "ax.set_xticklabels(train_model_names)\n",
        "plt.show()"
      ],
      "execution_count": 42,
      "outputs": [
        {
          "output_type": "display_data",
          "data": {
            "image/png": "[encoded data removed]",
            "text/plain": [
              "<Figure size 1152x864 with 1 Axes>"
            ]
          },
          "metadata": {
            "tags": []
          }
        }
      ]
    },
    {
      "cell_type": "markdown",
      "metadata": {
        "id": "ZbN107UuJznf",
        "colab_type": "text"
      },
      "source": [
        "## Section 5 - Improve Accuracy\n",
        "After we achieve a short list of machine learning algorithms with good level of accuracy, we can leverage ways to improve the accuracy of the models."
      ]
    },
    {
      "cell_type": "markdown",
      "metadata": {
        "id": "7HSTtUnCJzng",
        "colab_type": "text"
      },
      "source": [
        "### 5.a) Algorithm Tuning"
      ]
    },
    {
      "cell_type": "code",
      "metadata": {
        "id": "3cUOQ4XDJznh",
        "colab_type": "code",
        "colab": {}
      },
      "source": [
        "# Set up the comparison array\n",
        "tune_results = []\n",
        "tune_model_names = []"
      ],
      "execution_count": 0,
      "outputs": []
    },
    {
      "cell_type": "code",
      "metadata": {
        "id": "scewQLl6Jznm",
        "colab_type": "code",
        "outputId": "84278dbb-3eda-4b9a-e1a1-fc534403704b",
        "colab": {
          "base_uri": "https://localhost:8080/",
          "height": 625
        }
      },
      "source": [
        "# Tuning algorithm #1 - Random Forest\n",
        "startTimeModule = datetime.now()\n",
        "if (notifyStatus): email_notify(\"Algorithm #1 tuning has begun! \"+datetime.now().strftime('%a %B %d, %Y %I:%M:%S %p'))\n",
        "\n",
        "tune_model1 = RandomForestClassifier(random_state=seedNum, n_jobs=n_jobs)\n",
        "tune_model_names.append('RNF')\n",
        "paramGrid1 = dict(n_estimators=np.array([100, 250, 500, 750, 1000]))\n",
        "\n",
        "kfold = KFold(n_splits=n_folds, shuffle=True, random_state=seedNum)\n",
        "grid1 = GridSearchCV(estimator=tune_model1, param_grid=paramGrid1, scoring=scoring, cv=kfold, n_jobs=n_jobs, verbose=2)\n",
        "grid_result1 = grid1.fit(X_train, y_train)\n",
        "print('Grid Search Results:', grid_result1)\n",
        "\n",
        "print(\"Best: %f using %s\" % (grid_result1.best_score_, grid_result1.best_params_))\n",
        "tune_results.append(grid_result1.cv_results_['mean_test_score'])\n",
        "means = grid_result1.cv_results_['mean_test_score']\n",
        "stds = grid_result1.cv_results_['std_test_score']\n",
        "params = grid_result1.cv_results_['params']\n",
        "for mean, stdev, param in zip(means, stds, params):\n",
        "    print(\"%f (%f) with: %r\" % (mean, stdev, param))\n",
        "print ('Model training time:',(datetime.now() - startTimeModule))\n",
        "if (notifyStatus): email_notify(\"Algorithm #1 tuning completed! \"+datetime.now().strftime('%a %B %d, %Y %I:%M:%S %p'))"
      ],
      "execution_count": 44,
      "outputs": [
        {
          "output_type": "stream",
          "text": [
            "Fitting 5 folds for each of 5 candidates, totalling 25 fits\n"
          ],
          "name": "stdout"
        },
        {
          "output_type": "stream",
          "text": [
            "[Parallel(n_jobs=-1)]: Using backend LokyBackend with 4 concurrent workers.\n",
            "/usr/local/lib/python3.6/dist-packages/joblib/externals/loky/process_executor.py:706: UserWarning: A worker stopped while some jobs were given to the executor. This can be caused by a too short worker timeout or by a memory leak.\n",
            "  \"timeout or by a memory leak.\", UserWarning\n",
            "[Parallel(n_jobs=-1)]: Done  25 out of  25 | elapsed: 17.2min finished\n"
          ],
          "name": "stderr"
        },
        {
          "output_type": "stream",
          "text": [
            "Grid Search Results: GridSearchCV(cv=KFold(n_splits=5, random_state=888, shuffle=True),\n",
            "             error_score=nan,\n",
            "             estimator=RandomForestClassifier(bootstrap=True, ccp_alpha=0.0,\n",
            "                                              class_weight=None,\n",
            "                                              criterion='gini', max_depth=None,\n",
            "                                              max_features='auto',\n",
            "                                              max_leaf_nodes=None,\n",
            "                                              max_samples=None,\n",
            "                                              min_impurity_decrease=0.0,\n",
            "                                              min_impurity_split=None,\n",
            "                                              min_samples_leaf=1,\n",
            "                                              min_samples_split=2,\n",
            "                                              min_weight_fraction_leaf=0.0,\n",
            "                                              n_estimators=100, n_jobs=-1,\n",
            "                                              oob_score=False, random_state=888,\n",
            "                                              verbose=0, warm_start=False),\n",
            "             iid='deprecated', n_jobs=-1,\n",
            "             param_grid={'n_estimators': array([ 100,  250,  500,  750, 1000])},\n",
            "             pre_dispatch='2*n_jobs', refit=True, return_train_score=False,\n",
            "             scoring='accuracy', verbose=2)\n",
            "Best: 0.855566 using {'n_estimators': 1000}\n",
            "0.854141 (0.003516) with: {'n_estimators': 100}\n",
            "0.854582 (0.003605) with: {'n_estimators': 250}\n",
            "0.855369 (0.003523) with: {'n_estimators': 500}\n",
            "0.855472 (0.003704) with: {'n_estimators': 750}\n",
            "0.855566 (0.003822) with: {'n_estimators': 1000}\n",
            "Model training time: 0:18:46.142940\n"
          ],
          "name": "stdout"
        }
      ]
    },
    {
      "cell_type": "code",
      "metadata": {
        "id": "7FZUogfnJznp",
        "colab_type": "code",
        "colab": {
          "base_uri": "https://localhost:8080/",
          "height": 35
        },
        "outputId": "beda660e-c5fa-4358-cf8d-d816fccd6699"
      },
      "source": [
        "for key, value in grid_result1.best_params_.items():\n",
        "    best_paramKey1 = key\n",
        "    best_paramValue1 = value\n",
        "print(\"Captured the best parameter for algorithm #1:\", best_paramKey1, '=', best_paramValue1)"
      ],
      "execution_count": 45,
      "outputs": [
        {
          "output_type": "stream",
          "text": [
            "Captured the best parameter for algorithm #1: n_estimators = 1000\n"
          ],
          "name": "stdout"
        }
      ]
    },
    {
      "cell_type": "code",
      "metadata": {
        "id": "kViyWBObJzns",
        "colab_type": "code",
        "colab": {
          "base_uri": "https://localhost:8080/",
          "height": 513
        },
        "outputId": "ebbd9e31-a31f-4801-b0be-c905107a5abc"
      },
      "source": [
        "# Tuning algorithm #2 - XGBoost\n",
        "startTimeModule = datetime.now()\n",
        "if (notifyStatus): email_notify(\"Algorithm #2 tuning has begun! \"+datetime.now().strftime('%a %B %d, %Y %I:%M:%S %p'))\n",
        "\n",
        "tune_model2 = XGBClassifier(random_state=seedNum, n_jobs=n_jobs, tree_method='gpu_hist')\n",
        "tune_model_names.append('XGB_1')\n",
        "paramGrid2 = dict(n_estimators=np.array([100, 250, 500, 750, 1000]))\n",
        "\n",
        "kfold = KFold(n_splits=n_folds, shuffle=True, random_state=seedNum)\n",
        "grid2 = GridSearchCV(estimator=tune_model2, param_grid=paramGrid2, scoring=scoring, cv=kfold, n_jobs=n_jobs, verbose=2)\n",
        "grid_result2 = grid2.fit(X_train, y_train)\n",
        "print('Grid Search Results:', grid_result2)\n",
        "\n",
        "print(\"Best: %f using %s\" % (grid_result2.best_score_, grid_result2.best_params_))\n",
        "tune_results.append(grid_result2.cv_results_['mean_test_score'])\n",
        "means = grid_result2.cv_results_['mean_test_score']\n",
        "stds = grid_result2.cv_results_['std_test_score']\n",
        "params = grid_result2.cv_results_['params']\n",
        "for mean, stdev, param in zip(means, stds, params):\n",
        "    print(\"%f (%f) with: %r\" % (mean, stdev, param))\n",
        "print ('Model training time:',(datetime.now() - startTimeModule))\n",
        "if (notifyStatus): email_notify(\"Algorithm #2 tuning completed! \"+datetime.now().strftime('%a %B %d, %Y %I:%M:%S %p'))"
      ],
      "execution_count": 46,
      "outputs": [
        {
          "output_type": "stream",
          "text": [
            "Fitting 5 folds for each of 5 candidates, totalling 25 fits\n"
          ],
          "name": "stdout"
        },
        {
          "output_type": "stream",
          "text": [
            "[Parallel(n_jobs=-1)]: Using backend LokyBackend with 4 concurrent workers.\n",
            "[Parallel(n_jobs=-1)]: Done  25 out of  25 | elapsed:   59.1s finished\n"
          ],
          "name": "stderr"
        },
        {
          "output_type": "stream",
          "text": [
            "Grid Search Results: GridSearchCV(cv=KFold(n_splits=5, random_state=888, shuffle=True),\n",
            "             error_score=nan,\n",
            "             estimator=XGBClassifier(base_score=0.5, booster='gbtree',\n",
            "                                     colsample_bylevel=1, colsample_bynode=1,\n",
            "                                     colsample_bytree=1, gamma=0,\n",
            "                                     learning_rate=0.1, max_delta_step=0,\n",
            "                                     max_depth=3, min_child_weight=1,\n",
            "                                     missing=None, n_estimators=100, n_jobs=-1,\n",
            "                                     nthread=None, objective='binary:logistic',\n",
            "                                     random_state=888, reg_alpha=0,\n",
            "                                     reg_lambda=1, scale_pos_weight=1,\n",
            "                                     seed=None, silent=None, subsample=1,\n",
            "                                     tree_method='gpu_hist', verbosity=1),\n",
            "             iid='deprecated', n_jobs=-1,\n",
            "             param_grid={'n_estimators': array([ 100,  250,  500,  750, 1000])},\n",
            "             pre_dispatch='2*n_jobs', refit=True, return_train_score=False,\n",
            "             scoring='accuracy', verbose=2)\n",
            "Best: 0.859308 using {'n_estimators': 1000}\n",
            "0.846911 (0.003198) with: {'n_estimators': 100}\n",
            "0.852866 (0.003478) with: {'n_estimators': 250}\n",
            "0.857460 (0.002926) with: {'n_estimators': 500}\n",
            "0.858539 (0.002666) with: {'n_estimators': 750}\n",
            "0.859308 (0.002454) with: {'n_estimators': 1000}\n",
            "Model training time: 0:01:03.613138\n"
          ],
          "name": "stdout"
        }
      ]
    },
    {
      "cell_type": "code",
      "metadata": {
        "id": "cFRfJIwkJznv",
        "colab_type": "code",
        "colab": {
          "base_uri": "https://localhost:8080/",
          "height": 35
        },
        "outputId": "c016c691-0275-40be-dd1e-2a779b12969d"
      },
      "source": [
        "for key, value in grid_result2.best_params_.items():\n",
        "    best_paramKey2 = key\n",
        "    best_paramValue2 = value\n",
        "print(\"Captured the best parameter for algorithm #2:\", best_paramKey2, '=', best_paramValue2)"
      ],
      "execution_count": 47,
      "outputs": [
        {
          "output_type": "stream",
          "text": [
            "Captured the best parameter for algorithm #2: n_estimators = 1000\n"
          ],
          "name": "stdout"
        }
      ]
    },
    {
      "cell_type": "code",
      "metadata": {
        "id": "m8X9tpRTJzn0",
        "colab_type": "code",
        "colab": {
          "base_uri": "https://localhost:8080/",
          "height": 680
        },
        "outputId": "a5d1a0a9-d1ae-4033-dfb4-21a624274fda"
      },
      "source": [
        "# Tuning algorithm #3 - XGBoost with More Tuning\n",
        "startTimeModule = datetime.now()\n",
        "if (notifyStatus): email_notify(\"Algorithm #3 tuning has begun! \"+datetime.now().strftime('%a %B %d, %Y %I:%M:%S %p'))\n",
        "\n",
        "tune_model3 = XGBClassifier(n_estimators=1000, random_state=seedNum, n_jobs=n_jobs, tree_method='gpu_hist')\n",
        "tune_model_names.append('XGB_2')\n",
        "paramGrid3 = dict(max_depth=np.array([3, 6, 9]), min_child_weight=np.array([1, 3, 5]))\n",
        "\n",
        "kfold = KFold(n_splits=n_folds, shuffle=True, random_state=seedNum)\n",
        "grid3 = GridSearchCV(estimator=tune_model3, param_grid=paramGrid3, scoring=scoring, cv=kfold, n_jobs=n_jobs, verbose=2)\n",
        "grid_result3 = grid3.fit(X_train, y_train)\n",
        "print('Grid Search Results:', grid_result3)\n",
        "\n",
        "print(\"Best: %f using %s\" % (grid_result3.best_score_, grid_result3.best_params_))\n",
        "tune_results.append(grid_result3.cv_results_['mean_test_score'])\n",
        "means = grid_result3.cv_results_['mean_test_score']\n",
        "stds = grid_result3.cv_results_['std_test_score']\n",
        "params = grid_result3.cv_results_['params']\n",
        "for mean, stdev, param in zip(means, stds, params):\n",
        "    print(\"%f (%f) with: %r\" % (mean, stdev, param))\n",
        "print ('Model training time:',(datetime.now() - startTimeModule))\n",
        "if (notifyStatus): email_notify(\"Algorithm #3 tuning completed! \"+datetime.now().strftime('%a %B %d, %Y %I:%M:%S %p'))"
      ],
      "execution_count": 48,
      "outputs": [
        {
          "output_type": "stream",
          "text": [
            "Fitting 5 folds for each of 9 candidates, totalling 45 fits\n"
          ],
          "name": "stdout"
        },
        {
          "output_type": "stream",
          "text": [
            "[Parallel(n_jobs=-1)]: Using backend LokyBackend with 4 concurrent workers.\n",
            "/usr/local/lib/python3.6/dist-packages/joblib/externals/loky/process_executor.py:706: UserWarning: A worker stopped while some jobs were given to the executor. This can be caused by a too short worker timeout or by a memory leak.\n",
            "  \"timeout or by a memory leak.\", UserWarning\n",
            "[Parallel(n_jobs=-1)]: Done  33 tasks      | elapsed:  5.1min\n",
            "[Parallel(n_jobs=-1)]: Done  45 out of  45 | elapsed:  8.6min finished\n"
          ],
          "name": "stderr"
        },
        {
          "output_type": "stream",
          "text": [
            "Grid Search Results: GridSearchCV(cv=KFold(n_splits=5, random_state=888, shuffle=True),\n",
            "             error_score=nan,\n",
            "             estimator=XGBClassifier(base_score=0.5, booster='gbtree',\n",
            "                                     colsample_bylevel=1, colsample_bynode=1,\n",
            "                                     colsample_bytree=1, gamma=0,\n",
            "                                     learning_rate=0.1, max_delta_step=0,\n",
            "                                     max_depth=3, min_child_weight=1,\n",
            "                                     missing=None, n_estimators=1000, n_jobs=-1,\n",
            "                                     nthread=None, objective='binary:logistic',\n",
            "                                     random_state=888, reg_alpha=0,\n",
            "                                     reg_lambda=1, scale_pos_weight=1,\n",
            "                                     seed=None, silent=None, subsample=1,\n",
            "                                     tree_method='gpu_hist', verbosity=1),\n",
            "             iid='deprecated', n_jobs=-1,\n",
            "             param_grid={'max_depth': array([3, 6, 9]),\n",
            "                         'min_child_weight': array([1, 3, 5])},\n",
            "             pre_dispatch='2*n_jobs', refit=True, return_train_score=False,\n",
            "             scoring='accuracy', verbose=2)\n",
            "Best: 0.862196 using {'max_depth': 6, 'min_child_weight': 3}\n",
            "0.859308 (0.002454) with: {'max_depth': 3, 'min_child_weight': 1}\n",
            "0.859204 (0.002488) with: {'max_depth': 3, 'min_child_weight': 3}\n",
            "0.859364 (0.002579) with: {'max_depth': 3, 'min_child_weight': 5}\n",
            "0.861305 (0.002849) with: {'max_depth': 6, 'min_child_weight': 1}\n",
            "0.862196 (0.002763) with: {'max_depth': 6, 'min_child_weight': 3}\n",
            "0.861417 (0.002870) with: {'max_depth': 6, 'min_child_weight': 5}\n",
            "0.860170 (0.002628) with: {'max_depth': 9, 'min_child_weight': 1}\n",
            "0.860292 (0.002894) with: {'max_depth': 9, 'min_child_weight': 3}\n",
            "0.860105 (0.002957) with: {'max_depth': 9, 'min_child_weight': 5}\n",
            "Model training time: 0:08:41.817096\n"
          ],
          "name": "stdout"
        }
      ]
    },
    {
      "cell_type": "code",
      "metadata": {
        "colab_type": "code",
        "id": "AI8YVL5GOVto",
        "colab": {
          "base_uri": "https://localhost:8080/",
          "height": 680
        },
        "outputId": "3d64a272-5406-401c-f7a0-3342c8a0128f"
      },
      "source": [
        "# Tuning algorithm #4 - XGBoost with More Tuning\n",
        "startTimeModule = datetime.now()\n",
        "if (notifyStatus): email_notify(\"Algorithm #3 tuning has begun! \"+datetime.now().strftime('%a %B %d, %Y %I:%M:%S %p'))\n",
        "\n",
        "tune_model4 = XGBClassifier(n_estimators=2000, random_state=seedNum, n_jobs=n_jobs, tree_method='gpu_hist')\n",
        "tune_model_names.append('XGB_3')\n",
        "paramGrid4 = dict(max_depth=np.array([3, 6, 9]), min_child_weight=np.array([1, 3, 5]))\n",
        "\n",
        "kfold = KFold(n_splits=n_folds, shuffle=True, random_state=seedNum)\n",
        "grid4 = GridSearchCV(estimator=tune_model4, param_grid=paramGrid4, scoring=scoring, cv=kfold, n_jobs=n_jobs, verbose=2)\n",
        "grid_result4 = grid4.fit(X_train, y_train)\n",
        "print('Grid Search Results:', grid_result4)\n",
        "\n",
        "print(\"Best: %f using %s\" % (grid_result4.best_score_, grid_result4.best_params_))\n",
        "tune_results.append(grid_result4.cv_results_['mean_test_score'])\n",
        "means = grid_result4.cv_results_['mean_test_score']\n",
        "stds = grid_result4.cv_results_['std_test_score']\n",
        "params = grid_result4.cv_results_['params']\n",
        "for mean, stdev, param in zip(means, stds, params):\n",
        "    print(\"%f (%f) with: %r\" % (mean, stdev, param))\n",
        "print ('Model training time:',(datetime.now() - startTimeModule))\n",
        "if (notifyStatus): email_notify(\"Algorithm #4 tuning completed! \"+datetime.now().strftime('%a %B %d, %Y %I:%M:%S %p'))"
      ],
      "execution_count": 49,
      "outputs": [
        {
          "output_type": "stream",
          "text": [
            "Fitting 5 folds for each of 9 candidates, totalling 45 fits\n"
          ],
          "name": "stdout"
        },
        {
          "output_type": "stream",
          "text": [
            "[Parallel(n_jobs=-1)]: Using backend LokyBackend with 4 concurrent workers.\n",
            "/usr/local/lib/python3.6/dist-packages/joblib/externals/loky/process_executor.py:706: UserWarning: A worker stopped while some jobs were given to the executor. This can be caused by a too short worker timeout or by a memory leak.\n",
            "  \"timeout or by a memory leak.\", UserWarning\n",
            "[Parallel(n_jobs=-1)]: Done  33 tasks      | elapsed:  9.8min\n",
            "[Parallel(n_jobs=-1)]: Done  45 out of  45 | elapsed: 16.2min finished\n"
          ],
          "name": "stderr"
        },
        {
          "output_type": "stream",
          "text": [
            "Grid Search Results: GridSearchCV(cv=KFold(n_splits=5, random_state=888, shuffle=True),\n",
            "             error_score=nan,\n",
            "             estimator=XGBClassifier(base_score=0.5, booster='gbtree',\n",
            "                                     colsample_bylevel=1, colsample_bynode=1,\n",
            "                                     colsample_bytree=1, gamma=0,\n",
            "                                     learning_rate=0.1, max_delta_step=0,\n",
            "                                     max_depth=3, min_child_weight=1,\n",
            "                                     missing=None, n_estimators=2000, n_jobs=-1,\n",
            "                                     nthread=None, objective='binary:logistic',\n",
            "                                     random_state=888, reg_alpha=0,\n",
            "                                     reg_lambda=1, scale_pos_weight=1,\n",
            "                                     seed=None, silent=None, subsample=1,\n",
            "                                     tree_method='gpu_hist', verbosity=1),\n",
            "             iid='deprecated', n_jobs=-1,\n",
            "             param_grid={'max_depth': array([3, 6, 9]),\n",
            "                         'min_child_weight': array([1, 3, 5])},\n",
            "             pre_dispatch='2*n_jobs', refit=True, return_train_score=False,\n",
            "             scoring='accuracy', verbose=2)\n",
            "Best: 0.860724 using {'max_depth': 3, 'min_child_weight': 3}\n",
            "0.860442 (0.002744) with: {'max_depth': 3, 'min_child_weight': 1}\n",
            "0.860724 (0.002841) with: {'max_depth': 3, 'min_child_weight': 3}\n",
            "0.860461 (0.002956) with: {'max_depth': 3, 'min_child_weight': 5}\n",
            "0.859917 (0.002535) with: {'max_depth': 6, 'min_child_weight': 1}\n",
            "0.860142 (0.002812) with: {'max_depth': 6, 'min_child_weight': 3}\n",
            "0.860152 (0.003006) with: {'max_depth': 6, 'min_child_weight': 5}\n",
            "0.860508 (0.002648) with: {'max_depth': 9, 'min_child_weight': 1}\n",
            "0.859401 (0.002596) with: {'max_depth': 9, 'min_child_weight': 3}\n",
            "0.859008 (0.002802) with: {'max_depth': 9, 'min_child_weight': 5}\n",
            "Model training time: 0:16:21.479955\n"
          ],
          "name": "stdout"
        }
      ]
    },
    {
      "cell_type": "markdown",
      "metadata": {
        "id": "fvpwfm9RJzn7",
        "colab_type": "text"
      },
      "source": [
        "### 5.b) Compare Algorithms After Tuning"
      ]
    },
    {
      "cell_type": "code",
      "metadata": {
        "id": "AaVKfhu7Jzn9",
        "colab_type": "code",
        "colab": {
          "base_uri": "https://localhost:8080/",
          "height": 0
        },
        "outputId": "ed2883d4-d50c-4b8c-dd4d-0ae685958d8e"
      },
      "source": [
        "fig = plt.figure(figsize=(16,12))\n",
        "fig.suptitle('Algorithm Comparison - Post Tuning')\n",
        "ax = fig.add_subplot(111)\n",
        "plt.boxplot(tune_results)\n",
        "ax.set_xticklabels(tune_model_names)\n",
        "plt.show()"
      ],
      "execution_count": 50,
      "outputs": [
        {
          "output_type": "display_data",
          "data": {
            "image/png": "[encoded data removed]",
            "text/plain": [
              "<Figure size 1152x864 with 1 Axes>"
            ]
          },
          "metadata": {
            "tags": []
          }
        }
      ]
    },
    {
      "cell_type": "markdown",
      "metadata": {
        "id": "Qk_G3eJIJzn_",
        "colab_type": "text"
      },
      "source": [
        "## Section 6 - Finalize Model\n",
        "Once we have narrow down to a model that we believe can make accurate predictions on unseen data, we are ready to finalize it. Finalizing a model may involve sub-tasks such as:\n",
        "* Using an optimal model tuned to make predictions on unseen data.\n",
        "* Creating a standalone model using the tuned parameters\n",
        "* Saving an optimal model to file for later use."
      ]
    },
    {
      "cell_type": "code",
      "metadata": {
        "id": "jmGYpCbqJzoA",
        "colab_type": "code",
        "colab": {}
      },
      "source": [
        "if (notifyStatus): email_notify(\"Model Validation and Final Model Creation has begun! \"+datetime.now().strftime('%a %B %d, %Y %I:%M:%S %p'))"
      ],
      "execution_count": 0,
      "outputs": []
    },
    {
      "cell_type": "markdown",
      "metadata": {
        "id": "RTQCZ17FJzoD",
        "colab_type": "text"
      },
      "source": [
        "### 6.a) Measure predictions from the test dataset"
      ]
    },
    {
      "cell_type": "code",
      "metadata": {
        "id": "Uua_OPKDJzoE",
        "colab_type": "code",
        "colab": {
          "base_uri": "https://localhost:8080/",
          "height": 403
        },
        "outputId": "72d7c30a-b377-4bd0-b903-113aa27a3768"
      },
      "source": [
        "test_model1 = RandomForestClassifier(n_estimators=best_paramValue1, random_state=seedNum, n_jobs=n_jobs)\n",
        "test_model1.fit(X_train, y_train)\n",
        "predictions1 = test_model1.predict(X_test)\n",
        "print('Accuracy Score:', accuracy_score(y_test, predictions1))\n",
        "print('ROC/AUC Score:', roc_auc_score(y_test, predictions1))\n",
        "print(confusion_matrix(y_test, predictions1))\n",
        "print(classification_report(y_test, predictions1))\n",
        "print(test_model1)"
      ],
      "execution_count": 52,
      "outputs": [
        {
          "output_type": "stream",
          "text": [
            "Accuracy Score: 0.8570423921910603\n",
            "ROC/AUC Score: 0.7324009593556468\n",
            "[[26431  1149]\n",
            " [ 3933  4036]]\n",
            "              precision    recall  f1-score   support\n",
            "\n",
            "           0       0.87      0.96      0.91     27580\n",
            "           1       0.78      0.51      0.61      7969\n",
            "\n",
            "    accuracy                           0.86     35549\n",
            "   macro avg       0.82      0.73      0.76     35549\n",
            "weighted avg       0.85      0.86      0.85     35549\n",
            "\n",
            "RandomForestClassifier(bootstrap=True, ccp_alpha=0.0, class_weight=None,\n",
            "                       criterion='gini', max_depth=None, max_features='auto',\n",
            "                       max_leaf_nodes=None, max_samples=None,\n",
            "                       min_impurity_decrease=0.0, min_impurity_split=None,\n",
            "                       min_samples_leaf=1, min_samples_split=2,\n",
            "                       min_weight_fraction_leaf=0.0, n_estimators=1000,\n",
            "                       n_jobs=-1, oob_score=False, random_state=888, verbose=0,\n",
            "                       warm_start=False)\n"
          ],
          "name": "stdout"
        }
      ]
    },
    {
      "cell_type": "code",
      "metadata": {
        "id": "cPCfDjZDJzoH",
        "colab_type": "code",
        "colab": {
          "base_uri": "https://localhost:8080/",
          "height": 384
        },
        "outputId": "d741991a-b487-4cb3-fec1-a51aa8aa890d"
      },
      "source": [
        "test_model2 = XGBClassifier(n_estimators=best_paramValue2, random_state=seedNum, n_jobs=n_jobs, tree_method='gpu_hist')\n",
        "test_model2.fit(X_train, y_train)\n",
        "predictions2 = test_model2.predict(X_test)\n",
        "print('Accuracy Score:', accuracy_score(y_test, predictions2))\n",
        "print('ROC/AUC Score:', roc_auc_score(y_test, predictions2))\n",
        "print(confusion_matrix(y_test, predictions2))\n",
        "print(classification_report(y_test, predictions2))\n",
        "print(test_model2)"
      ],
      "execution_count": 53,
      "outputs": [
        {
          "output_type": "stream",
          "text": [
            "Accuracy Score: 0.8597428900953613\n",
            "ROC/AUC Score: 0.7490424438389841\n",
            "[[26193  1387]\n",
            " [ 3599  4370]]\n",
            "              precision    recall  f1-score   support\n",
            "\n",
            "           0       0.88      0.95      0.91     27580\n",
            "           1       0.76      0.55      0.64      7969\n",
            "\n",
            "    accuracy                           0.86     35549\n",
            "   macro avg       0.82      0.75      0.77     35549\n",
            "weighted avg       0.85      0.86      0.85     35549\n",
            "\n",
            "XGBClassifier(base_score=0.5, booster='gbtree', colsample_bylevel=1,\n",
            "              colsample_bynode=1, colsample_bytree=1, gamma=0,\n",
            "              learning_rate=0.1, max_delta_step=0, max_depth=3,\n",
            "              min_child_weight=1, missing=None, n_estimators=1000, n_jobs=-1,\n",
            "              nthread=None, objective='binary:logistic', random_state=888,\n",
            "              reg_alpha=0, reg_lambda=1, scale_pos_weight=1, seed=None,\n",
            "              silent=None, subsample=1, tree_method='gpu_hist', verbosity=1)\n"
          ],
          "name": "stdout"
        }
      ]
    },
    {
      "cell_type": "code",
      "metadata": {
        "id": "NBmO8PrNJzoK",
        "colab_type": "code",
        "colab": {
          "base_uri": "https://localhost:8080/",
          "height": 384
        },
        "outputId": "afc6995a-f797-4711-8a79-2e719079daaa"
      },
      "source": [
        "test_model3 = XGBClassifier(n_estimators=1000, max_depth=6, min_child_weight=3,\n",
        "                            random_state=seedNum, n_jobs=n_jobs, tree_method='gpu_hist')\n",
        "test_model3.fit(X_train, y_train)\n",
        "predictions3 = test_model3.predict(X_test)\n",
        "print('Accuracy Score:', accuracy_score(y_test, predictions3))\n",
        "print('ROC/AUC Score:', roc_auc_score(y_test, predictions3))\n",
        "print(confusion_matrix(y_test, predictions3))\n",
        "print(classification_report(y_test, predictions3))\n",
        "print(test_model3)"
      ],
      "execution_count": 54,
      "outputs": [
        {
          "output_type": "stream",
          "text": [
            "Accuracy Score: 0.8627528200511969\n",
            "ROC/AUC Score: 0.7607527323745722\n",
            "[[26081  1499]\n",
            " [ 3380  4589]]\n",
            "              precision    recall  f1-score   support\n",
            "\n",
            "           0       0.89      0.95      0.91     27580\n",
            "           1       0.75      0.58      0.65      7969\n",
            "\n",
            "    accuracy                           0.86     35549\n",
            "   macro avg       0.82      0.76      0.78     35549\n",
            "weighted avg       0.86      0.86      0.86     35549\n",
            "\n",
            "XGBClassifier(base_score=0.5, booster='gbtree', colsample_bylevel=1,\n",
            "              colsample_bynode=1, colsample_bytree=1, gamma=0,\n",
            "              learning_rate=0.1, max_delta_step=0, max_depth=6,\n",
            "              min_child_weight=3, missing=None, n_estimators=1000, n_jobs=-1,\n",
            "              nthread=None, objective='binary:logistic', random_state=888,\n",
            "              reg_alpha=0, reg_lambda=1, scale_pos_weight=1, seed=None,\n",
            "              silent=None, subsample=1, tree_method='gpu_hist', verbosity=1)\n"
          ],
          "name": "stdout"
        }
      ]
    },
    {
      "cell_type": "code",
      "metadata": {
        "colab_type": "code",
        "id": "eqyqkWdwnByJ",
        "colab": {
          "base_uri": "https://localhost:8080/",
          "height": 384
        },
        "outputId": "48998c8f-3b4b-49f0-bf47-36c400900f51"
      },
      "source": [
        "test_model4 = XGBClassifier(n_estimators=2000, max_depth=3, min_child_weight=3,\n",
        "                            random_state=seedNum, n_jobs=n_jobs, tree_method='gpu_hist')\n",
        "test_model4.fit(X_train, y_train)\n",
        "predictions4 = test_model4.predict(X_test)\n",
        "print('Accuracy Score:', accuracy_score(y_test, predictions4))\n",
        "print('ROC/AUC Score:', roc_auc_score(y_test, predictions4))\n",
        "print(confusion_matrix(y_test, predictions4))\n",
        "print(classification_report(y_test, predictions4))\n",
        "print(test_model4)"
      ],
      "execution_count": 55,
      "outputs": [
        {
          "output_type": "stream",
          "text": [
            "Accuracy Score: 0.8611493994205182\n",
            "ROC/AUC Score: 0.7536964780402231\n",
            "[[26159  1421]\n",
            " [ 3515  4454]]\n",
            "              precision    recall  f1-score   support\n",
            "\n",
            "           0       0.88      0.95      0.91     27580\n",
            "           1       0.76      0.56      0.64      7969\n",
            "\n",
            "    accuracy                           0.86     35549\n",
            "   macro avg       0.82      0.75      0.78     35549\n",
            "weighted avg       0.85      0.86      0.85     35549\n",
            "\n",
            "XGBClassifier(base_score=0.5, booster='gbtree', colsample_bylevel=1,\n",
            "              colsample_bynode=1, colsample_bytree=1, gamma=0,\n",
            "              learning_rate=0.1, max_delta_step=0, max_depth=3,\n",
            "              min_child_weight=3, missing=None, n_estimators=2000, n_jobs=-1,\n",
            "              nthread=None, objective='binary:logistic', random_state=888,\n",
            "              reg_alpha=0, reg_lambda=1, scale_pos_weight=1, seed=None,\n",
            "              silent=None, subsample=1, tree_method='gpu_hist', verbosity=1)\n"
          ],
          "name": "stdout"
        }
      ]
    },
    {
      "cell_type": "markdown",
      "metadata": {
        "id": "xfuEp_WEJzoN",
        "colab_type": "text"
      },
      "source": [
        "### 6.b) Create a standalone model using all available data"
      ]
    },
    {
      "cell_type": "code",
      "metadata": {
        "id": "X1k10r7OJzoO",
        "colab_type": "code",
        "colab": {}
      },
      "source": [
        "# Combining the training and testing datasets to form the complete dataset that will be used for training the final model\n",
        "# X_complete = np.vstack((X_train, X_test))\n",
        "# y_complete = np.concatenate((y_train, y_test))\n",
        "# print(\"X_complete.shape: {} y_complete.shape: {}\".format(X_complete.shape, y_complete.shape))\n",
        "# final_model = test_model1.fit(X_complete, y_complete)\n",
        "# print(final_model)"
      ],
      "execution_count": 0,
      "outputs": []
    },
    {
      "cell_type": "markdown",
      "metadata": {
        "id": "0Vp_RF2tJzoR",
        "colab_type": "text"
      },
      "source": [
        "### 6.c) Save the final model for later use"
      ]
    },
    {
      "cell_type": "code",
      "metadata": {
        "id": "CYPHjBmeJzoS",
        "colab_type": "code",
        "colab": {}
      },
      "source": [
        "# modelName = 'FinalModel_BinaryClass.sav'\n",
        "# dump(final_model, modelName)"
      ],
      "execution_count": 0,
      "outputs": []
    },
    {
      "cell_type": "code",
      "metadata": {
        "id": "buJAkLUWJzoV",
        "colab_type": "code",
        "colab": {}
      },
      "source": [
        "if (notifyStatus): email_notify(\"Model Validation and Final Model Creation completed! \"+datetime.now().strftime('%a %B %d, %Y %I:%M:%S %p'))"
      ],
      "execution_count": 0,
      "outputs": []
    },
    {
      "cell_type": "code",
      "metadata": {
        "id": "Np7z6FMeJzoZ",
        "colab_type": "code",
        "colab": {
          "base_uri": "https://localhost:8080/",
          "height": 35
        },
        "outputId": "f430679a-bb1c-4752-dfed-9637745f4618"
      },
      "source": [
        "print ('Total time for the script:',(datetime.now() - startTimeScript))"
      ],
      "execution_count": 59,
      "outputs": [
        {
          "output_type": "stream",
          "text": [
            "Total time for the script: 0:47:49.814755\n"
          ],
          "name": "stdout"
        }
      ]
    }
  ]
}