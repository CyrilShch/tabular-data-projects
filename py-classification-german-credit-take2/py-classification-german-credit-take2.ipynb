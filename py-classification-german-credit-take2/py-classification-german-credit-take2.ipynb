{
 "cells": [
  {
   "cell_type": "markdown",
   "metadata": {},
   "source": [
    "# Binary Classification Model for German Credit Risks Using Python Take 2\n",
    "### David Lowe\n",
    "### September 26, 2018\n",
    "\n",
    "Template Credit: Adapted from a template made available by Dr. Jason Brownlee of Machine Learning Mastery. https://machinelearningmastery.com/\n",
    "\n",
    "SUMMARY: The purpose of this project is to construct a prediction model using various machine learning algorithms and to document the end-to-end steps using a template. The German Credit Risks Dataset is a binary-class classification situation where we are trying to predict one of the two possible outcomes.\n",
    "\n",
    "INTRODUCTION: This dataset contains 1,000 entries with 20 categorial/symbolic attributes prepared by Prof. Hofmann. In this dataset, each entry represents a person who takes on credit risk by a German bank. Each person is classified as good or bad credit risks according to the set of attributes.\n",
    "\n",
    "Because the case study also stipulated that it is worse to classify a customer as good when they are bad (weight of 5), than it is to classify a customer as bad when they are good (weight of 1). For this iteration, the script focuses on tuning various machine learning algorithms and identify the algorithm that can produce the best cost-and-accuracy tradeoffs.\n",
    "\n",
    "CONCLUSION: From the previous iteration Take 1, the baseline performance of the eight algorithms achieved an average accuracy of 71.80%. Three algorithms (Logistic Regression, Extra Trees, and Stochastic Gradient Boosting) achieved the top three accuracy scores after the first round of modeling. After a series of tuning trials, Stochastic Gradient Boosting turned in the top result using the training data. It achieved an average accuracy of 76.14%. Using the optimized tuning parameter available, the Stochastic Gradient Boosting algorithm processed the validation dataset with an accuracy of 77.66%, which was slightly better than the accuracy from the training data.\n",
    "\n",
    "From the cost vs accuracy comparison, both the Logistic Regression and Stochastic Gradient Boosting achieved high accuracy while keeping the costs of incorrect predictions low. Either algorithm should be considered for further modeling or production use.\n",
    "\n",
    "Dataset Used: German Credit Data Set\n",
    "\n",
    "Dataset ML Model: Binary classification with numerical and categorical attributes\n",
    "\n",
    "Dataset Reference: https://archive.ics.uci.edu/ml/datasets/Statlog+%28German+Credit+Data%29\n",
    "\n",
    "One potential source of performance benchmarks: https://www.kaggle.com/uciml/german-credit/home\n",
    "\n",
    "The project aims to touch on the following areas:\n",
    "\n",
    "* Document a predictive modeling problem end-to-end.\n",
    "* Explore data cleaning and transformation options\n",
    "* Explore non-ensemble and ensemble algorithms for baseline model performance\n",
    "* Explore algorithm tuning techniques for improving model performance\n",
    "\n",
    "Any predictive modeling machine learning project genrally can be broken down into about six major tasks:\n",
    "\n",
    "1. Prepare Problem\n",
    "2. Summarize Data\n",
    "3. Prepare Data\n",
    "4. Model and Evaluate Algorithms\n",
    "5. Improve Accuracy or Results\n",
    "6. Finalize Model and Present Results"
   ]
  },
  {
   "cell_type": "markdown",
   "metadata": {},
   "source": [
    "## Section 1 - Prepare Problem\n",
    "### 1.a) Load ibraries"
   ]
  },
  {
   "cell_type": "code",
   "execution_count": 1,
   "metadata": {},
   "outputs": [],
   "source": [
    "import numpy as np\n",
    "from matplotlib import pyplot\n",
    "from pandas import read_csv\n",
    "from pandas import set_option\n",
    "from pandas import get_dummies\n",
    "from pandas.plotting import scatter_matrix\n",
    "from sklearn.preprocessing import StandardScaler\n",
    "from sklearn.model_selection import train_test_split\n",
    "from sklearn.model_selection import KFold\n",
    "from sklearn.model_selection import cross_val_score\n",
    "from sklearn.model_selection import GridSearchCV\n",
    "from sklearn.metrics import classification_report\n",
    "from sklearn.metrics import confusion_matrix\n",
    "from sklearn.metrics import accuracy_score\n",
    "from sklearn.pipeline import Pipeline\n",
    "from sklearn.linear_model import LogisticRegression\n",
    "from sklearn.tree import DecisionTreeClassifier\n",
    "from sklearn.neighbors import KNeighborsClassifier\n",
    "from sklearn.discriminant_analysis import LinearDiscriminantAnalysis\n",
    "from sklearn.naive_bayes import GaussianNB\n",
    "from sklearn.svm import SVC\n",
    "from sklearn.ensemble import BaggingClassifier\n",
    "from sklearn.ensemble import RandomForestClassifier\n",
    "from sklearn.ensemble import ExtraTreesClassifier\n",
    "from sklearn.ensemble import AdaBoostClassifier\n",
    "from sklearn.ensemble import GradientBoostingClassifier\n",
    "from sklearn.externals.joblib import dump\n",
    "from sklearn.externals.joblib import load\n",
    "from datetime import datetime"
   ]
  },
  {
   "cell_type": "markdown",
   "metadata": {},
   "source": [
    "### 1.b) Load dataset"
   ]
  },
  {
   "cell_type": "code",
   "execution_count": 2,
   "metadata": {},
   "outputs": [],
   "source": [
    "startTimeScript = datetime.now()\n",
    "\n",
    "inputFile = 'german.data'\n",
    "colNames = [\"attr01\",\"attr02\",\"attr03\",\"attr04\",\"attr05\",\"attr06\",\"attr07\",\"attr08\",\"attr09\",\"attr10\",\"attr11\",\"attr12\",\"attr13\",\"attr14\",\"attr15\",\"attr16\",\"attr17\",\"attr18\",\"attr19\",\"attr20\",\"targetVar\"]\n",
    "entireDataset = read_csv(inputFile, delimiter=' ', names=colNames)\n",
    "\n",
    "# Re-label the class to \"0\" - Negative Class/Good Loan and \"1\" - Positive Class/Bad Loan\n",
    "entireDataset['targetVar'] = entireDataset['targetVar']-1"
   ]
  },
  {
   "cell_type": "markdown",
   "metadata": {},
   "source": [
    "### 1.c) Set up the key parameters to be used in the script"
   ]
  },
  {
   "cell_type": "code",
   "execution_count": 3,
   "metadata": {},
   "outputs": [],
   "source": [
    "# Create one random seed number for reproducible results\n",
    "seedNum = 777\n",
    "\n",
    "# Set up a variable for the total number of attribute columns (totAttr)\n",
    "totCol = len(entireDataset.columns)\n",
    "totAttr = totCol-1\n",
    "\n",
    "# Set up the number of row and columns for visualization display. dispRow * dispCol should be >= totAttr\n",
    "dispCol = 3\n",
    "if totAttr % dispCol == 0 :\n",
    "    dispRow = totAttr // dispCol\n",
    "else :\n",
    "    dispRow = (totAttr // dispCol) + 1\n",
    "    \n",
    "# Set figure width to 16 and height to 12 (4:3 aspect ratio)\n",
    "fig_size = pyplot.rcParams[\"figure.figsize\"]\n",
    "fig_size[0] = 16\n",
    "fig_size[1] = 12\n",
    "pyplot.rcParams[\"figure.figsize\"] = fig_size"
   ]
  },
  {
   "cell_type": "markdown",
   "metadata": {},
   "source": [
    "## Section 2 - Summarize Data\n",
    "To gain a better understanding of the data that we have on-hand, we will leverage a number of descriptive statistics and data visualization techniques. The plan is to use the results to consider new questions, review assumptions, and validate hypotheses that we can investigate later with specialized models."
   ]
  },
  {
   "cell_type": "markdown",
   "metadata": {},
   "source": [
    "### 2.a) Descriptive statistics"
   ]
  },
  {
   "cell_type": "markdown",
   "metadata": {},
   "source": [
    "#### 2.a.i) Peek at the data itself."
   ]
  },
  {
   "cell_type": "code",
   "execution_count": 4,
   "metadata": {},
   "outputs": [
    {
     "name": "stdout",
     "output_type": "stream",
     "text": [
      "   attr01  attr02 attr03 attr04  attr05 attr06 attr07  attr08 attr09 attr10  \\\n",
      "0     A11       6    A34    A43    1169    A65    A75       4    A93   A101   \n",
      "1     A12      48    A32    A43    5951    A61    A73       2    A92   A101   \n",
      "2     A14      12    A34    A46    2096    A61    A74       2    A93   A101   \n",
      "3     A11      42    A32    A42    7882    A61    A74       2    A93   A103   \n",
      "4     A11      24    A33    A40    4870    A61    A73       3    A93   A101   \n",
      "5     A14      36    A32    A46    9055    A65    A73       2    A93   A101   \n",
      "6     A14      24    A32    A42    2835    A63    A75       3    A93   A101   \n",
      "7     A12      36    A32    A41    6948    A61    A73       2    A93   A101   \n",
      "8     A14      12    A32    A43    3059    A64    A74       2    A91   A101   \n",
      "9     A12      30    A34    A40    5234    A61    A71       4    A94   A101   \n",
      "10    A12      12    A32    A40    1295    A61    A72       3    A92   A101   \n",
      "11    A11      48    A32    A49    4308    A61    A72       3    A92   A101   \n",
      "12    A12      12    A32    A43    1567    A61    A73       1    A92   A101   \n",
      "13    A11      24    A34    A40    1199    A61    A75       4    A93   A101   \n",
      "14    A11      15    A32    A40    1403    A61    A73       2    A92   A101   \n",
      "15    A11      24    A32    A43    1282    A62    A73       4    A92   A101   \n",
      "16    A14      24    A34    A43    2424    A65    A75       4    A93   A101   \n",
      "17    A11      30    A30    A49    8072    A65    A72       2    A93   A101   \n",
      "18    A12      24    A32    A41   12579    A61    A75       4    A92   A101   \n",
      "19    A14      24    A32    A43    3430    A63    A75       3    A93   A101   \n",
      "\n",
      "      ...     attr12 attr13  attr14 attr15 attr16  attr17 attr18  attr19  \\\n",
      "0     ...       A121     67    A143   A152      2    A173      1    A192   \n",
      "1     ...       A121     22    A143   A152      1    A173      1    A191   \n",
      "2     ...       A121     49    A143   A152      1    A172      2    A191   \n",
      "3     ...       A122     45    A143   A153      1    A173      2    A191   \n",
      "4     ...       A124     53    A143   A153      2    A173      2    A191   \n",
      "5     ...       A124     35    A143   A153      1    A172      2    A192   \n",
      "6     ...       A122     53    A143   A152      1    A173      1    A191   \n",
      "7     ...       A123     35    A143   A151      1    A174      1    A192   \n",
      "8     ...       A121     61    A143   A152      1    A172      1    A191   \n",
      "9     ...       A123     28    A143   A152      2    A174      1    A191   \n",
      "10    ...       A123     25    A143   A151      1    A173      1    A191   \n",
      "11    ...       A122     24    A143   A151      1    A173      1    A191   \n",
      "12    ...       A123     22    A143   A152      1    A173      1    A192   \n",
      "13    ...       A123     60    A143   A152      2    A172      1    A191   \n",
      "14    ...       A123     28    A143   A151      1    A173      1    A191   \n",
      "15    ...       A123     32    A143   A152      1    A172      1    A191   \n",
      "16    ...       A122     53    A143   A152      2    A173      1    A191   \n",
      "17    ...       A123     25    A141   A152      3    A173      1    A191   \n",
      "18    ...       A124     44    A143   A153      1    A174      1    A192   \n",
      "19    ...       A123     31    A143   A152      1    A173      2    A192   \n",
      "\n",
      "   attr20 targetVar  \n",
      "0    A201         0  \n",
      "1    A201         1  \n",
      "2    A201         0  \n",
      "3    A201         0  \n",
      "4    A201         1  \n",
      "5    A201         0  \n",
      "6    A201         0  \n",
      "7    A201         0  \n",
      "8    A201         0  \n",
      "9    A201         1  \n",
      "10   A201         1  \n",
      "11   A201         1  \n",
      "12   A201         0  \n",
      "13   A201         1  \n",
      "14   A201         0  \n",
      "15   A201         1  \n",
      "16   A201         0  \n",
      "17   A201         0  \n",
      "18   A201         1  \n",
      "19   A201         0  \n",
      "\n",
      "[20 rows x 21 columns]\n"
     ]
    }
   ],
   "source": [
    "print(entireDataset.head(20))"
   ]
  },
  {
   "cell_type": "markdown",
   "metadata": {},
   "source": [
    "#### 2.a.ii) Dimensions of the dataset."
   ]
  },
  {
   "cell_type": "code",
   "execution_count": 5,
   "metadata": {},
   "outputs": [
    {
     "name": "stdout",
     "output_type": "stream",
     "text": [
      "(1000, 21)\n"
     ]
    }
   ],
   "source": [
    "print(entireDataset.shape)"
   ]
  },
  {
   "cell_type": "markdown",
   "metadata": {},
   "source": [
    "#### 2.a.iii) Types of the attributes."
   ]
  },
  {
   "cell_type": "code",
   "execution_count": 6,
   "metadata": {},
   "outputs": [
    {
     "name": "stdout",
     "output_type": "stream",
     "text": [
      "attr01       object\n",
      "attr02        int64\n",
      "attr03       object\n",
      "attr04       object\n",
      "attr05        int64\n",
      "attr06       object\n",
      "attr07       object\n",
      "attr08        int64\n",
      "attr09       object\n",
      "attr10       object\n",
      "attr11        int64\n",
      "attr12       object\n",
      "attr13        int64\n",
      "attr14       object\n",
      "attr15       object\n",
      "attr16        int64\n",
      "attr17       object\n",
      "attr18        int64\n",
      "attr19       object\n",
      "attr20       object\n",
      "targetVar     int64\n",
      "dtype: object\n"
     ]
    }
   ],
   "source": [
    "print(entireDataset.dtypes)"
   ]
  },
  {
   "cell_type": "markdown",
   "metadata": {},
   "source": [
    "#### 2.a.iv) Statistical summary of all attributes."
   ]
  },
  {
   "cell_type": "code",
   "execution_count": 7,
   "metadata": {},
   "outputs": [
    {
     "name": "stdout",
     "output_type": "stream",
     "text": [
      "            attr02        attr05       attr08       attr11       attr13  \\\n",
      "count  1000.000000   1000.000000  1000.000000  1000.000000  1000.000000   \n",
      "mean     20.903000   3271.258000     2.973000     2.845000    35.546000   \n",
      "std      12.058814   2822.736876     1.118715     1.103718    11.375469   \n",
      "min       4.000000    250.000000     1.000000     1.000000    19.000000   \n",
      "25%      12.000000   1365.500000     2.000000     2.000000    27.000000   \n",
      "50%      18.000000   2319.500000     3.000000     3.000000    33.000000   \n",
      "75%      24.000000   3972.250000     4.000000     4.000000    42.000000   \n",
      "max      72.000000  18424.000000     4.000000     4.000000    75.000000   \n",
      "\n",
      "            attr16       attr18    targetVar  \n",
      "count  1000.000000  1000.000000  1000.000000  \n",
      "mean      1.407000     1.155000     0.300000  \n",
      "std       0.577654     0.362086     0.458487  \n",
      "min       1.000000     1.000000     0.000000  \n",
      "25%       1.000000     1.000000     0.000000  \n",
      "50%       1.000000     1.000000     0.000000  \n",
      "75%       2.000000     1.000000     1.000000  \n",
      "max       4.000000     2.000000     1.000000  \n"
     ]
    }
   ],
   "source": [
    "print(entireDataset.describe())"
   ]
  },
  {
   "cell_type": "markdown",
   "metadata": {},
   "source": [
    "#### 2.a.v) Summarize the levels of the class attribute."
   ]
  },
  {
   "cell_type": "code",
   "execution_count": 8,
   "metadata": {},
   "outputs": [
    {
     "name": "stdout",
     "output_type": "stream",
     "text": [
      "targetVar\n",
      "0    700\n",
      "1    300\n",
      "dtype: int64\n"
     ]
    }
   ],
   "source": [
    "print(entireDataset.groupby('targetVar').size())"
   ]
  },
  {
   "cell_type": "markdown",
   "metadata": {},
   "source": [
    "#### 2.a.v) Count missing values."
   ]
  },
  {
   "cell_type": "code",
   "execution_count": 9,
   "metadata": {},
   "outputs": [
    {
     "name": "stdout",
     "output_type": "stream",
     "text": [
      "attr01       0\n",
      "attr02       0\n",
      "attr03       0\n",
      "attr04       0\n",
      "attr05       0\n",
      "attr06       0\n",
      "attr07       0\n",
      "attr08       0\n",
      "attr09       0\n",
      "attr10       0\n",
      "attr11       0\n",
      "attr12       0\n",
      "attr13       0\n",
      "attr14       0\n",
      "attr15       0\n",
      "attr16       0\n",
      "attr17       0\n",
      "attr18       0\n",
      "attr19       0\n",
      "attr20       0\n",
      "targetVar    0\n",
      "dtype: int64\n"
     ]
    }
   ],
   "source": [
    "print(entireDataset.isnull().sum())"
   ]
  },
  {
   "cell_type": "markdown",
   "metadata": {},
   "source": [
    "## Section 3 - Prepare Data\n",
    "Some dataset may require additional preparation activities that will best exposes the structure of the problem and the relationships between the input attributes and the output variable. Some data-prep tasks might include:\n",
    "\n",
    "* Cleaning data by removing duplicates, marking missing values and even imputing missing values.\n",
    "* Feature selection where redundant features may be removed.\n",
    "* Data transforms where attributes are scaled or redistributed in order to best expose the structure of the problem later to learning algorithms."
   ]
  },
  {
   "cell_type": "markdown",
   "metadata": {},
   "source": [
    "### 3.a) Data Cleaning"
   ]
  },
  {
   "cell_type": "code",
   "execution_count": 10,
   "metadata": {},
   "outputs": [],
   "source": [
    "# Not applicable for this iteration of the project."
   ]
  },
  {
   "cell_type": "markdown",
   "metadata": {},
   "source": [
    "### 3.b) Feature Selection"
   ]
  },
  {
   "cell_type": "code",
   "execution_count": 11,
   "metadata": {},
   "outputs": [],
   "source": [
    "# Not applicable for this iteration of the project."
   ]
  },
  {
   "cell_type": "markdown",
   "metadata": {},
   "source": [
    "### 3.c) Data Transforms"
   ]
  },
  {
   "cell_type": "code",
   "execution_count": 12,
   "metadata": {},
   "outputs": [],
   "source": [
    "# Convert the string variables into categorical variables as appropriate\n",
    "entireDataset[\"attr01\"] = entireDataset[\"attr01\"].astype('category')\n",
    "entireDataset[\"attr03\"] = entireDataset[\"attr03\"].astype('category')\n",
    "entireDataset[\"attr04\"] = entireDataset[\"attr04\"].astype('category')\n",
    "entireDataset[\"attr06\"] = entireDataset[\"attr06\"].astype('category')\n",
    "entireDataset[\"attr07\"] = entireDataset[\"attr07\"].astype('category')\n",
    "entireDataset[\"attr09\"] = entireDataset[\"attr09\"].astype('category')\n",
    "entireDataset[\"attr10\"] = entireDataset[\"attr10\"].astype('category')\n",
    "entireDataset[\"attr12\"] = entireDataset[\"attr12\"].astype('category')\n",
    "entireDataset[\"attr14\"] = entireDataset[\"attr14\"].astype('category')\n",
    "entireDataset[\"attr15\"] = entireDataset[\"attr15\"].astype('category')\n",
    "entireDataset[\"attr17\"] = entireDataset[\"attr17\"].astype('category')\n",
    "entireDataset[\"attr19\"] = entireDataset[\"attr19\"].astype('category')\n",
    "entireDataset[\"attr20\"] = entireDataset[\"attr20\"].astype('category')"
   ]
  },
  {
   "cell_type": "code",
   "execution_count": 13,
   "metadata": {},
   "outputs": [
    {
     "name": "stdout",
     "output_type": "stream",
     "text": [
      "attr02         int64\n",
      "attr05         int64\n",
      "attr08         int64\n",
      "attr11         int64\n",
      "attr13         int64\n",
      "attr16         int64\n",
      "attr18         int64\n",
      "targetVar      int64\n",
      "attr01_A11     uint8\n",
      "attr01_A12     uint8\n",
      "attr01_A13     uint8\n",
      "attr01_A14     uint8\n",
      "attr03_A30     uint8\n",
      "attr03_A31     uint8\n",
      "attr03_A32     uint8\n",
      "attr03_A33     uint8\n",
      "attr03_A34     uint8\n",
      "attr04_A40     uint8\n",
      "attr04_A41     uint8\n",
      "attr04_A410    uint8\n",
      "attr04_A42     uint8\n",
      "attr04_A43     uint8\n",
      "attr04_A44     uint8\n",
      "attr04_A45     uint8\n",
      "attr04_A46     uint8\n",
      "attr04_A48     uint8\n",
      "attr04_A49     uint8\n",
      "attr06_A61     uint8\n",
      "attr06_A62     uint8\n",
      "attr06_A63     uint8\n",
      "               ...  \n",
      "attr07_A71     uint8\n",
      "attr07_A72     uint8\n",
      "attr07_A73     uint8\n",
      "attr07_A74     uint8\n",
      "attr07_A75     uint8\n",
      "attr09_A91     uint8\n",
      "attr09_A92     uint8\n",
      "attr09_A93     uint8\n",
      "attr09_A94     uint8\n",
      "attr10_A101    uint8\n",
      "attr10_A102    uint8\n",
      "attr10_A103    uint8\n",
      "attr12_A121    uint8\n",
      "attr12_A122    uint8\n",
      "attr12_A123    uint8\n",
      "attr12_A124    uint8\n",
      "attr14_A141    uint8\n",
      "attr14_A142    uint8\n",
      "attr14_A143    uint8\n",
      "attr15_A151    uint8\n",
      "attr15_A152    uint8\n",
      "attr15_A153    uint8\n",
      "attr17_A171    uint8\n",
      "attr17_A172    uint8\n",
      "attr17_A173    uint8\n",
      "attr17_A174    uint8\n",
      "attr19_A191    uint8\n",
      "attr19_A192    uint8\n",
      "attr20_A201    uint8\n",
      "attr20_A202    uint8\n",
      "Length: 62, dtype: object\n"
     ]
    }
   ],
   "source": [
    "# Apply the One-Hot-Encoding (dummy variables handling) technique\n",
    "entireDataset_dummies = get_dummies(entireDataset)\n",
    "print(entireDataset_dummies.dtypes)"
   ]
  },
  {
   "cell_type": "code",
   "execution_count": 14,
   "metadata": {},
   "outputs": [],
   "source": [
    "# Rearrange the columns so the targetVar column will appear first\n",
    "newcols = entireDataset_dummies.columns.tolist()\n",
    "newcols.insert(0, newcols.pop(newcols.index('targetVar')))\n",
    "entireDataset_dummies = entireDataset_dummies[newcols]"
   ]
  },
  {
   "cell_type": "code",
   "execution_count": 15,
   "metadata": {},
   "outputs": [
    {
     "name": "stdout",
     "output_type": "stream",
     "text": [
      "    targetVar  attr02  attr05  attr08  attr11  attr13  attr16  attr18  \\\n",
      "0           0       6    1169       4       4      67       2       1   \n",
      "1           1      48    5951       2       2      22       1       1   \n",
      "2           0      12    2096       2       3      49       1       2   \n",
      "3           0      42    7882       2       4      45       1       2   \n",
      "4           1      24    4870       3       4      53       2       2   \n",
      "5           0      36    9055       2       4      35       1       2   \n",
      "6           0      24    2835       3       4      53       1       1   \n",
      "7           0      36    6948       2       2      35       1       1   \n",
      "8           0      12    3059       2       4      61       1       1   \n",
      "9           1      30    5234       4       2      28       2       1   \n",
      "10          1      12    1295       3       1      25       1       1   \n",
      "11          1      48    4308       3       4      24       1       1   \n",
      "12          0      12    1567       1       1      22       1       1   \n",
      "13          1      24    1199       4       4      60       2       1   \n",
      "14          0      15    1403       2       4      28       1       1   \n",
      "15          1      24    1282       4       2      32       1       1   \n",
      "16          0      24    2424       4       4      53       2       1   \n",
      "17          0      30    8072       2       3      25       3       1   \n",
      "18          1      24   12579       4       2      44       1       1   \n",
      "19          0      24    3430       3       2      31       1       2   \n",
      "\n",
      "    attr01_A11  attr01_A12     ...       attr15_A152  attr15_A153  \\\n",
      "0            1           0     ...                 1            0   \n",
      "1            0           1     ...                 1            0   \n",
      "2            0           0     ...                 1            0   \n",
      "3            1           0     ...                 0            1   \n",
      "4            1           0     ...                 0            1   \n",
      "5            0           0     ...                 0            1   \n",
      "6            0           0     ...                 1            0   \n",
      "7            0           1     ...                 0            0   \n",
      "8            0           0     ...                 1            0   \n",
      "9            0           1     ...                 1            0   \n",
      "10           0           1     ...                 0            0   \n",
      "11           1           0     ...                 0            0   \n",
      "12           0           1     ...                 1            0   \n",
      "13           1           0     ...                 1            0   \n",
      "14           1           0     ...                 0            0   \n",
      "15           1           0     ...                 1            0   \n",
      "16           0           0     ...                 1            0   \n",
      "17           1           0     ...                 1            0   \n",
      "18           0           1     ...                 0            1   \n",
      "19           0           0     ...                 1            0   \n",
      "\n",
      "    attr17_A171  attr17_A172  attr17_A173  attr17_A174  attr19_A191  \\\n",
      "0             0            0            1            0            0   \n",
      "1             0            0            1            0            1   \n",
      "2             0            1            0            0            1   \n",
      "3             0            0            1            0            1   \n",
      "4             0            0            1            0            1   \n",
      "5             0            1            0            0            0   \n",
      "6             0            0            1            0            1   \n",
      "7             0            0            0            1            0   \n",
      "8             0            1            0            0            1   \n",
      "9             0            0            0            1            1   \n",
      "10            0            0            1            0            1   \n",
      "11            0            0            1            0            1   \n",
      "12            0            0            1            0            0   \n",
      "13            0            1            0            0            1   \n",
      "14            0            0            1            0            1   \n",
      "15            0            1            0            0            1   \n",
      "16            0            0            1            0            1   \n",
      "17            0            0            1            0            1   \n",
      "18            0            0            0            1            0   \n",
      "19            0            0            1            0            0   \n",
      "\n",
      "    attr19_A192  attr20_A201  attr20_A202  \n",
      "0             1            1            0  \n",
      "1             0            1            0  \n",
      "2             0            1            0  \n",
      "3             0            1            0  \n",
      "4             0            1            0  \n",
      "5             1            1            0  \n",
      "6             0            1            0  \n",
      "7             1            1            0  \n",
      "8             0            1            0  \n",
      "9             0            1            0  \n",
      "10            0            1            0  \n",
      "11            0            1            0  \n",
      "12            1            1            0  \n",
      "13            0            1            0  \n",
      "14            0            1            0  \n",
      "15            0            1            0  \n",
      "16            0            1            0  \n",
      "17            0            1            0  \n",
      "18            1            1            0  \n",
      "19            1            1            0  \n",
      "\n",
      "[20 rows x 62 columns]\n"
     ]
    }
   ],
   "source": [
    "print(entireDataset_dummies.head(20))"
   ]
  },
  {
   "cell_type": "markdown",
   "metadata": {},
   "source": [
    "### 3.d) Split-out training and validation datasets\n",
    "We create a training dataset (variable name \"training\") and a validation dataset (variable name \"validation\")."
   ]
  },
  {
   "cell_type": "code",
   "execution_count": 16,
   "metadata": {},
   "outputs": [
    {
     "name": "stdout",
     "output_type": "stream",
     "text": [
      "X_entire.shape: (1000, 61) Y_entire.shape: (1000,)\n",
      "X_train.shape: (700, 61) Y_train.shape: (700,)\n",
      "X_validation.shape: (300, 61) Y_validation.shape: (300,)\n",
      "Total time for data handling and visualization: 0:00:00.382780\n"
     ]
    }
   ],
   "source": [
    "# Determine the column offset of the targetVar column in dataframe\n",
    "# offset equals 0 if targetVar is the last column, offset equals 1 if targetVar is the first column\n",
    "offset = 1\n",
    "\n",
    "# Calculate the total number of attribute columns (non-class column)\n",
    "totAttr = len(entireDataset_dummies.columns)-1\n",
    "\n",
    "array = entireDataset_dummies.values\n",
    "X_entire = array[:,(0+offset):(totAttr+offset)]\n",
    "Y_entire = entireDataset_dummies['targetVar'].values\n",
    "validation_size = 0.30\n",
    "X_train, X_validation, Y_train, Y_validation = train_test_split(X_entire, Y_entire, test_size=validation_size, random_state=seedNum)\n",
    "print(\"X_entire.shape: {} Y_entire.shape: {}\".format(X_entire.shape, Y_entire.shape))\n",
    "print(\"X_train.shape: {} Y_train.shape: {}\".format(X_train.shape, Y_train.shape))\n",
    "print(\"X_validation.shape: {} Y_validation.shape: {}\".format(X_validation.shape, Y_validation.shape))\n",
    "print ('Total time for data handling and visualization:',(datetime.now() - startTimeScript))"
   ]
  },
  {
   "cell_type": "markdown",
   "metadata": {},
   "source": [
    "## 4. Model and Evaluate Algorithms\n",
    "After the data-prep, we next work on finding a workable model by evaluating a subset of machine learning algorithms that are good at exploiting the structure of the training. The typical evaluation tasks include:\n",
    "\n",
    "* Defining test options such as cross validation and the evaluation metric to use.\n",
    "* Spot checking a suite of linear and nonlinear machine learning algorithms.\n",
    "* Comparing the estimated accuracy of algorithms.\n",
    "\n",
    "For this project, we will evaluate one linear, four non-linear and five ensemble algorithms:\n",
    "\n",
    "Linear Algorithm: Logistic Regression\n",
    "\n",
    "Non-Linear Algorithms: Decision Trees (CART), Naive Bayes, k-Nearest Neighbors, and Support Vector Machine\n",
    "\n",
    "Ensemble Algorithms: Bagged CART, Random Forest, Extra Trees, AdaBoost, and Stochastic Gradient Boosting\n",
    "\n",
    "The random number seed is reset before each run to ensure that the evaluation of each algorithm is performed using the same data splits. It ensures the results are directly comparable."
   ]
  },
  {
   "cell_type": "markdown",
   "metadata": {},
   "source": [
    "### 4.a) Set test options and evaluation metric"
   ]
  },
  {
   "cell_type": "code",
   "execution_count": 17,
   "metadata": {},
   "outputs": [],
   "source": [
    "# Run algorithms using 10-fold cross validation\n",
    "num_folds = 10\n",
    "scoring = 'accuracy'"
   ]
  },
  {
   "cell_type": "code",
   "execution_count": 18,
   "metadata": {},
   "outputs": [],
   "source": [
    "# Set up the comparison array\n",
    "names = []\n",
    "results = []\n",
    "costs = []\n",
    "# Weight of 5 for false negative and weight of 1 for false positive\n",
    "weight_fn = 5\n",
    "weight_fp = 1"
   ]
  },
  {
   "cell_type": "markdown",
   "metadata": {},
   "source": [
    "### 4.b) Generate model and calculate costs - Logistic Regression"
   ]
  },
  {
   "cell_type": "code",
   "execution_count": 19,
   "metadata": {},
   "outputs": [
    {
     "name": "stdout",
     "output_type": "stream",
     "text": [
      "0.7466666666666667\n",
      "[[183  37]\n",
      " [ 39  41]]\n",
      "The costs of wrong predictions:  232\n",
      "             precision    recall  f1-score   support\n",
      "\n",
      "          0       0.82      0.83      0.83       220\n",
      "          1       0.53      0.51      0.52        80\n",
      "\n",
      "avg / total       0.74      0.75      0.75       300\n",
      "\n"
     ]
    }
   ],
   "source": [
    "# Make predictions using the best-tuned model possible\n",
    "startTimeModule = datetime.now()\n",
    "names.append('LR')\n",
    "model_LR = LogisticRegression(random_state=seedNum)\n",
    "model_LR.fit(X_train, Y_train)\n",
    "predictions_LR = model_LR.predict(X_validation)\n",
    "accuracy_LR = accuracy_score(Y_validation, predictions_LR)\n",
    "results.append(accuracy_LR)\n",
    "print(accuracy_LR)\n",
    "cm_LR = confusion_matrix(Y_validation, predictions_LR)\n",
    "# Calculate the costs of wrong predictions\n",
    "costs_LR = (cm_LR[0,1] * weight_fp) + (cm_LR[1,0] * weight_fn)\n",
    "print(cm_LR)\n",
    "print('The costs of wrong predictions: ',costs_LR)\n",
    "costs.append(costs_LR)\n",
    "print(classification_report(Y_validation, predictions_LR))"
   ]
  },
  {
   "cell_type": "code",
   "execution_count": 20,
   "metadata": {},
   "outputs": [
    {
     "name": "stdout",
     "output_type": "stream",
     "text": [
      "Model training and prediction time: 0:00:00.052968\n"
     ]
    }
   ],
   "source": [
    "print ('Model training and prediction time:',(datetime.now() - startTimeModule))"
   ]
  },
  {
   "cell_type": "markdown",
   "metadata": {},
   "source": [
    "### 4.c) Generate model and calculate costs - Decision Trees"
   ]
  },
  {
   "cell_type": "code",
   "execution_count": 21,
   "metadata": {},
   "outputs": [
    {
     "name": "stdout",
     "output_type": "stream",
     "text": [
      "0.6766666666666666\n",
      "[[163  57]\n",
      " [ 40  40]]\n",
      "The costs of wrong predictions:  257\n",
      "             precision    recall  f1-score   support\n",
      "\n",
      "          0       0.80      0.74      0.77       220\n",
      "          1       0.41      0.50      0.45        80\n",
      "\n",
      "avg / total       0.70      0.68      0.69       300\n",
      "\n"
     ]
    }
   ],
   "source": [
    "# Make predictions using the best-tuned model possible\n",
    "startTimeModule = datetime.now()\n",
    "names.append('CART')\n",
    "model_CART = DecisionTreeClassifier(random_state=seedNum)\n",
    "model_CART.fit(X_train, Y_train)\n",
    "predictions_CART = model_CART.predict(X_validation)\n",
    "accuracy_CART = accuracy_score(Y_validation, predictions_CART)\n",
    "results.append(accuracy_CART)\n",
    "print(accuracy_CART)\n",
    "cm_CART = confusion_matrix(Y_validation, predictions_CART)\n",
    "# Calculate the costs of wrong predictions\n",
    "costs_CART = (cm_CART[0,1] * weight_fp) + (cm_CART[1,0] * weight_fn)\n",
    "print(cm_CART)\n",
    "print('The costs of wrong predictions: ',costs_CART)\n",
    "costs.append(costs_CART)\n",
    "print(classification_report(Y_validation, predictions_CART))"
   ]
  },
  {
   "cell_type": "markdown",
   "metadata": {},
   "source": [
    "### 4.d) Generate model and calculate costs - Naive Bayes"
   ]
  },
  {
   "cell_type": "code",
   "execution_count": 22,
   "metadata": {},
   "outputs": [
    {
     "name": "stdout",
     "output_type": "stream",
     "text": [
      "0.7033333333333334\n",
      "[[162  58]\n",
      " [ 31  49]]\n",
      "The costs of wrong predictions:  213\n",
      "             precision    recall  f1-score   support\n",
      "\n",
      "          0       0.84      0.74      0.78       220\n",
      "          1       0.46      0.61      0.52        80\n",
      "\n",
      "avg / total       0.74      0.70      0.72       300\n",
      "\n"
     ]
    }
   ],
   "source": [
    "# Make predictions using the best-tuned model possible\n",
    "startTimeModule = datetime.now()\n",
    "names.append('NB')\n",
    "model_NB = GaussianNB()\n",
    "model_NB.fit(X_train, Y_train)\n",
    "predictions_NB = model_NB.predict(X_validation)\n",
    "accuracy_NB = accuracy_score(Y_validation, predictions_NB)\n",
    "results.append(accuracy_NB)\n",
    "print(accuracy_NB)\n",
    "cm_NB = confusion_matrix(Y_validation, predictions_NB)\n",
    "# Calculate the costs of wrong predictions\n",
    "costs_NB = (cm_NB[0,1] * weight_fp) + (cm_NB[1,0] * weight_fn)\n",
    "print(cm_NB)\n",
    "print('The costs of wrong predictions: ',costs_NB)\n",
    "costs.append(costs_NB)\n",
    "print(classification_report(Y_validation, predictions_NB))"
   ]
  },
  {
   "cell_type": "markdown",
   "metadata": {},
   "source": [
    "### 4.e) Generate model and calculate costs - k-Nearest Neighbors"
   ]
  },
  {
   "cell_type": "code",
   "execution_count": 23,
   "metadata": {},
   "outputs": [
    {
     "name": "stdout",
     "output_type": "stream",
     "text": [
      "Best: 0.697143 using {'n_neighbors': 20}\n",
      "0.642857 (0.062922) with: {'n_neighbors': 5}\n",
      "0.674286 (0.070218) with: {'n_neighbors': 10}\n",
      "0.697143 (0.068452) with: {'n_neighbors': 20}\n",
      "0.688571 (0.073346) with: {'n_neighbors': 25}\n",
      "0.692857 (0.070927) with: {'n_neighbors': 30}\n",
      "Model training time: 0:00:00.586663\n"
     ]
    }
   ],
   "source": [
    "# Tuning algorithm - k-Nearest Neighbors\n",
    "startTimeModule = datetime.now()\n",
    "paramGrid = dict(n_neighbors=np.array([5,10,20,25,30]))\n",
    "model = KNeighborsClassifier()\n",
    "kfold = KFold(n_splits=num_folds, random_state=seedNum)\n",
    "grid = GridSearchCV(estimator=model, param_grid=paramGrid, scoring=scoring, cv=kfold)\n",
    "grid_result = grid.fit(X_train, Y_train)\n",
    "\n",
    "print(\"Best: %f using %s\" % (grid_result.best_score_, grid_result.best_params_))\n",
    "means = grid_result.cv_results_['mean_test_score']\n",
    "stds = grid_result.cv_results_['std_test_score']\n",
    "params = grid_result.cv_results_['params']\n",
    "for mean, stdev, param in zip(means, stds, params):\n",
    "    print(\"%f (%f) with: %r\" % (mean, stdev, param))\n",
    "print ('Model training time:',(datetime.now() - startTimeModule))"
   ]
  },
  {
   "cell_type": "code",
   "execution_count": 24,
   "metadata": {},
   "outputs": [
    {
     "name": "stdout",
     "output_type": "stream",
     "text": [
      "0.74\n",
      "[[216   4]\n",
      " [ 74   6]]\n",
      "The costs of wrong predictions:  374\n",
      "             precision    recall  f1-score   support\n",
      "\n",
      "          0       0.74      0.98      0.85       220\n",
      "          1       0.60      0.07      0.13        80\n",
      "\n",
      "avg / total       0.71      0.74      0.66       300\n",
      "\n"
     ]
    }
   ],
   "source": [
    "# Make predictions using the best-tuned model possible\n",
    "startTimeModule = datetime.now()\n",
    "names.append('KNN')\n",
    "model_KNN = KNeighborsClassifier(n_neighbors=20)\n",
    "model_KNN.fit(X_train, Y_train)\n",
    "predictions_KNN = model_KNN.predict(X_validation)\n",
    "accuracy_KNN = accuracy_score(Y_validation, predictions_KNN)\n",
    "results.append(accuracy_KNN)\n",
    "print(accuracy_KNN)\n",
    "cm_KNN = confusion_matrix(Y_validation, predictions_KNN)\n",
    "# Calculate the costs of wrong predictions\n",
    "costs_KNN = (cm_KNN[0,1] * weight_fp) + (cm_KNN[1,0] * weight_fn)\n",
    "print(cm_KNN)\n",
    "print('The costs of wrong predictions: ',costs_KNN)\n",
    "costs.append(costs_KNN)\n",
    "print(classification_report(Y_validation, predictions_KNN))"
   ]
  },
  {
   "cell_type": "markdown",
   "metadata": {},
   "source": [
    "### 4.f) Generate model and calculate costs - Support Vector Machine"
   ]
  },
  {
   "cell_type": "code",
   "execution_count": 25,
   "metadata": {},
   "outputs": [
    {
     "name": "stdout",
     "output_type": "stream",
     "text": [
      "Best: 0.674286 using {'C': 1}\n",
      "0.674286 (0.058484) with: {'C': 1}\n",
      "0.661429 (0.061958) with: {'C': 2}\n",
      "0.660000 (0.062532) with: {'C': 3}\n",
      "0.660000 (0.062532) with: {'C': 4}\n",
      "0.660000 (0.062532) with: {'C': 5}\n",
      "Model training time: 0:00:04.898189\n"
     ]
    }
   ],
   "source": [
    "# Tuning algorithm - Support Vector Machine\n",
    "startTimeModule = datetime.now()\n",
    "paramGrid = dict(C=np.array([1,2,3,4,5]))\n",
    "model = SVC()\n",
    "kfold = KFold(n_splits=num_folds, random_state=seedNum)\n",
    "grid = GridSearchCV(estimator=model, param_grid=paramGrid, scoring=scoring, cv=kfold)\n",
    "grid_result = grid.fit(X_train, Y_train)\n",
    "\n",
    "print(\"Best: %f using %s\" % (grid_result.best_score_, grid_result.best_params_))\n",
    "means = grid_result.cv_results_['mean_test_score']\n",
    "stds = grid_result.cv_results_['std_test_score']\n",
    "params = grid_result.cv_results_['params']\n",
    "for mean, stdev, param in zip(means, stds, params):\n",
    "    print(\"%f (%f) with: %r\" % (mean, stdev, param))\n",
    "print ('Model training time:',(datetime.now() - startTimeModule))"
   ]
  },
  {
   "cell_type": "code",
   "execution_count": 26,
   "metadata": {},
   "outputs": [
    {
     "name": "stdout",
     "output_type": "stream",
     "text": [
      "0.72\n",
      "[[216   4]\n",
      " [ 80   0]]\n",
      "The costs of wrong predictions:  404\n",
      "             precision    recall  f1-score   support\n",
      "\n",
      "          0       0.73      0.98      0.84       220\n",
      "          1       0.00      0.00      0.00        80\n",
      "\n",
      "avg / total       0.54      0.72      0.61       300\n",
      "\n"
     ]
    }
   ],
   "source": [
    "# Make predictions using the best-tuned model possible\n",
    "startTimeModule = datetime.now()\n",
    "names.append('SVM')\n",
    "model_SVM = SVC(C=1)\n",
    "model_SVM.fit(X_train, Y_train)\n",
    "predictions_SVM = model_SVM.predict(X_validation)\n",
    "accuracy_SVM = accuracy_score(Y_validation, predictions_SVM)\n",
    "results.append(accuracy_SVM)\n",
    "print(accuracy_SVM)\n",
    "cm_SVM = confusion_matrix(Y_validation, predictions_SVM)\n",
    "# Calculate the costs of wrong predictions\n",
    "costs_SVM = (cm_SVM[0,1] * weight_fp) + (cm_SVM[1,0] * weight_fn)\n",
    "print(cm_SVM)\n",
    "print('The costs of wrong predictions: ',costs_SVM)\n",
    "costs.append(costs_SVM)\n",
    "print(classification_report(Y_validation, predictions_SVM))"
   ]
  },
  {
   "cell_type": "markdown",
   "metadata": {},
   "source": [
    "### 4.g) Generate model and calculate costs - Bagged CART"
   ]
  },
  {
   "cell_type": "code",
   "execution_count": 27,
   "metadata": {},
   "outputs": [
    {
     "name": "stdout",
     "output_type": "stream",
     "text": [
      "Best: 0.754286 using {'n_estimators': 50}\n",
      "0.745714 (0.040305) with: {'n_estimators': 10}\n",
      "0.740000 (0.045535) with: {'n_estimators': 25}\n",
      "0.754286 (0.052216) with: {'n_estimators': 50}\n",
      "0.742857 (0.042857) with: {'n_estimators': 75}\n",
      "0.742857 (0.052683) with: {'n_estimators': 100}\n",
      "Model training time: 0:00:09.138755\n"
     ]
    }
   ],
   "source": [
    "# Tuning algorithm - Bagged CART\n",
    "startTimeModule = datetime.now()\n",
    "paramGrid = dict(n_estimators=np.array([10,25,50,75,100]))\n",
    "model = BaggingClassifier(random_state=seedNum)\n",
    "kfold = KFold(n_splits=num_folds, random_state=seedNum)\n",
    "grid = GridSearchCV(estimator=model, param_grid=paramGrid, scoring=scoring, cv=kfold)\n",
    "grid_result = grid.fit(X_train, Y_train)\n",
    "\n",
    "print(\"Best: %f using %s\" % (grid_result.best_score_, grid_result.best_params_))\n",
    "means = grid_result.cv_results_['mean_test_score']\n",
    "stds = grid_result.cv_results_['std_test_score']\n",
    "params = grid_result.cv_results_['params']\n",
    "for mean, stdev, param in zip(means, stds, params):\n",
    "    print(\"%f (%f) with: %r\" % (mean, stdev, param))\n",
    "print ('Model training time:',(datetime.now() - startTimeModule))"
   ]
  },
  {
   "cell_type": "code",
   "execution_count": 28,
   "metadata": {},
   "outputs": [
    {
     "name": "stdout",
     "output_type": "stream",
     "text": [
      "0.7433333333333333\n",
      "[[188  32]\n",
      " [ 45  35]]\n",
      "The costs of wrong predictions:  257\n",
      "             precision    recall  f1-score   support\n",
      "\n",
      "          0       0.81      0.85      0.83       220\n",
      "          1       0.52      0.44      0.48        80\n",
      "\n",
      "avg / total       0.73      0.74      0.74       300\n",
      "\n"
     ]
    }
   ],
   "source": [
    "# Make predictions using the best-tuned model possible\n",
    "startTimeModule = datetime.now()\n",
    "names.append('BT')\n",
    "model_BT = BaggingClassifier(n_estimators=50, random_state=seedNum)\n",
    "model_BT.fit(X_train, Y_train)\n",
    "predictions_BT = model_BT.predict(X_validation)\n",
    "accuracy_BT = accuracy_score(Y_validation, predictions_BT)\n",
    "results.append(accuracy_BT)\n",
    "print(accuracy_BT)\n",
    "cm_BT = confusion_matrix(Y_validation, predictions_BT)\n",
    "# Calculate the costs of wrong predictions\n",
    "costs_BT = (cm_BT[0,1] * weight_fp) + (cm_BT[1,0] * weight_fn)\n",
    "print(cm_BT)\n",
    "print('The costs of wrong predictions: ',costs_BT)\n",
    "costs.append(costs_BT)\n",
    "print(classification_report(Y_validation, predictions_BT))"
   ]
  },
  {
   "cell_type": "markdown",
   "metadata": {},
   "source": [
    "### 4.h) Generate model and calculate costs - Random Forest"
   ]
  },
  {
   "cell_type": "code",
   "execution_count": 29,
   "metadata": {},
   "outputs": [
    {
     "name": "stdout",
     "output_type": "stream",
     "text": [
      "Best: 0.757143 using {'n_estimators': 75}\n",
      "0.732857 (0.043354) with: {'n_estimators': 25}\n",
      "0.747143 (0.040431) with: {'n_estimators': 50}\n",
      "0.757143 (0.036701) with: {'n_estimators': 75}\n",
      "0.755714 (0.041132) with: {'n_estimators': 100}\n",
      "0.747143 (0.045198) with: {'n_estimators': 150}\n",
      "Model training time: 0:00:06.416318\n"
     ]
    }
   ],
   "source": [
    "# Tuning algorithm - Random Forest\n",
    "startTimeModule = datetime.now()\n",
    "paramGrid = dict(n_estimators=np.array([25,50,75,100,150]))\n",
    "model = RandomForestClassifier(random_state=seedNum)\n",
    "kfold = KFold(n_splits=num_folds, random_state=seedNum)\n",
    "grid = GridSearchCV(estimator=model, param_grid=paramGrid, scoring=scoring, cv=kfold)\n",
    "grid_result = grid.fit(X_train, Y_train)\n",
    "\n",
    "print(\"Best: %f using %s\" % (grid_result.best_score_, grid_result.best_params_))\n",
    "means = grid_result.cv_results_['mean_test_score']\n",
    "stds = grid_result.cv_results_['std_test_score']\n",
    "params = grid_result.cv_results_['params']\n",
    "for mean, stdev, param in zip(means, stds, params):\n",
    "    print(\"%f (%f) with: %r\" % (mean, stdev, param))\n",
    "print ('Model training time:',(datetime.now() - startTimeModule))"
   ]
  },
  {
   "cell_type": "code",
   "execution_count": 30,
   "metadata": {},
   "outputs": [
    {
     "name": "stdout",
     "output_type": "stream",
     "text": [
      "0.75\n",
      "[[193  27]\n",
      " [ 48  32]]\n",
      "The costs of wrong predictions:  267\n",
      "             precision    recall  f1-score   support\n",
      "\n",
      "          0       0.80      0.88      0.84       220\n",
      "          1       0.54      0.40      0.46        80\n",
      "\n",
      "avg / total       0.73      0.75      0.74       300\n",
      "\n"
     ]
    }
   ],
   "source": [
    "# Make predictions using the best-tuned model possible\n",
    "startTimeModule = datetime.now()\n",
    "names.append('RF')\n",
    "model_RF = RandomForestClassifier(n_estimators=75, random_state=seedNum)\n",
    "model_RF.fit(X_train, Y_train)\n",
    "predictions_RF = model_RF.predict(X_validation)\n",
    "accuracy_RF = accuracy_score(Y_validation, predictions_RF)\n",
    "results.append(accuracy_RF)\n",
    "print(accuracy_RF)\n",
    "cm_RF = confusion_matrix(Y_validation, predictions_RF)\n",
    "# Calculate the costs of wrong predictions\n",
    "costs_RF = (cm_RF[0,1] * weight_fp) + (cm_RF[1,0] * weight_fn)\n",
    "print(cm_RF)\n",
    "print('The costs of wrong predictions: ',costs_RF)\n",
    "costs.append(costs_RF)\n",
    "print(classification_report(Y_validation, predictions_RF))"
   ]
  },
  {
   "cell_type": "markdown",
   "metadata": {},
   "source": [
    "### 4.i) Generate model and calculate costs - Extra Trees"
   ]
  },
  {
   "cell_type": "code",
   "execution_count": 31,
   "metadata": {},
   "outputs": [
    {
     "name": "stdout",
     "output_type": "stream",
     "text": [
      "Best: 0.760000 using {'n_estimators': 25}\n",
      "0.747143 (0.050325) with: {'n_estimators': 10}\n",
      "0.760000 (0.051824) with: {'n_estimators': 25}\n",
      "0.748571 (0.057570) with: {'n_estimators': 50}\n",
      "0.754286 (0.039795) with: {'n_estimators': 75}\n",
      "0.750000 (0.047916) with: {'n_estimators': 100}\n",
      "Model training time: 0:00:04.270549\n"
     ]
    }
   ],
   "source": [
    "# Tuning algorithm - Extra Trees\n",
    "startTimeModule = datetime.now()\n",
    "paramGrid = dict(n_estimators=np.array([10,25,50,75,100]))\n",
    "model = ExtraTreesClassifier(random_state=seedNum)\n",
    "kfold = KFold(n_splits=num_folds, random_state=seedNum)\n",
    "grid = GridSearchCV(estimator=model, param_grid=paramGrid, scoring=scoring, cv=kfold)\n",
    "grid_result = grid.fit(X_train, Y_train)\n",
    "\n",
    "print(\"Best: %f using %s\" % (grid_result.best_score_, grid_result.best_params_))\n",
    "means = grid_result.cv_results_['mean_test_score']\n",
    "stds = grid_result.cv_results_['std_test_score']\n",
    "params = grid_result.cv_results_['params']\n",
    "for mean, stdev, param in zip(means, stds, params):\n",
    "    print(\"%f (%f) with: %r\" % (mean, stdev, param))\n",
    "print ('Model training time:',(datetime.now() - startTimeModule))"
   ]
  },
  {
   "cell_type": "code",
   "execution_count": 32,
   "metadata": {},
   "outputs": [
    {
     "name": "stdout",
     "output_type": "stream",
     "text": [
      "0.74\n",
      "[[186  34]\n",
      " [ 44  36]]\n",
      "The costs of wrong predictions:  254\n",
      "             precision    recall  f1-score   support\n",
      "\n",
      "          0       0.81      0.85      0.83       220\n",
      "          1       0.51      0.45      0.48        80\n",
      "\n",
      "avg / total       0.73      0.74      0.73       300\n",
      "\n"
     ]
    }
   ],
   "source": [
    "# Make predictions using the best-tuned model possible\n",
    "startTimeModule = datetime.now()\n",
    "names.append('ET')\n",
    "model_ET = ExtraTreesClassifier(n_estimators=25, random_state=seedNum)\n",
    "model_ET.fit(X_train, Y_train)\n",
    "predictions_ET = model_ET.predict(X_validation)\n",
    "accuracy_ET = accuracy_score(Y_validation, predictions_ET)\n",
    "results.append(accuracy_ET)\n",
    "print(accuracy_ET)\n",
    "cm_ET = confusion_matrix(Y_validation, predictions_ET)\n",
    "# Calculate the costs of wrong predictions\n",
    "costs_ET = (cm_ET[0,1] * weight_fp) + (cm_ET[1,0] * weight_fn)\n",
    "print(cm_ET)\n",
    "print('The costs of wrong predictions: ',costs_ET)\n",
    "costs.append(costs_ET)\n",
    "print(classification_report(Y_validation, predictions_ET))"
   ]
  },
  {
   "cell_type": "markdown",
   "metadata": {},
   "source": [
    "### 4.j) Generate model and calculate costs - AdaBoost"
   ]
  },
  {
   "cell_type": "code",
   "execution_count": 33,
   "metadata": {},
   "outputs": [
    {
     "name": "stdout",
     "output_type": "stream",
     "text": [
      "Best: 0.741429 using {'n_estimators': 25}\n",
      "0.707143 (0.052392) with: {'n_estimators': 10}\n",
      "0.741429 (0.048001) with: {'n_estimators': 25}\n",
      "0.740000 (0.054884) with: {'n_estimators': 50}\n",
      "0.741429 (0.051686) with: {'n_estimators': 75}\n",
      "0.730000 (0.049260) with: {'n_estimators': 100}\n",
      "Model training time: 0:00:04.503416\n"
     ]
    }
   ],
   "source": [
    "# Tuning algorithm - AdaBoost\n",
    "startTimeModule = datetime.now()\n",
    "paramGrid = dict(n_estimators=np.array([10,25,50,75,100]))\n",
    "model = AdaBoostClassifier(random_state=seedNum)\n",
    "kfold = KFold(n_splits=num_folds, random_state=seedNum)\n",
    "grid = GridSearchCV(estimator=model, param_grid=paramGrid, scoring=scoring, cv=kfold)\n",
    "grid_result = grid.fit(X_train, Y_train)\n",
    "\n",
    "print(\"Best: %f using %s\" % (grid_result.best_score_, grid_result.best_params_))\n",
    "means = grid_result.cv_results_['mean_test_score']\n",
    "stds = grid_result.cv_results_['std_test_score']\n",
    "params = grid_result.cv_results_['params']\n",
    "for mean, stdev, param in zip(means, stds, params):\n",
    "    print(\"%f (%f) with: %r\" % (mean, stdev, param))\n",
    "print ('Model training time:',(datetime.now() - startTimeModule))"
   ]
  },
  {
   "cell_type": "code",
   "execution_count": 34,
   "metadata": {},
   "outputs": [
    {
     "name": "stdout",
     "output_type": "stream",
     "text": [
      "0.7466666666666667\n",
      "[[185  35]\n",
      " [ 41  39]]\n",
      "The costs of wrong predictions:  240\n",
      "             precision    recall  f1-score   support\n",
      "\n",
      "          0       0.82      0.84      0.83       220\n",
      "          1       0.53      0.49      0.51        80\n",
      "\n",
      "avg / total       0.74      0.75      0.74       300\n",
      "\n"
     ]
    }
   ],
   "source": [
    "# Make predictions using the best-tuned model possible\n",
    "startTimeModule = datetime.now()\n",
    "names.append('ADA')\n",
    "model_ADA = AdaBoostClassifier(n_estimators=25, random_state=seedNum)\n",
    "model_ADA.fit(X_train, Y_train)\n",
    "predictions_ADA = model_ADA.predict(X_validation)\n",
    "accuracy_ADA = accuracy_score(Y_validation, predictions_ADA)\n",
    "results.append(accuracy_ADA)\n",
    "print(accuracy_ADA)\n",
    "cm_ADA = confusion_matrix(Y_validation, predictions_ADA)\n",
    "# Calculate the costs of wrong predictions\n",
    "costs_ADA = (cm_ADA[0,1] * weight_fp) + (cm_ADA[1,0] * weight_fn)\n",
    "print(cm_ADA)\n",
    "print('The costs of wrong predictions: ',costs_ADA)\n",
    "costs.append(costs_ADA)\n",
    "print(classification_report(Y_validation, predictions_ADA))"
   ]
  },
  {
   "cell_type": "markdown",
   "metadata": {},
   "source": [
    "### 4.k) Generate model and calculate costs - Stochastic Gradient Boosting"
   ]
  },
  {
   "cell_type": "code",
   "execution_count": 35,
   "metadata": {},
   "outputs": [
    {
     "name": "stdout",
     "output_type": "stream",
     "text": [
      "Best: 0.768571 using {'n_estimators': 75}\n",
      "0.748571 (0.051981) with: {'n_estimators': 25}\n",
      "0.757143 (0.054958) with: {'n_estimators': 50}\n",
      "0.768571 (0.051429) with: {'n_estimators': 75}\n",
      "0.761429 (0.054977) with: {'n_estimators': 100}\n",
      "0.754286 (0.046861) with: {'n_estimators': 150}\n",
      "Model training time: 0:00:05.847643\n"
     ]
    }
   ],
   "source": [
    "# Tuning algorithm - Stochastic Gradient Boosting\n",
    "startTimeModule = datetime.now()\n",
    "paramGrid = dict(n_estimators=np.array([25,50,75,100,150]))\n",
    "model = GradientBoostingClassifier(random_state=seedNum)\n",
    "kfold = KFold(n_splits=num_folds, random_state=seedNum)\n",
    "grid = GridSearchCV(estimator=model, param_grid=paramGrid, scoring=scoring, cv=kfold)\n",
    "grid_result = grid.fit(X_train, Y_train)\n",
    "\n",
    "print(\"Best: %f using %s\" % (grid_result.best_score_, grid_result.best_params_))\n",
    "means = grid_result.cv_results_['mean_test_score']\n",
    "stds = grid_result.cv_results_['std_test_score']\n",
    "params = grid_result.cv_results_['params']\n",
    "for mean, stdev, param in zip(means, stds, params):\n",
    "    print(\"%f (%f) with: %r\" % (mean, stdev, param))\n",
    "print ('Model training time:',(datetime.now() - startTimeModule))"
   ]
  },
  {
   "cell_type": "code",
   "execution_count": 36,
   "metadata": {},
   "outputs": [
    {
     "name": "stdout",
     "output_type": "stream",
     "text": [
      "0.7633333333333333\n",
      "[[193  27]\n",
      " [ 44  36]]\n",
      "The costs of wrong predictions:  247\n",
      "             precision    recall  f1-score   support\n",
      "\n",
      "          0       0.81      0.88      0.84       220\n",
      "          1       0.57      0.45      0.50        80\n",
      "\n",
      "avg / total       0.75      0.76      0.75       300\n",
      "\n"
     ]
    }
   ],
   "source": [
    "# Make predictions using the best-tuned model possible\n",
    "startTimeModule = datetime.now()\n",
    "names.append('GBM')\n",
    "model_GBM = GradientBoostingClassifier(n_estimators=75, random_state=seedNum)\n",
    "model_GBM.fit(X_train, Y_train)\n",
    "predictions_GBM = model_GBM.predict(X_validation)\n",
    "accuracy_GBM = accuracy_score(Y_validation, predictions_GBM)\n",
    "results.append(accuracy_GBM)\n",
    "print(accuracy_GBM)\n",
    "cm_GBM = confusion_matrix(Y_validation, predictions_GBM)\n",
    "# Calculate the costs of wrong predictions\n",
    "costs_GBM = (cm_GBM[0,1] * weight_fp) + (cm_GBM[1,0] * weight_fn)\n",
    "print(cm_GBM)\n",
    "print('The costs of wrong predictions: ',costs_GBM)\n",
    "costs.append(costs_GBM)\n",
    "print(classification_report(Y_validation, predictions_GBM))"
   ]
  },
  {
   "cell_type": "markdown",
   "metadata": {},
   "source": [
    "## Section 5 - Model Comparison"
   ]
  },
  {
   "cell_type": "markdown",
   "metadata": {},
   "source": [
    "### 5.a) Compare the accuracy of models"
   ]
  },
  {
   "cell_type": "code",
   "execution_count": 37,
   "metadata": {},
   "outputs": [
    {
     "data": {
      "image/png": "[encoded data removed]",
      "text/plain": [
       "<Figure size 1152x864 with 1 Axes>"
      ]
     },
     "metadata": {},
     "output_type": "display_data"
    }
   ],
   "source": [
    "fig = pyplot.figure()\n",
    "fig.suptitle('Model Accuracy Comparison')\n",
    "pyplot.bar(names, results)\n",
    "pyplot.show()"
   ]
  },
  {
   "cell_type": "markdown",
   "metadata": {},
   "source": [
    "### 5.b) Compare the cost of models"
   ]
  },
  {
   "cell_type": "code",
   "execution_count": 38,
   "metadata": {},
   "outputs": [
    {
     "data": {
      "image/png": "[encoded data removed]",
      "text/plain": [
       "<Figure size 1152x864 with 1 Axes>"
      ]
     },
     "metadata": {},
     "output_type": "display_data"
    }
   ],
   "source": [
    "fig = pyplot.figure()\n",
    "fig.suptitle('Model Costs Comparison')\n",
    "pyplot.bar(names, costs)\n",
    "pyplot.show()"
   ]
  },
  {
   "cell_type": "markdown",
   "metadata": {},
   "source": [
    "### 5.c) Plot the cost vs. accuracy of models"
   ]
  },
  {
   "cell_type": "code",
   "execution_count": 39,
   "metadata": {},
   "outputs": [
    {
     "data": {
      "image/png": "[encoded data removed]",
      "text/plain": [
       "<Figure size 1152x864 with 1 Axes>"
      ]
     },
     "metadata": {},
     "output_type": "display_data"
    }
   ],
   "source": [
    "fig, ax = pyplot.subplots()\n",
    "fig.suptitle('Model Accuracy vs. Costs Comparison')\n",
    "ax.scatter(costs, results)\n",
    "for i, txt in enumerate(names):\n",
    "    ax.annotate(txt, (costs[i], results[i]))\n",
    "pyplot.show()"
   ]
  },
  {
   "cell_type": "code",
   "execution_count": 40,
   "metadata": {},
   "outputs": [
    {
     "name": "stdout",
     "output_type": "stream",
     "text": [
      "Total time for the script: 0:00:37.898250\n"
     ]
    }
   ],
   "source": [
    "print ('Total time for the script:',(datetime.now() - startTimeScript))"
   ]
  }
 ],
 "metadata": {
  "kernelspec": {
   "display_name": "Python 3",
   "language": "python",
   "name": "python3"
  },
  "language_info": {
   "codemirror_mode": {
    "name": "ipython",
    "version": 3
   },
   "file_extension": ".py",
   "mimetype": "text/x-python",
   "name": "python",
   "nbconvert_exporter": "python",
   "pygments_lexer": "ipython3",
   "version": "3.6.5"
  }
 },
 "nbformat": 4,
 "nbformat_minor": 2
}
