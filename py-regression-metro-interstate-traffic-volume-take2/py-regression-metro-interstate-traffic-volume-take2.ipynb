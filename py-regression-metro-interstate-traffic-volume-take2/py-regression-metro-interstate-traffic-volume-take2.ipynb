{
 "cells": [
  {
   "cell_type": "markdown",
   "metadata": {},
   "source": [
    "# Regression Model for Metro Interstate Traffic Volume Using Python Take 2\n",
    "### David Lowe\n",
    "### August 23, 2019\n",
    "\n",
    "Template Credit: Adapted from a template made available by Dr. Jason Brownlee of Machine Learning Mastery. [https://machinelearningmastery.com/]\n",
    "\n",
    "SUMMARY: The purpose of this project is to construct a predictive model using various machine learning algorithms and to document the end-to-end steps using a template. The Metro Interstate Traffic Volume dataset is a regression situation where we are trying to predict the value of a continuous variable.\n",
    "\n",
    "INTRODUCTION: This dataset captured the hourly measurement of Interstate 94 Westbound traffic volume for MN DoT ATR station 301. The station is roughly midway between Minneapolis and St Paul, MN. The dataset also included the hourly weather and holiday attributes for assessing their impacts on traffic volume.\n",
    "\n",
    "In iteration Take1, we established the baseline mean squared error without much of feature engineering. This round of modeling also did not include the date-time and weather description attributes.\n",
    "\n",
    "In this iteration, we will include the time stamp feature and observe its effect on prediction accuracy.\n",
    "\n",
    "ANALYSIS: From iteration Take1, the baseline performance of the machine learning algorithms achieved an average RMSE of 2646. Two algorithms (K-Nearest Neighbors and Gradient Boosting) achieved the top RMSE metrics after the first round of modeling. After a series of tuning trials, Gradient Boosting turned in the top overall result and achieved an RMSE metric of 1887. By using the optimized parameters, the Gradient Boosting algorithm processed the test dataset with an RMSE of 1878, which was even better than the prediction from the training data.\n",
    "\n",
    "In the current iteration, the performance of the machine learning algorithms achieved an average RMSE of 1559. Two algorithms (Random Forest and Extra Trees) achieved the top RMSE metrics after the first round of modeling. After a series of tuning trials, Random Forest turned in the top overall result and achieved an RMSE metric of 465. By using the optimized parameters, the Random Forest algorithm processed the test dataset with an RMSE of 461, which was slightly better than the prediction from the training data.\n",
    "\n",
    "By including the date_time information and related attributes, the machine learning models did a significantly better job in prediction with a much lower RMSE.\n",
    "\n",
    "CONCLUSION: For this iteration, the Random Forest algorithm achieved the best overall results using the training and testing datasets. For this dataset, Random Forest should be considered for further modeling.\n",
    "\n",
    "Dataset Used: Metro Interstate Traffic Volume Data Set\n",
    "\n",
    "Dataset ML Model: Regression with numerical and categorical attributes\n",
    "\n",
    "Dataset Reference: https://archive.ics.uci.edu/ml/datasets/Metro+Interstate+Traffic+Volume\n",
    "\n",
    "One potential source of performance benchmarks: https://www.kaggle.com/ramyahr/metro-interstate-traffic-volume\n",
    "\n",
    "The project aims to touch on the following areas:\n",
    "\n",
    "* Document a predictive modeling problem end-to-end.\n",
    "* Explore data cleaning and transformation options\n",
    "* Explore non-ensemble and ensemble algorithms for baseline model performance\n",
    "* Explore algorithm tuning techniques for improving model performance\n",
    "\n",
    "Any predictive modeling machine learning project genrally can be broken down into about six major tasks:\n",
    "\n",
    "1. Prepare Environment\n",
    "2. Summarize Data\n",
    "3. Prepare Data\n",
    "4. Model and Evaluate Algorithms\n",
    "5. Improve Accuracy or Results\n",
    "6. Finalize Model and Present Results"
   ]
  },
  {
   "cell_type": "markdown",
   "metadata": {},
   "source": [
    "## Section 1 - Prepare Environment"
   ]
  },
  {
   "cell_type": "markdown",
   "metadata": {},
   "source": [
    "### 1.a) Load libraries and modules"
   ]
  },
  {
   "cell_type": "code",
   "execution_count": 1,
   "metadata": {},
   "outputs": [],
   "source": [
    "import numpy as np\n",
    "import pandas as pd\n",
    "import matplotlib.pyplot as plt\n",
    "import math\n",
    "import os\n",
    "import sys\n",
    "import shutil\n",
    "import urllib.request\n",
    "import zipfile\n",
    "import warnings\n",
    "import smtplib\n",
    "import re\n",
    "from datetime import datetime\n",
    "from email.message import EmailMessage\n",
    "from pandas.plotting import scatter_matrix\n",
    "from sklearn.preprocessing import StandardScaler\n",
    "from sklearn.model_selection import train_test_split\n",
    "from sklearn.model_selection import KFold\n",
    "from sklearn.model_selection import StratifiedKFold\n",
    "from sklearn.model_selection import cross_val_score\n",
    "from sklearn.model_selection import GridSearchCV\n",
    "from sklearn.metrics import mean_squared_error\n",
    "from sklearn.metrics import r2_score\n",
    "from sklearn.pipeline import Pipeline\n",
    "from sklearn.feature_selection import RFE\n",
    "from imblearn.over_sampling import SMOTE\n",
    "from imblearn.combine import SMOTEENN\n",
    "from imblearn.combine import SMOTETomek\n",
    "\n",
    "from sklearn.linear_model import LinearRegression\n",
    "from sklearn.linear_model import Ridge\n",
    "from sklearn.linear_model import Lasso\n",
    "from sklearn.linear_model import ElasticNet\n",
    "from sklearn.tree import DecisionTreeRegressor\n",
    "from sklearn.neighbors import KNeighborsRegressor\n",
    "from sklearn.ensemble import RandomForestRegressor\n",
    "from sklearn.ensemble import ExtraTreesRegressor\n",
    "from sklearn.ensemble import GradientBoostingRegressor\n",
    "from xgboost import XGBRegressor"
   ]
  },
  {
   "cell_type": "markdown",
   "metadata": {},
   "source": [
    "### 1.b) Set up the controlling parameters and functions"
   ]
  },
  {
   "cell_type": "code",
   "execution_count": 2,
   "metadata": {},
   "outputs": [],
   "source": [
    "# Create the random seed number for reproducible results\n",
    "seedNum = 888\n",
    "\n",
    "# Set up the number of CPU cores available for multi-thread processing\n",
    "cpu_num = 6\n",
    "\n",
    "# Set the warning message filter\n",
    "warnings.filterwarnings(\"ignore\", category=FutureWarning)\n",
    "\n",
    "# Set up the flag to stop sending progress emails (setting to True will send status emails!)\n",
    "notifyStatus = False"
   ]
  },
  {
   "cell_type": "code",
   "execution_count": 3,
   "metadata": {},
   "outputs": [],
   "source": [
    "# Run algorithms using 10-fold cross validation\n",
    "num_folds = 10\n",
    "scoring = 'neg_mean_squared_error'"
   ]
  },
  {
   "cell_type": "code",
   "execution_count": 4,
   "metadata": {},
   "outputs": [],
   "source": [
    "# Set up the email notification function\n",
    "def email_notify(msg_text):\n",
    "    sender = os.environ.get('MAIL_SENDER')\n",
    "    receiver = os.environ.get('MAIL_RECEIVER')\n",
    "    gateway = os.environ.get('SMTP_GATEWAY')\n",
    "    smtpuser = os.environ.get('SMTP_USERNAME')\n",
    "    password = os.environ.get('SMTP_PASSWORD')\n",
    "    if sender==None or receiver==None or gateway==None or smtpuser==None or password==None:\n",
    "        sys.exit(\"Incomplete email setup info. Script Processing Aborted!!!\")\n",
    "    msg = EmailMessage()\n",
    "    msg.set_content(msg_text)\n",
    "    msg['Subject'] = 'Notification from Python Regression Modeling Script'\n",
    "    msg['From'] = sender\n",
    "    msg['To'] = receiver\n",
    "    server = smtplib.SMTP(gateway, 587)\n",
    "    server.starttls()\n",
    "    server.login(smtpuser, password)\n",
    "    server.send_message(msg)\n",
    "    server.quit()"
   ]
  },
  {
   "cell_type": "code",
   "execution_count": 5,
   "metadata": {},
   "outputs": [],
   "source": [
    "if (notifyStatus): email_notify(\"Library and Data Loading has begun! \"+datetime.now().strftime('%a %B %d, %Y %I:%M:%S %p'))"
   ]
  },
  {
   "cell_type": "markdown",
   "metadata": {},
   "source": [
    "### 1.c) Load dataset"
   ]
  },
  {
   "cell_type": "code",
   "execution_count": 6,
   "metadata": {},
   "outputs": [],
   "source": [
    "startTimeScript = datetime.now()\n",
    "\n",
    "dataset_path = 'https://archive.ics.uci.edu/ml/machine-learning-databases/00492/Metro_Interstate_Traffic_Volume.csv.gz'\n",
    "# dest_file = os.path.basename(dataset_path)\n",
    "dest_file = \"Metro_Interstate_Traffic_Volume.csv\"\n",
    "if (os.path.isfile(dest_file) == False) :\n",
    "    print('Downloading ' + dataset_path + ' as ' + dest_file)\n",
    "    with urllib.request.urlopen(dataset_path) as in_resp, open(dest_file, 'wb') as out_file:\n",
    "        shutil.copyfileobj(in_resp, out_file)\n",
    "    print(dest_file + 'downloaded!')\n",
    "    print('Unpacking ' + dest_file)\n",
    "    with zipfile.ZipFile(dest_file, 'r') as zip_ref:\n",
    "        zip_ref.extractall('.')\n",
    "    print(dest_file + 'unpacked!')\n",
    "\n",
    "inputFile = dest_file\n",
    "Xy_original = pd.read_csv(inputFile, sep=',', index_col=False)"
   ]
  },
  {
   "cell_type": "code",
   "execution_count": 7,
   "metadata": {},
   "outputs": [
    {
     "data": {
      "text/html": [
       "<div>\n",
       "<style scoped>\n",
       "    .dataframe tbody tr th:only-of-type {\n",
       "        vertical-align: middle;\n",
       "    }\n",
       "\n",
       "    .dataframe tbody tr th {\n",
       "        vertical-align: top;\n",
       "    }\n",
       "\n",
       "    .dataframe thead th {\n",
       "        text-align: right;\n",
       "    }\n",
       "</style>\n",
       "<table border=\"1\" class=\"dataframe\">\n",
       "  <thead>\n",
       "    <tr style=\"text-align: right;\">\n",
       "      <th></th>\n",
       "      <th>holiday</th>\n",
       "      <th>temp</th>\n",
       "      <th>rain_1h</th>\n",
       "      <th>snow_1h</th>\n",
       "      <th>clouds_all</th>\n",
       "      <th>weather_main</th>\n",
       "      <th>weather_description</th>\n",
       "      <th>date_time</th>\n",
       "      <th>traffic_volume</th>\n",
       "    </tr>\n",
       "  </thead>\n",
       "  <tbody>\n",
       "    <tr>\n",
       "      <th>0</th>\n",
       "      <td>None</td>\n",
       "      <td>288.28</td>\n",
       "      <td>0.0</td>\n",
       "      <td>0.0</td>\n",
       "      <td>40</td>\n",
       "      <td>Clouds</td>\n",
       "      <td>scattered clouds</td>\n",
       "      <td>2012-10-02 09:00:00</td>\n",
       "      <td>5545</td>\n",
       "    </tr>\n",
       "    <tr>\n",
       "      <th>1</th>\n",
       "      <td>None</td>\n",
       "      <td>289.36</td>\n",
       "      <td>0.0</td>\n",
       "      <td>0.0</td>\n",
       "      <td>75</td>\n",
       "      <td>Clouds</td>\n",
       "      <td>broken clouds</td>\n",
       "      <td>2012-10-02 10:00:00</td>\n",
       "      <td>4516</td>\n",
       "    </tr>\n",
       "    <tr>\n",
       "      <th>2</th>\n",
       "      <td>None</td>\n",
       "      <td>289.58</td>\n",
       "      <td>0.0</td>\n",
       "      <td>0.0</td>\n",
       "      <td>90</td>\n",
       "      <td>Clouds</td>\n",
       "      <td>overcast clouds</td>\n",
       "      <td>2012-10-02 11:00:00</td>\n",
       "      <td>4767</td>\n",
       "    </tr>\n",
       "    <tr>\n",
       "      <th>3</th>\n",
       "      <td>None</td>\n",
       "      <td>290.13</td>\n",
       "      <td>0.0</td>\n",
       "      <td>0.0</td>\n",
       "      <td>90</td>\n",
       "      <td>Clouds</td>\n",
       "      <td>overcast clouds</td>\n",
       "      <td>2012-10-02 12:00:00</td>\n",
       "      <td>5026</td>\n",
       "    </tr>\n",
       "    <tr>\n",
       "      <th>4</th>\n",
       "      <td>None</td>\n",
       "      <td>291.14</td>\n",
       "      <td>0.0</td>\n",
       "      <td>0.0</td>\n",
       "      <td>75</td>\n",
       "      <td>Clouds</td>\n",
       "      <td>broken clouds</td>\n",
       "      <td>2012-10-02 13:00:00</td>\n",
       "      <td>4918</td>\n",
       "    </tr>\n",
       "    <tr>\n",
       "      <th>5</th>\n",
       "      <td>None</td>\n",
       "      <td>291.72</td>\n",
       "      <td>0.0</td>\n",
       "      <td>0.0</td>\n",
       "      <td>1</td>\n",
       "      <td>Clear</td>\n",
       "      <td>sky is clear</td>\n",
       "      <td>2012-10-02 14:00:00</td>\n",
       "      <td>5181</td>\n",
       "    </tr>\n",
       "    <tr>\n",
       "      <th>6</th>\n",
       "      <td>None</td>\n",
       "      <td>293.17</td>\n",
       "      <td>0.0</td>\n",
       "      <td>0.0</td>\n",
       "      <td>1</td>\n",
       "      <td>Clear</td>\n",
       "      <td>sky is clear</td>\n",
       "      <td>2012-10-02 15:00:00</td>\n",
       "      <td>5584</td>\n",
       "    </tr>\n",
       "    <tr>\n",
       "      <th>7</th>\n",
       "      <td>None</td>\n",
       "      <td>293.86</td>\n",
       "      <td>0.0</td>\n",
       "      <td>0.0</td>\n",
       "      <td>1</td>\n",
       "      <td>Clear</td>\n",
       "      <td>sky is clear</td>\n",
       "      <td>2012-10-02 16:00:00</td>\n",
       "      <td>6015</td>\n",
       "    </tr>\n",
       "    <tr>\n",
       "      <th>8</th>\n",
       "      <td>None</td>\n",
       "      <td>294.14</td>\n",
       "      <td>0.0</td>\n",
       "      <td>0.0</td>\n",
       "      <td>20</td>\n",
       "      <td>Clouds</td>\n",
       "      <td>few clouds</td>\n",
       "      <td>2012-10-02 17:00:00</td>\n",
       "      <td>5791</td>\n",
       "    </tr>\n",
       "    <tr>\n",
       "      <th>9</th>\n",
       "      <td>None</td>\n",
       "      <td>293.10</td>\n",
       "      <td>0.0</td>\n",
       "      <td>0.0</td>\n",
       "      <td>20</td>\n",
       "      <td>Clouds</td>\n",
       "      <td>few clouds</td>\n",
       "      <td>2012-10-02 18:00:00</td>\n",
       "      <td>4770</td>\n",
       "    </tr>\n",
       "  </tbody>\n",
       "</table>\n",
       "</div>"
      ],
      "text/plain": [
       "  holiday    temp  rain_1h  snow_1h  clouds_all weather_main  \\\n",
       "0    None  288.28      0.0      0.0          40       Clouds   \n",
       "1    None  289.36      0.0      0.0          75       Clouds   \n",
       "2    None  289.58      0.0      0.0          90       Clouds   \n",
       "3    None  290.13      0.0      0.0          90       Clouds   \n",
       "4    None  291.14      0.0      0.0          75       Clouds   \n",
       "5    None  291.72      0.0      0.0           1        Clear   \n",
       "6    None  293.17      0.0      0.0           1        Clear   \n",
       "7    None  293.86      0.0      0.0           1        Clear   \n",
       "8    None  294.14      0.0      0.0          20       Clouds   \n",
       "9    None  293.10      0.0      0.0          20       Clouds   \n",
       "\n",
       "  weather_description            date_time  traffic_volume  \n",
       "0    scattered clouds  2012-10-02 09:00:00            5545  \n",
       "1       broken clouds  2012-10-02 10:00:00            4516  \n",
       "2     overcast clouds  2012-10-02 11:00:00            4767  \n",
       "3     overcast clouds  2012-10-02 12:00:00            5026  \n",
       "4       broken clouds  2012-10-02 13:00:00            4918  \n",
       "5        sky is clear  2012-10-02 14:00:00            5181  \n",
       "6        sky is clear  2012-10-02 15:00:00            5584  \n",
       "7        sky is clear  2012-10-02 16:00:00            6015  \n",
       "8          few clouds  2012-10-02 17:00:00            5791  \n",
       "9          few clouds  2012-10-02 18:00:00            4770  "
      ]
     },
     "execution_count": 7,
     "metadata": {},
     "output_type": "execute_result"
    }
   ],
   "source": [
    "# Take a peek at the dataframe after the import\n",
    "Xy_original.head(10)"
   ]
  },
  {
   "cell_type": "code",
   "execution_count": 8,
   "metadata": {},
   "outputs": [
    {
     "name": "stdout",
     "output_type": "stream",
     "text": [
      "<class 'pandas.core.frame.DataFrame'>\n",
      "RangeIndex: 48204 entries, 0 to 48203\n",
      "Data columns (total 9 columns):\n",
      "holiday                48204 non-null object\n",
      "temp                   48204 non-null float64\n",
      "rain_1h                48204 non-null float64\n",
      "snow_1h                48204 non-null float64\n",
      "clouds_all             48204 non-null int64\n",
      "weather_main           48204 non-null object\n",
      "weather_description    48204 non-null object\n",
      "date_time              48204 non-null object\n",
      "traffic_volume         48204 non-null int64\n",
      "dtypes: float64(3), int64(2), object(4)\n",
      "memory usage: 3.3+ MB\n"
     ]
    }
   ],
   "source": [
    "Xy_original.info()"
   ]
  },
  {
   "cell_type": "code",
   "execution_count": 9,
   "metadata": {},
   "outputs": [
    {
     "name": "stdout",
     "output_type": "stream",
     "text": [
      "holiday                0\n",
      "temp                   0\n",
      "rain_1h                0\n",
      "snow_1h                0\n",
      "clouds_all             0\n",
      "weather_main           0\n",
      "weather_description    0\n",
      "date_time              0\n",
      "traffic_volume         0\n",
      "dtype: int64\n",
      "Total number of NaN in the dataframe:  0\n"
     ]
    }
   ],
   "source": [
    "print(Xy_original.isnull().sum())\n",
    "print('Total number of NaN in the dataframe: ', Xy_original.isnull().sum().sum())"
   ]
  },
  {
   "cell_type": "markdown",
   "metadata": {},
   "source": [
    "### 1.d) Data Cleaning"
   ]
  },
  {
   "cell_type": "code",
   "execution_count": 10,
   "metadata": {},
   "outputs": [],
   "source": [
    "# Convert columns from one data type to another\n",
    "Xy_original['holiday'] = Xy_original['holiday'].astype('category')\n",
    "Xy_original['weather_main'] = Xy_original['weather_main'].astype('category')\n",
    "\n",
    "# Create new columns from the date_time attribute\n",
    "Xy_original['date_time'] = pd.to_datetime(Xy_original['date_time'])\n",
    "Xy_original['date_month'] = pd.DatetimeIndex(Xy_original['date_time']).month\n",
    "Xy_original['date_month'] = Xy_original['date_month'].astype('category')\n",
    "Xy_original['date_weekday'] = pd.DatetimeIndex(Xy_original['date_time']).weekday\n",
    "Xy_original['date_weekday'] = Xy_original['date_weekday'].astype('category')\n",
    "Xy_original['date_hour'] = pd.DatetimeIndex(Xy_original['date_time']).hour\n",
    "Xy_original['date_hour'] = Xy_original['date_hour'].astype('category')\n",
    "Xy_original['targetVar'] = Xy_original['traffic_volume']\n",
    "\n",
    "# Drop the un-needed features\n",
    "Xy_original.drop(columns=['date_time', 'weather_description', 'traffic_volume'], inplace=True)"
   ]
  },
  {
   "cell_type": "code",
   "execution_count": 11,
   "metadata": {},
   "outputs": [
    {
     "data": {
      "text/html": [
       "<div>\n",
       "<style scoped>\n",
       "    .dataframe tbody tr th:only-of-type {\n",
       "        vertical-align: middle;\n",
       "    }\n",
       "\n",
       "    .dataframe tbody tr th {\n",
       "        vertical-align: top;\n",
       "    }\n",
       "\n",
       "    .dataframe thead th {\n",
       "        text-align: right;\n",
       "    }\n",
       "</style>\n",
       "<table border=\"1\" class=\"dataframe\">\n",
       "  <thead>\n",
       "    <tr style=\"text-align: right;\">\n",
       "      <th></th>\n",
       "      <th>holiday</th>\n",
       "      <th>temp</th>\n",
       "      <th>rain_1h</th>\n",
       "      <th>snow_1h</th>\n",
       "      <th>clouds_all</th>\n",
       "      <th>weather_main</th>\n",
       "      <th>date_month</th>\n",
       "      <th>date_weekday</th>\n",
       "      <th>date_hour</th>\n",
       "      <th>targetVar</th>\n",
       "    </tr>\n",
       "  </thead>\n",
       "  <tbody>\n",
       "    <tr>\n",
       "      <th>0</th>\n",
       "      <td>None</td>\n",
       "      <td>288.28</td>\n",
       "      <td>0.0</td>\n",
       "      <td>0.0</td>\n",
       "      <td>40</td>\n",
       "      <td>Clouds</td>\n",
       "      <td>10</td>\n",
       "      <td>1</td>\n",
       "      <td>9</td>\n",
       "      <td>5545</td>\n",
       "    </tr>\n",
       "    <tr>\n",
       "      <th>1</th>\n",
       "      <td>None</td>\n",
       "      <td>289.36</td>\n",
       "      <td>0.0</td>\n",
       "      <td>0.0</td>\n",
       "      <td>75</td>\n",
       "      <td>Clouds</td>\n",
       "      <td>10</td>\n",
       "      <td>1</td>\n",
       "      <td>10</td>\n",
       "      <td>4516</td>\n",
       "    </tr>\n",
       "    <tr>\n",
       "      <th>2</th>\n",
       "      <td>None</td>\n",
       "      <td>289.58</td>\n",
       "      <td>0.0</td>\n",
       "      <td>0.0</td>\n",
       "      <td>90</td>\n",
       "      <td>Clouds</td>\n",
       "      <td>10</td>\n",
       "      <td>1</td>\n",
       "      <td>11</td>\n",
       "      <td>4767</td>\n",
       "    </tr>\n",
       "    <tr>\n",
       "      <th>3</th>\n",
       "      <td>None</td>\n",
       "      <td>290.13</td>\n",
       "      <td>0.0</td>\n",
       "      <td>0.0</td>\n",
       "      <td>90</td>\n",
       "      <td>Clouds</td>\n",
       "      <td>10</td>\n",
       "      <td>1</td>\n",
       "      <td>12</td>\n",
       "      <td>5026</td>\n",
       "    </tr>\n",
       "    <tr>\n",
       "      <th>4</th>\n",
       "      <td>None</td>\n",
       "      <td>291.14</td>\n",
       "      <td>0.0</td>\n",
       "      <td>0.0</td>\n",
       "      <td>75</td>\n",
       "      <td>Clouds</td>\n",
       "      <td>10</td>\n",
       "      <td>1</td>\n",
       "      <td>13</td>\n",
       "      <td>4918</td>\n",
       "    </tr>\n",
       "    <tr>\n",
       "      <th>5</th>\n",
       "      <td>None</td>\n",
       "      <td>291.72</td>\n",
       "      <td>0.0</td>\n",
       "      <td>0.0</td>\n",
       "      <td>1</td>\n",
       "      <td>Clear</td>\n",
       "      <td>10</td>\n",
       "      <td>1</td>\n",
       "      <td>14</td>\n",
       "      <td>5181</td>\n",
       "    </tr>\n",
       "    <tr>\n",
       "      <th>6</th>\n",
       "      <td>None</td>\n",
       "      <td>293.17</td>\n",
       "      <td>0.0</td>\n",
       "      <td>0.0</td>\n",
       "      <td>1</td>\n",
       "      <td>Clear</td>\n",
       "      <td>10</td>\n",
       "      <td>1</td>\n",
       "      <td>15</td>\n",
       "      <td>5584</td>\n",
       "    </tr>\n",
       "    <tr>\n",
       "      <th>7</th>\n",
       "      <td>None</td>\n",
       "      <td>293.86</td>\n",
       "      <td>0.0</td>\n",
       "      <td>0.0</td>\n",
       "      <td>1</td>\n",
       "      <td>Clear</td>\n",
       "      <td>10</td>\n",
       "      <td>1</td>\n",
       "      <td>16</td>\n",
       "      <td>6015</td>\n",
       "    </tr>\n",
       "    <tr>\n",
       "      <th>8</th>\n",
       "      <td>None</td>\n",
       "      <td>294.14</td>\n",
       "      <td>0.0</td>\n",
       "      <td>0.0</td>\n",
       "      <td>20</td>\n",
       "      <td>Clouds</td>\n",
       "      <td>10</td>\n",
       "      <td>1</td>\n",
       "      <td>17</td>\n",
       "      <td>5791</td>\n",
       "    </tr>\n",
       "    <tr>\n",
       "      <th>9</th>\n",
       "      <td>None</td>\n",
       "      <td>293.10</td>\n",
       "      <td>0.0</td>\n",
       "      <td>0.0</td>\n",
       "      <td>20</td>\n",
       "      <td>Clouds</td>\n",
       "      <td>10</td>\n",
       "      <td>1</td>\n",
       "      <td>18</td>\n",
       "      <td>4770</td>\n",
       "    </tr>\n",
       "  </tbody>\n",
       "</table>\n",
       "</div>"
      ],
      "text/plain": [
       "  holiday    temp  rain_1h  snow_1h  clouds_all weather_main date_month  \\\n",
       "0    None  288.28      0.0      0.0          40       Clouds         10   \n",
       "1    None  289.36      0.0      0.0          75       Clouds         10   \n",
       "2    None  289.58      0.0      0.0          90       Clouds         10   \n",
       "3    None  290.13      0.0      0.0          90       Clouds         10   \n",
       "4    None  291.14      0.0      0.0          75       Clouds         10   \n",
       "5    None  291.72      0.0      0.0           1        Clear         10   \n",
       "6    None  293.17      0.0      0.0           1        Clear         10   \n",
       "7    None  293.86      0.0      0.0           1        Clear         10   \n",
       "8    None  294.14      0.0      0.0          20       Clouds         10   \n",
       "9    None  293.10      0.0      0.0          20       Clouds         10   \n",
       "\n",
       "  date_weekday date_hour  targetVar  \n",
       "0            1         9       5545  \n",
       "1            1        10       4516  \n",
       "2            1        11       4767  \n",
       "3            1        12       5026  \n",
       "4            1        13       4918  \n",
       "5            1        14       5181  \n",
       "6            1        15       5584  \n",
       "7            1        16       6015  \n",
       "8            1        17       5791  \n",
       "9            1        18       4770  "
      ]
     },
     "execution_count": 11,
     "metadata": {},
     "output_type": "execute_result"
    }
   ],
   "source": [
    "# Take a peek at the dataframe after the cleaning\n",
    "Xy_original.head(10)"
   ]
  },
  {
   "cell_type": "code",
   "execution_count": 12,
   "metadata": {},
   "outputs": [
    {
     "name": "stdout",
     "output_type": "stream",
     "text": [
      "<class 'pandas.core.frame.DataFrame'>\n",
      "RangeIndex: 48204 entries, 0 to 48203\n",
      "Data columns (total 10 columns):\n",
      "holiday         48204 non-null category\n",
      "temp            48204 non-null float64\n",
      "rain_1h         48204 non-null float64\n",
      "snow_1h         48204 non-null float64\n",
      "clouds_all      48204 non-null int64\n",
      "weather_main    48204 non-null category\n",
      "date_month      48204 non-null category\n",
      "date_weekday    48204 non-null category\n",
      "date_hour       48204 non-null category\n",
      "targetVar       48204 non-null int64\n",
      "dtypes: category(5), float64(3), int64(2)\n",
      "memory usage: 2.1 MB\n"
     ]
    }
   ],
   "source": [
    "Xy_original.info()"
   ]
  },
  {
   "cell_type": "code",
   "execution_count": 13,
   "metadata": {},
   "outputs": [
    {
     "name": "stdout",
     "output_type": "stream",
     "text": [
      "holiday         0\n",
      "temp            0\n",
      "rain_1h         0\n",
      "snow_1h         0\n",
      "clouds_all      0\n",
      "weather_main    0\n",
      "date_month      0\n",
      "date_weekday    0\n",
      "date_hour       0\n",
      "targetVar       0\n",
      "dtype: int64\n",
      "Total number of NaN in the dataframe:  0\n"
     ]
    }
   ],
   "source": [
    "print(Xy_original.isnull().sum())\n",
    "print('Total number of NaN in the dataframe: ', Xy_original.isnull().sum().sum())"
   ]
  },
  {
   "cell_type": "markdown",
   "metadata": {},
   "source": [
    "### 1.e) Splitting Data into Attribute-only and Target-only Sets"
   ]
  },
  {
   "cell_type": "code",
   "execution_count": 14,
   "metadata": {},
   "outputs": [],
   "source": [
    "# Use variable totCol to hold the number of columns in the dataframe\n",
    "totCol = len(Xy_original.columns)\n",
    "\n",
    "# Set up variable totAttr for the total number of attribute columns\n",
    "totAttr = totCol-1"
   ]
  },
  {
   "cell_type": "code",
   "execution_count": 15,
   "metadata": {},
   "outputs": [],
   "source": [
    "# targetCol variable indicates the column location of the target/class variable\n",
    "# If the first column, set targetCol to 1. If the last column, set targetCol to totCol\n",
    "# If (targetCol <> 1) and (targetCol <> totCol), be aware when slicing up the dataframes for visualization\n",
    "targetCol = totCol\n",
    "\n",
    "# Standardize the class column to the name of targetVar if required\n",
    "# Xy_original = Xy_original.rename(columns={'traffic_volume': 'targetVar'})"
   ]
  },
  {
   "cell_type": "code",
   "execution_count": 16,
   "metadata": {},
   "outputs": [
    {
     "name": "stdout",
     "output_type": "stream",
     "text": [
      "Xy_original.shape: (48204, 10) X_original.shape: (48204, 9) y_original.shape: (48204,)\n"
     ]
    }
   ],
   "source": [
    "# We create attribute-only and target-only datasets (X_original and y_original)\n",
    "# for various visualization and cleaning/transformation operations\n",
    "\n",
    "if targetCol == totCol:\n",
    "    X_original = Xy_original.iloc[:,0:totAttr]\n",
    "    y_original = Xy_original.iloc[:,totAttr]\n",
    "else:\n",
    "    X_original = Xy_original.iloc[:,1:totCol]\n",
    "    y_original = Xy_original.iloc[:,0]\n",
    "\n",
    "print(\"Xy_original.shape: {} X_original.shape: {} y_original.shape: {}\".format(Xy_original.shape, X_original.shape, y_original.shape))"
   ]
  },
  {
   "cell_type": "markdown",
   "metadata": {},
   "source": [
    "### 1.f) Set up the parameters for data visualization"
   ]
  },
  {
   "cell_type": "code",
   "execution_count": 17,
   "metadata": {},
   "outputs": [],
   "source": [
    "# Set up the number of row and columns for visualization display. dispRow * dispCol should be >= totAttr\n",
    "dispCol = 4\n",
    "if totAttr % dispCol == 0 :\n",
    "    dispRow = totAttr // dispCol\n",
    "else :\n",
    "    dispRow = (totAttr // dispCol) + 1\n",
    "    \n",
    "# Set figure width to display the data visualization plots\n",
    "fig_size = plt.rcParams[\"figure.figsize\"]\n",
    "fig_size[0] = dispCol*4\n",
    "fig_size[1] = dispRow*4\n",
    "plt.rcParams[\"figure.figsize\"] = fig_size"
   ]
  },
  {
   "cell_type": "code",
   "execution_count": 18,
   "metadata": {},
   "outputs": [],
   "source": [
    "if (notifyStatus): email_notify(\"Library and Data Loading completed! \"+datetime.now().strftime('%a %B %d, %Y %I:%M:%S %p'))"
   ]
  },
  {
   "cell_type": "markdown",
   "metadata": {},
   "source": [
    "## Section 2 - Summarize Data\n",
    "To gain a better understanding of the data that we have on-hand, we will leverage a number of descriptive statistics and data visualization techniques. The plan is to use the results to consider new questions, review assumptions, and validate hypotheses that we can investigate later with specialized models."
   ]
  },
  {
   "cell_type": "code",
   "execution_count": 19,
   "metadata": {},
   "outputs": [],
   "source": [
    "if (notifyStatus): email_notify(\"Data Summarization and Visualization has begun! \"+datetime.now().strftime('%a %B %d, %Y %I:%M:%S %p'))"
   ]
  },
  {
   "cell_type": "markdown",
   "metadata": {},
   "source": [
    "### 2.a) Descriptive Statistics"
   ]
  },
  {
   "cell_type": "markdown",
   "metadata": {},
   "source": [
    "#### 2.a.i) Peek at the attribute columns"
   ]
  },
  {
   "cell_type": "code",
   "execution_count": 20,
   "metadata": {},
   "outputs": [
    {
     "data": {
      "text/html": [
       "<div>\n",
       "<style scoped>\n",
       "    .dataframe tbody tr th:only-of-type {\n",
       "        vertical-align: middle;\n",
       "    }\n",
       "\n",
       "    .dataframe tbody tr th {\n",
       "        vertical-align: top;\n",
       "    }\n",
       "\n",
       "    .dataframe thead th {\n",
       "        text-align: right;\n",
       "    }\n",
       "</style>\n",
       "<table border=\"1\" class=\"dataframe\">\n",
       "  <thead>\n",
       "    <tr style=\"text-align: right;\">\n",
       "      <th></th>\n",
       "      <th>holiday</th>\n",
       "      <th>temp</th>\n",
       "      <th>rain_1h</th>\n",
       "      <th>snow_1h</th>\n",
       "      <th>clouds_all</th>\n",
       "      <th>weather_main</th>\n",
       "      <th>date_month</th>\n",
       "      <th>date_weekday</th>\n",
       "      <th>date_hour</th>\n",
       "    </tr>\n",
       "  </thead>\n",
       "  <tbody>\n",
       "    <tr>\n",
       "      <th>0</th>\n",
       "      <td>None</td>\n",
       "      <td>288.28</td>\n",
       "      <td>0.0</td>\n",
       "      <td>0.0</td>\n",
       "      <td>40</td>\n",
       "      <td>Clouds</td>\n",
       "      <td>10</td>\n",
       "      <td>1</td>\n",
       "      <td>9</td>\n",
       "    </tr>\n",
       "    <tr>\n",
       "      <th>1</th>\n",
       "      <td>None</td>\n",
       "      <td>289.36</td>\n",
       "      <td>0.0</td>\n",
       "      <td>0.0</td>\n",
       "      <td>75</td>\n",
       "      <td>Clouds</td>\n",
       "      <td>10</td>\n",
       "      <td>1</td>\n",
       "      <td>10</td>\n",
       "    </tr>\n",
       "    <tr>\n",
       "      <th>2</th>\n",
       "      <td>None</td>\n",
       "      <td>289.58</td>\n",
       "      <td>0.0</td>\n",
       "      <td>0.0</td>\n",
       "      <td>90</td>\n",
       "      <td>Clouds</td>\n",
       "      <td>10</td>\n",
       "      <td>1</td>\n",
       "      <td>11</td>\n",
       "    </tr>\n",
       "    <tr>\n",
       "      <th>3</th>\n",
       "      <td>None</td>\n",
       "      <td>290.13</td>\n",
       "      <td>0.0</td>\n",
       "      <td>0.0</td>\n",
       "      <td>90</td>\n",
       "      <td>Clouds</td>\n",
       "      <td>10</td>\n",
       "      <td>1</td>\n",
       "      <td>12</td>\n",
       "    </tr>\n",
       "    <tr>\n",
       "      <th>4</th>\n",
       "      <td>None</td>\n",
       "      <td>291.14</td>\n",
       "      <td>0.0</td>\n",
       "      <td>0.0</td>\n",
       "      <td>75</td>\n",
       "      <td>Clouds</td>\n",
       "      <td>10</td>\n",
       "      <td>1</td>\n",
       "      <td>13</td>\n",
       "    </tr>\n",
       "    <tr>\n",
       "      <th>5</th>\n",
       "      <td>None</td>\n",
       "      <td>291.72</td>\n",
       "      <td>0.0</td>\n",
       "      <td>0.0</td>\n",
       "      <td>1</td>\n",
       "      <td>Clear</td>\n",
       "      <td>10</td>\n",
       "      <td>1</td>\n",
       "      <td>14</td>\n",
       "    </tr>\n",
       "    <tr>\n",
       "      <th>6</th>\n",
       "      <td>None</td>\n",
       "      <td>293.17</td>\n",
       "      <td>0.0</td>\n",
       "      <td>0.0</td>\n",
       "      <td>1</td>\n",
       "      <td>Clear</td>\n",
       "      <td>10</td>\n",
       "      <td>1</td>\n",
       "      <td>15</td>\n",
       "    </tr>\n",
       "    <tr>\n",
       "      <th>7</th>\n",
       "      <td>None</td>\n",
       "      <td>293.86</td>\n",
       "      <td>0.0</td>\n",
       "      <td>0.0</td>\n",
       "      <td>1</td>\n",
       "      <td>Clear</td>\n",
       "      <td>10</td>\n",
       "      <td>1</td>\n",
       "      <td>16</td>\n",
       "    </tr>\n",
       "    <tr>\n",
       "      <th>8</th>\n",
       "      <td>None</td>\n",
       "      <td>294.14</td>\n",
       "      <td>0.0</td>\n",
       "      <td>0.0</td>\n",
       "      <td>20</td>\n",
       "      <td>Clouds</td>\n",
       "      <td>10</td>\n",
       "      <td>1</td>\n",
       "      <td>17</td>\n",
       "    </tr>\n",
       "    <tr>\n",
       "      <th>9</th>\n",
       "      <td>None</td>\n",
       "      <td>293.10</td>\n",
       "      <td>0.0</td>\n",
       "      <td>0.0</td>\n",
       "      <td>20</td>\n",
       "      <td>Clouds</td>\n",
       "      <td>10</td>\n",
       "      <td>1</td>\n",
       "      <td>18</td>\n",
       "    </tr>\n",
       "  </tbody>\n",
       "</table>\n",
       "</div>"
      ],
      "text/plain": [
       "  holiday    temp  rain_1h  snow_1h  clouds_all weather_main date_month  \\\n",
       "0    None  288.28      0.0      0.0          40       Clouds         10   \n",
       "1    None  289.36      0.0      0.0          75       Clouds         10   \n",
       "2    None  289.58      0.0      0.0          90       Clouds         10   \n",
       "3    None  290.13      0.0      0.0          90       Clouds         10   \n",
       "4    None  291.14      0.0      0.0          75       Clouds         10   \n",
       "5    None  291.72      0.0      0.0           1        Clear         10   \n",
       "6    None  293.17      0.0      0.0           1        Clear         10   \n",
       "7    None  293.86      0.0      0.0           1        Clear         10   \n",
       "8    None  294.14      0.0      0.0          20       Clouds         10   \n",
       "9    None  293.10      0.0      0.0          20       Clouds         10   \n",
       "\n",
       "  date_weekday date_hour  \n",
       "0            1         9  \n",
       "1            1        10  \n",
       "2            1        11  \n",
       "3            1        12  \n",
       "4            1        13  \n",
       "5            1        14  \n",
       "6            1        15  \n",
       "7            1        16  \n",
       "8            1        17  \n",
       "9            1        18  "
      ]
     },
     "execution_count": 20,
     "metadata": {},
     "output_type": "execute_result"
    }
   ],
   "source": [
    "X_original.head(10)"
   ]
  },
  {
   "cell_type": "markdown",
   "metadata": {},
   "source": [
    "#### 2.a.ii) Dimensions and attribute types"
   ]
  },
  {
   "cell_type": "code",
   "execution_count": 21,
   "metadata": {},
   "outputs": [
    {
     "name": "stdout",
     "output_type": "stream",
     "text": [
      "<class 'pandas.core.frame.DataFrame'>\n",
      "RangeIndex: 48204 entries, 0 to 48203\n",
      "Data columns (total 9 columns):\n",
      "holiday         48204 non-null category\n",
      "temp            48204 non-null float64\n",
      "rain_1h         48204 non-null float64\n",
      "snow_1h         48204 non-null float64\n",
      "clouds_all      48204 non-null int64\n",
      "weather_main    48204 non-null category\n",
      "date_month      48204 non-null category\n",
      "date_weekday    48204 non-null category\n",
      "date_hour       48204 non-null category\n",
      "dtypes: category(5), float64(3), int64(1)\n",
      "memory usage: 1.7 MB\n"
     ]
    }
   ],
   "source": [
    "X_original.info()"
   ]
  },
  {
   "cell_type": "markdown",
   "metadata": {},
   "source": [
    "#### 2.a.iii) Statistical summary of the attributes"
   ]
  },
  {
   "cell_type": "code",
   "execution_count": 22,
   "metadata": {},
   "outputs": [
    {
     "data": {
      "text/html": [
       "<div>\n",
       "<style scoped>\n",
       "    .dataframe tbody tr th:only-of-type {\n",
       "        vertical-align: middle;\n",
       "    }\n",
       "\n",
       "    .dataframe tbody tr th {\n",
       "        vertical-align: top;\n",
       "    }\n",
       "\n",
       "    .dataframe thead th {\n",
       "        text-align: right;\n",
       "    }\n",
       "</style>\n",
       "<table border=\"1\" class=\"dataframe\">\n",
       "  <thead>\n",
       "    <tr style=\"text-align: right;\">\n",
       "      <th></th>\n",
       "      <th>temp</th>\n",
       "      <th>rain_1h</th>\n",
       "      <th>snow_1h</th>\n",
       "      <th>clouds_all</th>\n",
       "    </tr>\n",
       "  </thead>\n",
       "  <tbody>\n",
       "    <tr>\n",
       "      <th>count</th>\n",
       "      <td>48204.000000</td>\n",
       "      <td>48204.000000</td>\n",
       "      <td>48204.000000</td>\n",
       "      <td>48204.000000</td>\n",
       "    </tr>\n",
       "    <tr>\n",
       "      <th>mean</th>\n",
       "      <td>281.205870</td>\n",
       "      <td>0.334264</td>\n",
       "      <td>0.000222</td>\n",
       "      <td>49.362231</td>\n",
       "    </tr>\n",
       "    <tr>\n",
       "      <th>std</th>\n",
       "      <td>13.338232</td>\n",
       "      <td>44.789133</td>\n",
       "      <td>0.008168</td>\n",
       "      <td>39.015750</td>\n",
       "    </tr>\n",
       "    <tr>\n",
       "      <th>min</th>\n",
       "      <td>0.000000</td>\n",
       "      <td>0.000000</td>\n",
       "      <td>0.000000</td>\n",
       "      <td>0.000000</td>\n",
       "    </tr>\n",
       "    <tr>\n",
       "      <th>25%</th>\n",
       "      <td>272.160000</td>\n",
       "      <td>0.000000</td>\n",
       "      <td>0.000000</td>\n",
       "      <td>1.000000</td>\n",
       "    </tr>\n",
       "    <tr>\n",
       "      <th>50%</th>\n",
       "      <td>282.450000</td>\n",
       "      <td>0.000000</td>\n",
       "      <td>0.000000</td>\n",
       "      <td>64.000000</td>\n",
       "    </tr>\n",
       "    <tr>\n",
       "      <th>75%</th>\n",
       "      <td>291.806000</td>\n",
       "      <td>0.000000</td>\n",
       "      <td>0.000000</td>\n",
       "      <td>90.000000</td>\n",
       "    </tr>\n",
       "    <tr>\n",
       "      <th>max</th>\n",
       "      <td>310.070000</td>\n",
       "      <td>9831.300000</td>\n",
       "      <td>0.510000</td>\n",
       "      <td>100.000000</td>\n",
       "    </tr>\n",
       "  </tbody>\n",
       "</table>\n",
       "</div>"
      ],
      "text/plain": [
       "               temp       rain_1h       snow_1h    clouds_all\n",
       "count  48204.000000  48204.000000  48204.000000  48204.000000\n",
       "mean     281.205870      0.334264      0.000222     49.362231\n",
       "std       13.338232     44.789133      0.008168     39.015750\n",
       "min        0.000000      0.000000      0.000000      0.000000\n",
       "25%      272.160000      0.000000      0.000000      1.000000\n",
       "50%      282.450000      0.000000      0.000000     64.000000\n",
       "75%      291.806000      0.000000      0.000000     90.000000\n",
       "max      310.070000   9831.300000      0.510000    100.000000"
      ]
     },
     "execution_count": 22,
     "metadata": {},
     "output_type": "execute_result"
    }
   ],
   "source": [
    "X_original.describe()"
   ]
  },
  {
   "cell_type": "markdown",
   "metadata": {},
   "source": [
    "### 2.b) Data Visualization"
   ]
  },
  {
   "cell_type": "markdown",
   "metadata": {},
   "source": [
    "##### 2.b.i) Univariate plots to better understand each attribute"
   ]
  },
  {
   "cell_type": "code",
   "execution_count": 23,
   "metadata": {
    "scrolled": true
   },
   "outputs": [
    {
     "data": {
      "image/png": "[encoded data removed]",
      "text/plain": [
       "<Figure size 1152x864 with 12 Axes>"
      ]
     },
     "metadata": {
      "needs_background": "light"
     },
     "output_type": "display_data"
    }
   ],
   "source": [
    "# Histograms for each attribute\n",
    "X_original.hist(layout=(dispRow,dispCol))\n",
    "plt.show()"
   ]
  },
  {
   "cell_type": "code",
   "execution_count": 24,
   "metadata": {},
   "outputs": [
    {
     "data": {
      "image/png": "[encoded data removed]",
      "text/plain": [
       "<Figure size 1152x864 with 12 Axes>"
      ]
     },
     "metadata": {
      "needs_background": "light"
     },
     "output_type": "display_data"
    }
   ],
   "source": [
    "# Density plot for each attribute\n",
    "X_original.plot(kind='density', subplots=True, layout=(dispRow,dispCol))\n",
    "plt.show()"
   ]
  },
  {
   "cell_type": "code",
   "execution_count": 25,
   "metadata": {},
   "outputs": [
    {
     "data": {
      "image/png": "[encoded data removed]",
      "text/plain": [
       "<Figure size 1152x864 with 12 Axes>"
      ]
     },
     "metadata": {
      "needs_background": "light"
     },
     "output_type": "display_data"
    }
   ],
   "source": [
    "# Box and Whisker plot for each attribute\n",
    "X_original.plot(kind='box', subplots=True, layout=(dispRow,dispCol))\n",
    "plt.show()"
   ]
  },
  {
   "cell_type": "markdown",
   "metadata": {},
   "source": [
    "#### 2.b.ii) Multivariate plots to better understand the relationships between attributes"
   ]
  },
  {
   "cell_type": "code",
   "execution_count": 26,
   "metadata": {},
   "outputs": [],
   "source": [
    "# Scatterplot matrix\n",
    "# scatter_matrix(X_original)\n",
    "# plt.show()"
   ]
  },
  {
   "cell_type": "code",
   "execution_count": 27,
   "metadata": {},
   "outputs": [],
   "source": [
    "# Correlation matrix\n",
    "# fig = plt.figure(figsize=(16,12))\n",
    "# ax = fig.add_subplot(111)\n",
    "# correlations = X_original.corr(method='pearson')\n",
    "# cax = ax.matshow(correlations, vmin=-1, vmax=1)\n",
    "# fig.colorbar(cax)\n",
    "# plt.show()"
   ]
  },
  {
   "cell_type": "code",
   "execution_count": 28,
   "metadata": {},
   "outputs": [],
   "source": [
    "if (notifyStatus): email_notify(\"Data Summarization and Visualization completed! \"+datetime.now().strftime('%a %B %d, %Y %I:%M:%S %p'))"
   ]
  },
  {
   "cell_type": "markdown",
   "metadata": {},
   "source": [
    "## Section 3 - Prepare Data\n",
    "Some dataset may require additional preparation activities that will best exposes the structure of the problem and the relationships between the input attributes and the output variable. Some data-prep tasks might include:\n",
    "\n",
    "* Cleaning data by removing duplicates, marking missing values and even imputing missing values.\n",
    "* Feature selection where redundant features may be removed.\n",
    "* Data transforms where attributes are scaled or redistributed in order to best expose the structure of the problem later to learning algorithms."
   ]
  },
  {
   "cell_type": "code",
   "execution_count": 29,
   "metadata": {},
   "outputs": [],
   "source": [
    "if (notifyStatus): email_notify(\"Data Cleaning and Transformation has begun! \"+datetime.now().strftime('%a %B %d, %Y %I:%M:%S %p'))"
   ]
  },
  {
   "cell_type": "markdown",
   "metadata": {},
   "source": [
    "### 3.a) Splitting Data into Training and Test Sets"
   ]
  },
  {
   "cell_type": "code",
   "execution_count": 30,
   "metadata": {},
   "outputs": [
    {
     "name": "stdout",
     "output_type": "stream",
     "text": [
      "<class 'pandas.core.frame.DataFrame'>\n",
      "RangeIndex: 48204 entries, 0 to 48203\n",
      "Data columns (total 70 columns):\n",
      "temp                                 48204 non-null float64\n",
      "rain_1h                              48204 non-null float64\n",
      "snow_1h                              48204 non-null float64\n",
      "clouds_all                           48204 non-null int64\n",
      "holiday_Christmas Day                48204 non-null uint8\n",
      "holiday_Columbus Day                 48204 non-null uint8\n",
      "holiday_Independence Day             48204 non-null uint8\n",
      "holiday_Labor Day                    48204 non-null uint8\n",
      "holiday_Martin Luther King Jr Day    48204 non-null uint8\n",
      "holiday_Memorial Day                 48204 non-null uint8\n",
      "holiday_New Years Day                48204 non-null uint8\n",
      "holiday_None                         48204 non-null uint8\n",
      "holiday_State Fair                   48204 non-null uint8\n",
      "holiday_Thanksgiving Day             48204 non-null uint8\n",
      "holiday_Veterans Day                 48204 non-null uint8\n",
      "holiday_Washingtons Birthday         48204 non-null uint8\n",
      "weather_main_Clear                   48204 non-null uint8\n",
      "weather_main_Clouds                  48204 non-null uint8\n",
      "weather_main_Drizzle                 48204 non-null uint8\n",
      "weather_main_Fog                     48204 non-null uint8\n",
      "weather_main_Haze                    48204 non-null uint8\n",
      "weather_main_Mist                    48204 non-null uint8\n",
      "weather_main_Rain                    48204 non-null uint8\n",
      "weather_main_Smoke                   48204 non-null uint8\n",
      "weather_main_Snow                    48204 non-null uint8\n",
      "weather_main_Squall                  48204 non-null uint8\n",
      "weather_main_Thunderstorm            48204 non-null uint8\n",
      "date_month_1                         48204 non-null uint8\n",
      "date_month_2                         48204 non-null uint8\n",
      "date_month_3                         48204 non-null uint8\n",
      "date_month_4                         48204 non-null uint8\n",
      "date_month_5                         48204 non-null uint8\n",
      "date_month_6                         48204 non-null uint8\n",
      "date_month_7                         48204 non-null uint8\n",
      "date_month_8                         48204 non-null uint8\n",
      "date_month_9                         48204 non-null uint8\n",
      "date_month_10                        48204 non-null uint8\n",
      "date_month_11                        48204 non-null uint8\n",
      "date_month_12                        48204 non-null uint8\n",
      "date_weekday_0                       48204 non-null uint8\n",
      "date_weekday_1                       48204 non-null uint8\n",
      "date_weekday_2                       48204 non-null uint8\n",
      "date_weekday_3                       48204 non-null uint8\n",
      "date_weekday_4                       48204 non-null uint8\n",
      "date_weekday_5                       48204 non-null uint8\n",
      "date_weekday_6                       48204 non-null uint8\n",
      "date_hour_0                          48204 non-null uint8\n",
      "date_hour_1                          48204 non-null uint8\n",
      "date_hour_2                          48204 non-null uint8\n",
      "date_hour_3                          48204 non-null uint8\n",
      "date_hour_4                          48204 non-null uint8\n",
      "date_hour_5                          48204 non-null uint8\n",
      "date_hour_6                          48204 non-null uint8\n",
      "date_hour_7                          48204 non-null uint8\n",
      "date_hour_8                          48204 non-null uint8\n",
      "date_hour_9                          48204 non-null uint8\n",
      "date_hour_10                         48204 non-null uint8\n",
      "date_hour_11                         48204 non-null uint8\n",
      "date_hour_12                         48204 non-null uint8\n",
      "date_hour_13                         48204 non-null uint8\n",
      "date_hour_14                         48204 non-null uint8\n",
      "date_hour_15                         48204 non-null uint8\n",
      "date_hour_16                         48204 non-null uint8\n",
      "date_hour_17                         48204 non-null uint8\n",
      "date_hour_18                         48204 non-null uint8\n",
      "date_hour_19                         48204 non-null uint8\n",
      "date_hour_20                         48204 non-null uint8\n",
      "date_hour_21                         48204 non-null uint8\n",
      "date_hour_22                         48204 non-null uint8\n",
      "date_hour_23                         48204 non-null uint8\n",
      "dtypes: float64(3), int64(1), uint8(66)\n",
      "memory usage: 4.5 MB\n",
      "None\n"
     ]
    }
   ],
   "source": [
    "# Sample code for performing one-hot-encoding before splitting into trainig and test\n",
    "\n",
    "X_original = pd.get_dummies(X_original)\n",
    "print(X_original.info())"
   ]
  },
  {
   "cell_type": "code",
   "execution_count": 31,
   "metadata": {},
   "outputs": [
    {
     "name": "stdout",
     "output_type": "stream",
     "text": [
      "X_train_df.shape: (36153, 70) y_train_df.shape: (36153,)\n",
      "X_test_df.shape: (12051, 70) y_test_df.shape: (12051,)\n"
     ]
    }
   ],
   "source": [
    "# Use 75% of the data to train the models and the remaining for testing/validation\n",
    "\n",
    "testDataset_size = 0.25\n",
    "X_train_df, X_test_df, y_train_df, y_test_df = train_test_split(X_original, y_original, test_size=testDataset_size, random_state=seedNum)\n",
    "print(\"X_train_df.shape: {} y_train_df.shape: {}\".format(X_train_df.shape, y_train_df.shape))\n",
    "print(\"X_test_df.shape: {} y_test_df.shape: {}\".format(X_test_df.shape, y_test_df.shape))"
   ]
  },
  {
   "cell_type": "markdown",
   "metadata": {},
   "source": [
    "### 3.b) Feature Selection"
   ]
  },
  {
   "cell_type": "code",
   "execution_count": 32,
   "metadata": {},
   "outputs": [],
   "source": [
    "# Not applicable for this iteration of the project"
   ]
  },
  {
   "cell_type": "markdown",
   "metadata": {},
   "source": [
    "### 3.d) Display the Final Datasets for Model-Building"
   ]
  },
  {
   "cell_type": "code",
   "execution_count": 33,
   "metadata": {},
   "outputs": [
    {
     "name": "stdout",
     "output_type": "stream",
     "text": [
      "X_train.shape: (36153, 70) y_train.shape: (36153,)\n",
      "X_test.shape: (12051, 70) y_test.shape: (12051,)\n"
     ]
    }
   ],
   "source": [
    "# We finalize the training and testing datasets for the modeling activities\n",
    "X_train = X_train_df.values\n",
    "y_train = y_train_df.values\n",
    "X_test = X_test_df.values\n",
    "y_test = y_test_df.values\n",
    "print(\"X_train.shape: {} y_train.shape: {}\".format(X_train.shape, y_train.shape))\n",
    "print(\"X_test.shape: {} y_test.shape: {}\".format(X_test.shape, y_test.shape))"
   ]
  },
  {
   "cell_type": "code",
   "execution_count": 34,
   "metadata": {},
   "outputs": [],
   "source": [
    "if (notifyStatus): email_notify(\"Data Cleaning and Transformation completed! \"+datetime.now().strftime('%a %B %d, %Y %I:%M:%S %p'))"
   ]
  },
  {
   "cell_type": "markdown",
   "metadata": {},
   "source": [
    "## 4. Model and Evaluate Algorithms\n",
    "After the data-prep, we next work on finding a workable model by evaluating a subset of machine learning algorithms that are good at exploiting the structure of the training. The typical evaluation tasks include:\n",
    "\n",
    "* Defining test options such as cross validation and the evaluation metric to use.\n",
    "* Spot checking a suite of linear and nonlinear machine learning algorithms.\n",
    "* Comparing the estimated accuracy of algorithms.\n",
    "\n",
    "For this project, we will evaluate four linear, two non-linear, and four ensemble algorithms:\n",
    "\n",
    "Linear Algorithms: Linear Regression, Ridge Regression, LASSO Regression, and Elastic Net Regression\n",
    "\n",
    "Non-Linear Algorithms: Decision Trees (CART) and k-Nearest Neighbors\n",
    "\n",
    "Ensemble Algorithms: Random Forest, Extra Trees, and Gradient Boosting\n",
    "\n",
    "The random number seed is reset before each run to ensure that the evaluation of each algorithm is performed using the same data splits. It ensures the results are directly comparable."
   ]
  },
  {
   "cell_type": "markdown",
   "metadata": {},
   "source": [
    "### 4.a) Set test options and evaluation metric"
   ]
  },
  {
   "cell_type": "code",
   "execution_count": 35,
   "metadata": {},
   "outputs": [],
   "source": [
    "# Set up Algorithms Spot-Checking Array\n",
    "startTimeModule = datetime.now()\n",
    "models = []\n",
    "models.append(('LR', LinearRegression(n_jobs=cpu_num)))\n",
    "models.append(('RR', Ridge(random_state=seedNum)))\n",
    "models.append(('LASSO', Lasso(random_state=seedNum)))\n",
    "models.append(('EN', ElasticNet(random_state=seedNum)))\n",
    "models.append(('CART', DecisionTreeRegressor(random_state=seedNum)))\n",
    "models.append(('KNN', KNeighborsRegressor(n_jobs=cpu_num)))\n",
    "models.append(('RF', RandomForestRegressor(random_state=seedNum, n_jobs=cpu_num)))\n",
    "models.append(('ET', ExtraTreesRegressor(random_state=seedNum, n_jobs=cpu_num)))\n",
    "models.append(('GBM', GradientBoostingRegressor(random_state=seedNum)))\n",
    "# models.append(('XGB', XGBRegressor(random_state=seedNum, n_jobs=cpu_num)))\n",
    "results = []\n",
    "names = []\n",
    "metrics = []"
   ]
  },
  {
   "cell_type": "code",
   "execution_count": 36,
   "metadata": {},
   "outputs": [
    {
     "name": "stdout",
     "output_type": "stream",
     "text": [
      "LR: -3116979.767600 (7358052.239427)\n",
      "Model training time: 0:00:00.884900\n",
      "RR: -3120536.946634 (7368740.918545)\n",
      "Model training time: 0:00:00.550667\n",
      "LASSO: -3157129.199709 (7475695.744341)\n",
      "Model training time: 0:00:02.776172\n",
      "EN: -8995318.906040 (17016839.347883)\n",
      "Model training time: 0:00:00.775175\n",
      "CART: -372839.616224 (31261.105699)\n",
      "Model training time: 0:00:07.351156\n",
      "KNN: -2018861.354122 (46833.281757)\n",
      "Model training time: 0:00:23.794393\n",
      "RF: -235519.588837 (20467.874756)\n",
      "Model training time: 0:00:12.510553\n",
      "ET: -310575.718896 (23122.085872)\n",
      "Model training time: 0:00:14.868788\n",
      "GBM: -562956.017701 (25096.578853)\n",
      "Model training time: 0:00:57.909603\n",
      "Average RMSE from all models: 1559.583887372366\n",
      "Total training time for all models: 0:00:57.911013\n"
     ]
    }
   ],
   "source": [
    "# Generate model in turn\n",
    "for name, model in models:\n",
    "\tif (notifyStatus): email_notify(\"Algorithm \"+name+\" modeling has begun! \"+datetime.now().strftime('%a %B %d, %Y %I:%M:%S %p'))\n",
    "\tstartTimeModule = datetime.now()\n",
    "\tkfold = KFold(n_splits=num_folds, random_state=seedNum)\n",
    "\tcv_results = cross_val_score(model, X_train, y_train, cv=kfold, scoring=scoring)\n",
    "\tresults.append(cv_results)\n",
    "\tnames.append(name)\n",
    "\tmetrics.append(cv_results.mean())\n",
    "\tmsg = \"%s: %f (%f)\" % (name, cv_results.mean(), cv_results.std())\n",
    "\tprint(msg)\n",
    "\tprint ('Model training time:',(datetime.now() - startTimeModule))\n",
    "\tif (notifyStatus): email_notify(\"Algorithm \"+name+\" modeling completed! \"+datetime.now().strftime('%a %B %d, %Y %I:%M:%S %p'))\n",
    "print ('Average RMSE from all models:',math.sqrt(np.mean(metrics)*-1.0))\n",
    "print ('Total training time for all models:',(datetime.now() - startTimeModule))"
   ]
  },
  {
   "cell_type": "markdown",
   "metadata": {},
   "source": [
    "### 4.b) Spot-checking baseline algorithms"
   ]
  },
  {
   "cell_type": "code",
   "execution_count": 37,
   "metadata": {},
   "outputs": [
    {
     "data": {
      "image/png": "[encoded data removed]",
      "text/plain": [
       "<Figure size 1152x864 with 1 Axes>"
      ]
     },
     "metadata": {
      "needs_background": "light"
     },
     "output_type": "display_data"
    }
   ],
   "source": [
    "fig = plt.figure(figsize=(16,12))\n",
    "fig.suptitle('Algorithm Comparison - Spot Checking')\n",
    "ax = fig.add_subplot(111)\n",
    "plt.boxplot(results)\n",
    "ax.set_xticklabels(names)\n",
    "plt.show()"
   ]
  },
  {
   "cell_type": "markdown",
   "metadata": {},
   "source": [
    "## Section 5 - Improve Accuracy\n",
    "After we achieve a short list of machine learning algorithms with good level of accuracy, we can leverage ways to improve the accuracy of the models."
   ]
  },
  {
   "cell_type": "markdown",
   "metadata": {},
   "source": [
    "### 5.a) Algorithm Tuning"
   ]
  },
  {
   "cell_type": "code",
   "execution_count": 38,
   "metadata": {},
   "outputs": [],
   "source": [
    "# Set up the comparison array\n",
    "results = []\n",
    "names = []"
   ]
  },
  {
   "cell_type": "code",
   "execution_count": 39,
   "metadata": {},
   "outputs": [
    {
     "name": "stdout",
     "output_type": "stream",
     "text": [
      "Best: -217054.900588 using {'n_estimators': 300}\n",
      "-219481.492583 (17440.575170) with: {'n_estimators': 100}\n",
      "-217957.664532 (16680.108732) with: {'n_estimators': 200}\n",
      "-217054.900588 (16753.956663) with: {'n_estimators': 300}\n",
      "-217398.168751 (17423.854598) with: {'n_estimators': 400}\n",
      "-217199.135784 (16337.305503) with: {'n_estimators': 500}\n",
      "Best RMSE for the Model is: 465.891511607572\n",
      "Model training time: 0:23:57.002830\n"
     ]
    }
   ],
   "source": [
    "# Tuning algorithm #1 - Random Forest\n",
    "if (notifyStatus): email_notify(\"Algorithm #1 tuning has begun! \"+datetime.now().strftime('%a %B %d, %Y %I:%M:%S %p'))\n",
    "startTimeModule = datetime.now()\n",
    "paramGrid1 = dict(n_estimators=np.array([100, 200, 300, 400, 500]))\n",
    "model1 = RandomForestRegressor(n_jobs=cpu_num)\n",
    "kfold = KFold(n_splits=num_folds, random_state=seedNum)\n",
    "grid1 = GridSearchCV(estimator=model1, param_grid=paramGrid1, scoring=scoring, cv=kfold)\n",
    "grid_result1 = grid1.fit(X_train, y_train)\n",
    "\n",
    "print(\"Best: %f using %s\" % (grid_result1.best_score_, grid_result1.best_params_))\n",
    "results.append(grid_result1.cv_results_['mean_test_score'])\n",
    "names.append('RF')\n",
    "means = grid_result1.cv_results_['mean_test_score']\n",
    "stds = grid_result1.cv_results_['std_test_score']\n",
    "params = grid_result1.cv_results_['params']\n",
    "for mean, stdev, param in zip(means, stds, params):\n",
    "    print(\"%f (%f) with: %r\" % (mean, stdev, param))\n",
    "print ('Best RMSE for the Model is:', math.sqrt((grid_result1.best_score_*-1)))\n",
    "print ('Model training time:',(datetime.now() - startTimeModule))\n",
    "if (notifyStatus): email_notify(\"Algorithm #1 tuning completed! \"+datetime.now().strftime('%a %B %d, %Y %I:%M:%S %p'))"
   ]
  },
  {
   "cell_type": "code",
   "execution_count": 40,
   "metadata": {},
   "outputs": [
    {
     "name": "stdout",
     "output_type": "stream",
     "text": [
      "Best: -300993.158393 using {'n_estimators': 700}\n",
      "-301353.894164 (23679.991969) with: {'n_estimators': 300}\n",
      "-301254.273527 (23645.657998) with: {'n_estimators': 400}\n",
      "-301180.033786 (23536.730539) with: {'n_estimators': 500}\n",
      "-300997.047918 (23650.822793) with: {'n_estimators': 600}\n",
      "-300993.158393 (23635.533794) with: {'n_estimators': 700}\n",
      "Best RMSE for the Model is: 548.6284338174722\n",
      "Model training time: 3:41:54.387404\n"
     ]
    }
   ],
   "source": [
    "# Tuning algorithm #2 - Extra Trees\n",
    "if (notifyStatus): email_notify(\"Algorithm #2 tuning has begun! \"+datetime.now().strftime('%a %B %d, %Y %I:%M:%S %p'))\n",
    "startTimeModule = datetime.now()\n",
    "paramGrid2 = dict(n_estimators=np.array([300, 400, 500, 600, 700]))\n",
    "model2 = ExtraTreesRegressor(random_state=seedNum)\n",
    "kfold = KFold(n_splits=num_folds, random_state=seedNum)\n",
    "grid2 = GridSearchCV(estimator=model2, param_grid=paramGrid2, scoring=scoring, cv=kfold)\n",
    "grid_result2 = grid2.fit(X_train, y_train)\n",
    "\n",
    "print(\"Best: %f using %s\" % (grid_result2.best_score_, grid_result2.best_params_))\n",
    "results.append(grid_result2.cv_results_['mean_test_score'])\n",
    "names.append('ET')\n",
    "means = grid_result2.cv_results_['mean_test_score']\n",
    "stds = grid_result2.cv_results_['std_test_score']\n",
    "params = grid_result2.cv_results_['params']\n",
    "for mean, stdev, param in zip(means, stds, params):\n",
    "    print(\"%f (%f) with: %r\" % (mean, stdev, param))\n",
    "print ('Best RMSE for the Model is:', math.sqrt((grid_result2.best_score_*-1)))\n",
    "print ('Model training time:',(datetime.now() - startTimeModule))\n",
    "if (notifyStatus): email_notify(\"Algorithm #2 tuning completed! \"+datetime.now().strftime('%a %B %d, %Y %I:%M:%S %p'))"
   ]
  },
  {
   "cell_type": "markdown",
   "metadata": {},
   "source": [
    "### 5.b) Compare Algorithms After Tuning"
   ]
  },
  {
   "cell_type": "code",
   "execution_count": 41,
   "metadata": {},
   "outputs": [
    {
     "data": {
      "image/png": "[encoded data removed]",
      "text/plain": [
       "<Figure size 1152x864 with 1 Axes>"
      ]
     },
     "metadata": {
      "needs_background": "light"
     },
     "output_type": "display_data"
    }
   ],
   "source": [
    "fig = plt.figure(figsize=(16,12))\n",
    "fig.suptitle('Algorithm Comparison - Post Tuning')\n",
    "ax = fig.add_subplot(111)\n",
    "plt.boxplot(results)\n",
    "ax.set_xticklabels(names)\n",
    "plt.show()"
   ]
  },
  {
   "cell_type": "markdown",
   "metadata": {},
   "source": [
    "## Section 6 - Finalize Model\n",
    "Once we have narrow down to a model that we believe can make accurate predictions on unseen data, we are ready to finalize it. Finalizing a model may involve sub-tasks such as:\n",
    "* Using an optimal model tuned to make predictions on unseen data.\n",
    "* Creating a standalone model using the tuned parameters\n",
    "* Saving an optimal model to file for later use."
   ]
  },
  {
   "cell_type": "code",
   "execution_count": 42,
   "metadata": {},
   "outputs": [],
   "source": [
    "if (notifyStatus): email_notify(\"Model Validation and Final Model Creation has begun! \"+datetime.now().strftime('%a %B %d, %Y %I:%M:%S %p'))"
   ]
  },
  {
   "cell_type": "markdown",
   "metadata": {},
   "source": [
    "### 6.a) Measure predictions from the test dataset"
   ]
  },
  {
   "cell_type": "code",
   "execution_count": 43,
   "metadata": {},
   "outputs": [
    {
     "name": "stdout",
     "output_type": "stream",
     "text": [
      "RMSE for the model is:  461.4006197432116\n",
      "R2 for the model is:  0.9462082229029256\n"
     ]
    }
   ],
   "source": [
    "model = RandomForestRegressor(n_estimators=300, random_state=seedNum, n_jobs=cpu_num)\n",
    "model.fit(X_train, y_train)\n",
    "predictions = model.predict(X_test)\n",
    "print('RMSE for the model is: ', math.sqrt(mean_squared_error(y_test, predictions)))\n",
    "print('R2 for the model is: ', r2_score(y_test, predictions))"
   ]
  },
  {
   "cell_type": "code",
   "execution_count": 44,
   "metadata": {},
   "outputs": [
    {
     "name": "stdout",
     "output_type": "stream",
     "text": [
      "RMSE for the model is:  543.047106902138\n",
      "R2 for the model is:  0.9254865702668317\n"
     ]
    }
   ],
   "source": [
    "model = ExtraTreesRegressor(n_estimators=700, random_state=seedNum, n_jobs=cpu_num)\n",
    "model.fit(X_train, y_train)\n",
    "predictions = model.predict(X_test)\n",
    "print('RMSE for the model is: ', math.sqrt(mean_squared_error(y_test, predictions)))\n",
    "print('R2 for the model is: ', r2_score(y_test, predictions))"
   ]
  },
  {
   "cell_type": "markdown",
   "metadata": {},
   "source": [
    "### 6.b) Create a standalone model using all available data"
   ]
  },
  {
   "cell_type": "code",
   "execution_count": 45,
   "metadata": {},
   "outputs": [
    {
     "name": "stdout",
     "output_type": "stream",
     "text": [
      "X_complete.shape: (48204, 70) y_complete.shape: (48204,)\n",
      "Model training time: 0:00:00.009649\n"
     ]
    }
   ],
   "source": [
    "startTimeModule = datetime.now()\n",
    "\n",
    "# Combining the training and testing datasets to form the complete dataset that will be used for training the final model\n",
    "X_complete = np.vstack((X_train, X_test))\n",
    "y_complete = np.concatenate((y_train, y_test))\n",
    "print(\"X_complete.shape: {} y_complete.shape: {}\".format(X_complete.shape, y_complete.shape))\n",
    "\n",
    "# finalModel = RandomForestRegressor(n_estimators=300, random_state=seedNum, n_jobs=cpu_num)\n",
    "# finalModel.fit(X_complete, y_complete)\n",
    "print ('Model training time:',(datetime.now() - startTimeModule))"
   ]
  },
  {
   "cell_type": "markdown",
   "metadata": {},
   "source": [
    "### 6.c) Save the final model for later use"
   ]
  },
  {
   "cell_type": "code",
   "execution_count": 46,
   "metadata": {},
   "outputs": [],
   "source": [
    "# modelName = 'finalModel_BinaryClass.sav'\n",
    "# dump(finalModel, modelName)"
   ]
  },
  {
   "cell_type": "code",
   "execution_count": 47,
   "metadata": {},
   "outputs": [],
   "source": [
    "if (notifyStatus): email_notify(\"Model Validation and Final Model Creation completed! \"+datetime.now().strftime('%a %B %d, %Y %I:%M:%S %p'))"
   ]
  },
  {
   "cell_type": "code",
   "execution_count": 48,
   "metadata": {},
   "outputs": [
    {
     "name": "stdout",
     "output_type": "stream",
     "text": [
      "Total time for the script: 4:08:55.209737\n"
     ]
    }
   ],
   "source": [
    "print ('Total time for the script:',(datetime.now() - startTimeScript))"
   ]
  }
 ],
 "metadata": {
  "kernelspec": {
   "display_name": "Python 3",
   "language": "python",
   "name": "python3"
  },
  "language_info": {
   "codemirror_mode": {
    "name": "ipython",
    "version": 3
   },
   "file_extension": ".py",
   "mimetype": "text/x-python",
   "name": "python",
   "nbconvert_exporter": "python",
   "pygments_lexer": "ipython3",
   "version": "3.7.3"
  }
 },
 "nbformat": 4,
 "nbformat_minor": 4
}
