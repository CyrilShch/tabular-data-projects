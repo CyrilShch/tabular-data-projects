{
 "cells": [
  {
   "cell_type": "markdown",
   "metadata": {},
   "source": [
    "# Binary Classification Model for Edible Mushrooms Using Python\n",
    "### David Lowe\n",
    "### June 19, 2018\n",
    "\n",
    "Template Credit: Adapted from a template made available by Dr. Jason Brownlee of Machine Learning Mastery (http://machinelearningmastery.com/)\n",
    "\n",
    "Dataset Used: Mushroom Data Set\n",
    "\n",
    "Dataset ML Model: Binary classification with categorical attributes\n",
    "\n",
    "Dataset Reference: https://archive.ics.uci.edu/ml/datasets/Mushroom\n",
    "\n",
    "One potential source of performance benchmarks: https://www.kaggle.com/uciml/mushroom-classification\n",
    "\n",
    "INTRODUCTION: This data set includes descriptions of hypothetical samples corresponding to 23 species of gilled mushrooms in the Agaricus and Lepiota Family (pp. 500-525). Each species is identified as definitely edible or poisonous. The Guide, The Audubon Society Field Guide to North American Mushrooms (1981). G. H. Lincoff (Pres.), New York: Alfred A. Knopf, clearly states that there is no simple rule for determining the edibility of a mushroom.\n",
    "\n",
    "CONCLUSION: It was interesting to observe that just about all algorithms (except Naive Bayes and Support Vector Machine) scored an accuracy of 100% on the training data using a training/validation split of 70%/30%. Furthermore, all eight algorithms also scored a 100% accuracy rate using the validation dataset.\n",
    "\n",
    "I reduced the training and validation to only a 50%-50% split, so the algorithms had less training data to work with. The same eight algorithms tunred in a 100% accuracy on the larger validation dataset. After reducing the training and validation to a 30%-70% split, the Stochastic Gradient Boosting model dropped out of the race for predictive perfection. After a 20%-80% of training and validation split, Random Forest was the only model that was able to maintain a perfect prediction score for both the training and validation datasets.\n",
    "\n",
    "For future studies, we can examine and see whether the machine learning algorithms can be trained with less features but still maintain the high prediction accuracy. For now, the Random Forest algorithm appeared to be the best-performing model for determining whether mushroom species are edible.\n",
    "\n",
    "The purpose of this project is to analyze predictions using various machine learning algorithms and to document the steps using a template. Working through machine learning problems from end-to-end requires a structured modeling approach. Working problems through a project template can also encourage us to think about the problem more critically, to challenge our assumptions, and to get proficient at all parts of a modeling project.\n",
    "\n",
    "The project aims to touch on the following areas:\n",
    "\n",
    "* Document a predictive modeling problem end-to-end.\n",
    "* Explore data cleaning and transformation options\n",
    "* Explore non-ensemble and ensemble algorithms for baseline model performance\n",
    "* Explore algorithm tuning techniques for improving model performance\n",
    "\n",
    "Any predictive modeling machine learning project genrally can be broken down into about six major tasks:\n",
    "\n",
    "1. Prepare Problem\n",
    "2. Summarize Data\n",
    "3. Prepare Data\n",
    "4. Model and Evaluate Algorithms\n",
    "5. Improve Accuracy or Results\n",
    "6. Finalize Model and Present Results"
   ]
  },
  {
   "cell_type": "markdown",
   "metadata": {},
   "source": [
    "## Section 1 - Prepare Problem\n",
    "### 1.a) Load ibraries"
   ]
  },
  {
   "cell_type": "code",
   "execution_count": 1,
   "metadata": {},
   "outputs": [],
   "source": [
    "import numpy\n",
    "from matplotlib import pyplot\n",
    "from pandas import read_csv\n",
    "from pandas import set_option\n",
    "from pandas import get_dummies\n",
    "from pandas.plotting import scatter_matrix\n",
    "from sklearn.preprocessing import StandardScaler\n",
    "from sklearn.model_selection import train_test_split\n",
    "from sklearn.model_selection import KFold\n",
    "from sklearn.model_selection import cross_val_score\n",
    "from sklearn.model_selection import GridSearchCV\n",
    "from sklearn.metrics import classification_report\n",
    "from sklearn.metrics import confusion_matrix\n",
    "from sklearn.metrics import accuracy_score\n",
    "from sklearn.pipeline import Pipeline\n",
    "from sklearn.linear_model import LogisticRegression\n",
    "from sklearn.tree import DecisionTreeClassifier\n",
    "from sklearn.neighbors import KNeighborsClassifier\n",
    "from sklearn.discriminant_analysis import LinearDiscriminantAnalysis\n",
    "from sklearn.naive_bayes import GaussianNB\n",
    "from sklearn.svm import SVC\n",
    "from sklearn.ensemble import BaggingClassifier\n",
    "from sklearn.ensemble import RandomForestClassifier\n",
    "from sklearn.ensemble import ExtraTreesClassifier\n",
    "from sklearn.ensemble import AdaBoostClassifier\n",
    "from sklearn.ensemble import GradientBoostingClassifier\n",
    "from sklearn.externals.joblib import dump\n",
    "from sklearn.externals.joblib import load\n",
    "from datetime import datetime"
   ]
  },
  {
   "cell_type": "markdown",
   "metadata": {},
   "source": [
    "### 1.b) Load dataset"
   ]
  },
  {
   "cell_type": "code",
   "execution_count": 2,
   "metadata": {},
   "outputs": [],
   "source": [
    "startTimeScript = datetime.now()\n",
    "\n",
    "inputFile = 'mushrooms.csv'\n",
    "entireDataset = read_csv(inputFile)\n",
    "entireDataset = entireDataset.rename(columns={'class': 'targetVar'})"
   ]
  },
  {
   "cell_type": "markdown",
   "metadata": {},
   "source": [
    "## Section 2 - Summarize Data\n",
    "To gain a better understanding of the data that we have on-hand, we will leverage a number of descriptive statistics and data visualization techniques. The plan is to use the results to consider new questions, review assumptions, and validate hypotheses that we can investigate later with specialized models."
   ]
  },
  {
   "cell_type": "markdown",
   "metadata": {},
   "source": [
    "### 2.a) Descriptive statistics"
   ]
  },
  {
   "cell_type": "code",
   "execution_count": 3,
   "metadata": {},
   "outputs": [],
   "source": [
    "# Set up a variable for the total number of attribute columns (totAttr)\n",
    "totCol = len(entireDataset.columns)\n",
    "totAttr = totCol-1\n",
    "# Set up the number of row and columns for visualization display. dispRow * dispCol should be >= totAttr\n",
    "dispCol = 3\n",
    "if totAttr % dispCol == 0 :\n",
    "    dispRow = totAttr // dispCol\n",
    "else :\n",
    "    dispRow = (totAttr // dispCol) + 1"
   ]
  },
  {
   "cell_type": "markdown",
   "metadata": {},
   "source": [
    "#### 2.a.i) Peek at the data itself."
   ]
  },
  {
   "cell_type": "code",
   "execution_count": 4,
   "metadata": {},
   "outputs": [
    {
     "name": "stdout",
     "output_type": "stream",
     "text": [
      "   targetVar cap-shape cap-surface cap-color bruises odor gill-attachment gill-spacing gill-size  \\\n",
      "0          p         x           s         n       t    p               f            c         n   \n",
      "1          e         x           s         y       t    a               f            c         b   \n",
      "2          e         b           s         w       t    l               f            c         b   \n",
      "3          p         x           y         w       t    p               f            c         n   \n",
      "4          e         x           s         g       f    n               f            w         b   \n",
      "5          e         x           y         y       t    a               f            c         b   \n",
      "6          e         b           s         w       t    a               f            c         b   \n",
      "7          e         b           y         w       t    l               f            c         b   \n",
      "8          p         x           y         w       t    p               f            c         n   \n",
      "9          e         b           s         y       t    a               f            c         b   \n",
      "10         e         x           y         y       t    l               f            c         b   \n",
      "11         e         x           y         y       t    a               f            c         b   \n",
      "12         e         b           s         y       t    a               f            c         b   \n",
      "13         p         x           y         w       t    p               f            c         n   \n",
      "14         e         x           f         n       f    n               f            w         b   \n",
      "15         e         s           f         g       f    n               f            c         n   \n",
      "16         e         f           f         w       f    n               f            w         b   \n",
      "17         p         x           s         n       t    p               f            c         n   \n",
      "18         p         x           y         w       t    p               f            c         n   \n",
      "19         p         x           s         n       t    p               f            c         n   \n",
      "\n",
      "   gill-color   ...   stalk-surface-below-ring stalk-color-above-ring stalk-color-below-ring  \\\n",
      "0           k   ...                          s                      w                      w   \n",
      "1           k   ...                          s                      w                      w   \n",
      "2           n   ...                          s                      w                      w   \n",
      "3           n   ...                          s                      w                      w   \n",
      "4           k   ...                          s                      w                      w   \n",
      "5           n   ...                          s                      w                      w   \n",
      "6           g   ...                          s                      w                      w   \n",
      "7           n   ...                          s                      w                      w   \n",
      "8           p   ...                          s                      w                      w   \n",
      "9           g   ...                          s                      w                      w   \n",
      "10          g   ...                          s                      w                      w   \n",
      "11          n   ...                          s                      w                      w   \n",
      "12          w   ...                          s                      w                      w   \n",
      "13          k   ...                          s                      w                      w   \n",
      "14          n   ...                          f                      w                      w   \n",
      "15          k   ...                          s                      w                      w   \n",
      "16          k   ...                          s                      w                      w   \n",
      "17          n   ...                          s                      w                      w   \n",
      "18          n   ...                          s                      w                      w   \n",
      "19          k   ...                          s                      w                      w   \n",
      "\n",
      "   veil-type veil-color ring-number ring-type spore-print-color population habitat  \n",
      "0          p          w           o         p                 k          s       u  \n",
      "1          p          w           o         p                 n          n       g  \n",
      "2          p          w           o         p                 n          n       m  \n",
      "3          p          w           o         p                 k          s       u  \n",
      "4          p          w           o         e                 n          a       g  \n",
      "5          p          w           o         p                 k          n       g  \n",
      "6          p          w           o         p                 k          n       m  \n",
      "7          p          w           o         p                 n          s       m  \n",
      "8          p          w           o         p                 k          v       g  \n",
      "9          p          w           o         p                 k          s       m  \n",
      "10         p          w           o         p                 n          n       g  \n",
      "11         p          w           o         p                 k          s       m  \n",
      "12         p          w           o         p                 n          s       g  \n",
      "13         p          w           o         p                 n          v       u  \n",
      "14         p          w           o         e                 k          a       g  \n",
      "15         p          w           o         p                 n          y       u  \n",
      "16         p          w           o         e                 n          a       g  \n",
      "17         p          w           o         p                 k          s       g  \n",
      "18         p          w           o         p                 n          s       u  \n",
      "19         p          w           o         p                 n          s       u  \n",
      "\n",
      "[20 rows x 23 columns]\n"
     ]
    }
   ],
   "source": [
    "set_option('display.width', 100)\n",
    "print(entireDataset.head(20))"
   ]
  },
  {
   "cell_type": "markdown",
   "metadata": {},
   "source": [
    "#### 2.a.ii) Dimensions of the dataset."
   ]
  },
  {
   "cell_type": "code",
   "execution_count": 5,
   "metadata": {},
   "outputs": [
    {
     "name": "stdout",
     "output_type": "stream",
     "text": [
      "(8124, 23)\n"
     ]
    }
   ],
   "source": [
    "print(entireDataset.shape)"
   ]
  },
  {
   "cell_type": "markdown",
   "metadata": {},
   "source": [
    "#### 2.a.iii) Types of the attributes."
   ]
  },
  {
   "cell_type": "code",
   "execution_count": 6,
   "metadata": {},
   "outputs": [
    {
     "name": "stdout",
     "output_type": "stream",
     "text": [
      "targetVar                   object\n",
      "cap-shape                   object\n",
      "cap-surface                 object\n",
      "cap-color                   object\n",
      "bruises                     object\n",
      "odor                        object\n",
      "gill-attachment             object\n",
      "gill-spacing                object\n",
      "gill-size                   object\n",
      "gill-color                  object\n",
      "stalk-shape                 object\n",
      "stalk-root                  object\n",
      "stalk-surface-above-ring    object\n",
      "stalk-surface-below-ring    object\n",
      "stalk-color-above-ring      object\n",
      "stalk-color-below-ring      object\n",
      "veil-type                   object\n",
      "veil-color                  object\n",
      "ring-number                 object\n",
      "ring-type                   object\n",
      "spore-print-color           object\n",
      "population                  object\n",
      "habitat                     object\n",
      "dtype: object\n"
     ]
    }
   ],
   "source": [
    "print(entireDataset.dtypes)"
   ]
  },
  {
   "cell_type": "markdown",
   "metadata": {},
   "source": [
    "#### 2.a.iv) Statistical summary of all attributes."
   ]
  },
  {
   "cell_type": "code",
   "execution_count": 7,
   "metadata": {},
   "outputs": [
    {
     "name": "stdout",
     "output_type": "stream",
     "text": [
      "       targetVar cap-shape cap-surface cap-color bruises  odor gill-attachment gill-spacing  \\\n",
      "count       8124      8124        8124      8124    8124  8124            8124         8124   \n",
      "unique         2         6           4        10       2     9               2            2   \n",
      "top            e         x           y         n       f     n               f            c   \n",
      "freq        4208      3656        3244      2284    4748  3528            7914         6812   \n",
      "\n",
      "       gill-size gill-color   ...   stalk-surface-below-ring stalk-color-above-ring  \\\n",
      "count       8124       8124   ...                       8124                   8124   \n",
      "unique         2         12   ...                          4                      9   \n",
      "top            b          b   ...                          s                      w   \n",
      "freq        5612       1728   ...                       4936                   4464   \n",
      "\n",
      "       stalk-color-below-ring veil-type veil-color ring-number ring-type spore-print-color  \\\n",
      "count                    8124      8124       8124        8124      8124              8124   \n",
      "unique                      9         1          4           3         5                 9   \n",
      "top                         w         p          w           o         p                 w   \n",
      "freq                     4384      8124       7924        7488      3968              2388   \n",
      "\n",
      "       population habitat  \n",
      "count        8124    8124  \n",
      "unique          6       7  \n",
      "top             v       d  \n",
      "freq         4040    3148  \n",
      "\n",
      "[4 rows x 23 columns]\n"
     ]
    }
   ],
   "source": [
    "print(entireDataset.describe())"
   ]
  },
  {
   "cell_type": "markdown",
   "metadata": {},
   "source": [
    "#### 2.a.v) Summarize the levels of the class attribute."
   ]
  },
  {
   "cell_type": "code",
   "execution_count": 8,
   "metadata": {},
   "outputs": [
    {
     "name": "stdout",
     "output_type": "stream",
     "text": [
      "targetVar\n",
      "e    4208\n",
      "p    3916\n",
      "dtype: int64\n"
     ]
    }
   ],
   "source": [
    "print(entireDataset.groupby('targetVar').size())"
   ]
  },
  {
   "cell_type": "markdown",
   "metadata": {},
   "source": [
    "#### 2.a.v) Count missing values."
   ]
  },
  {
   "cell_type": "code",
   "execution_count": 9,
   "metadata": {},
   "outputs": [
    {
     "name": "stdout",
     "output_type": "stream",
     "text": [
      "targetVar                   0\n",
      "cap-shape                   0\n",
      "cap-surface                 0\n",
      "cap-color                   0\n",
      "bruises                     0\n",
      "odor                        0\n",
      "gill-attachment             0\n",
      "gill-spacing                0\n",
      "gill-size                   0\n",
      "gill-color                  0\n",
      "stalk-shape                 0\n",
      "stalk-root                  0\n",
      "stalk-surface-above-ring    0\n",
      "stalk-surface-below-ring    0\n",
      "stalk-color-above-ring      0\n",
      "stalk-color-below-ring      0\n",
      "veil-type                   0\n",
      "veil-color                  0\n",
      "ring-number                 0\n",
      "ring-type                   0\n",
      "spore-print-color           0\n",
      "population                  0\n",
      "habitat                     0\n",
      "dtype: int64\n"
     ]
    }
   ],
   "source": [
    "print(entireDataset.isnull().sum())"
   ]
  },
  {
   "cell_type": "markdown",
   "metadata": {},
   "source": [
    "### 2.b) Data visualizations"
   ]
  },
  {
   "cell_type": "markdown",
   "metadata": {},
   "source": [
    "##### 2.b.i) Univariate plots to better understand each attribute"
   ]
  },
  {
   "cell_type": "code",
   "execution_count": 10,
   "metadata": {},
   "outputs": [],
   "source": [
    "# Set figure width to 16 and height to 12 (4:3 aspect ratio)\n",
    "fig_size = pyplot.rcParams[\"figure.figsize\"]\n",
    "fig_size[0] = 16\n",
    "fig_size[1] = 12\n",
    "pyplot.rcParams[\"figure.figsize\"] = fig_size"
   ]
  },
  {
   "cell_type": "code",
   "execution_count": 11,
   "metadata": {},
   "outputs": [],
   "source": [
    "# Histograms for each attribute\n",
    "#entireDataset.hist()\n",
    "#pyplot.show()"
   ]
  },
  {
   "cell_type": "code",
   "execution_count": 12,
   "metadata": {},
   "outputs": [],
   "source": [
    "# Density plot for each attribute\n",
    "#entireDataset.plot(kind='density', subplots=True, layout=(dispRow,dispCol), sharex=False)\n",
    "#pyplot.show()"
   ]
  },
  {
   "cell_type": "code",
   "execution_count": 13,
   "metadata": {},
   "outputs": [],
   "source": [
    "# Box and Whisker plot for each attribute\n",
    "#entireDataset.plot(kind='box', subplots=True, layout=(dispRow,dispCol), sharex=False, sharey=False)\n",
    "#pyplot.show()"
   ]
  },
  {
   "cell_type": "markdown",
   "metadata": {},
   "source": [
    "#### 2.b.ii) Multivariate plots to better understand the relationships between attributes"
   ]
  },
  {
   "cell_type": "code",
   "execution_count": 14,
   "metadata": {},
   "outputs": [],
   "source": [
    "# Correlation matrix\n",
    "#fig = pyplot.figure()\n",
    "#ax = fig.add_subplot(111)\n",
    "#cax = ax.matshow(entireDataset.corr(), vmin=-1, vmax=1)\n",
    "#fig.colorbar(cax)\n",
    "#pyplot.show()"
   ]
  },
  {
   "cell_type": "code",
   "execution_count": 15,
   "metadata": {},
   "outputs": [],
   "source": [
    "# Scatterplot matrix\n",
    "#scatter_matrix(entireDataset)\n",
    "#pyplot.show()"
   ]
  },
  {
   "cell_type": "markdown",
   "metadata": {},
   "source": [
    "## Section 3 - Prepare Data\n",
    "Some dataset may require additional preparation activities that will best exposes the structure of the problem and the relationships between the input attributes and the output variable. Some data-prep tasks might include:\n",
    "\n",
    "* Cleaning data by removing duplicates, marking missing values and even imputing missing values.\n",
    "* Feature selection where redundant features may be removed.\n",
    "* Data transforms where attributes are scaled or redistributed in order to best expose the structure of the problem later to learning algorithms."
   ]
  },
  {
   "cell_type": "markdown",
   "metadata": {},
   "source": [
    "### 3.a) Data Cleaning"
   ]
  },
  {
   "cell_type": "code",
   "execution_count": 16,
   "metadata": {},
   "outputs": [],
   "source": [
    "# Not applicable for this iteration of the project."
   ]
  },
  {
   "cell_type": "markdown",
   "metadata": {},
   "source": [
    "### 3.b) Feature Selection"
   ]
  },
  {
   "cell_type": "code",
   "execution_count": 17,
   "metadata": {},
   "outputs": [],
   "source": [
    "# Eliminate additional co-related columns\n",
    "# Eliminate the column \"season\" since it is highly co-related with \"mnth\"\n",
    "# Eliminate the column \"atemp\" since it is highly co-related with \"temp\"\n",
    "entireDataset.drop('veil-type', axis=1, inplace=True)\n",
    "totCol = len(entireDataset.columns)\n",
    "totAttr = totCol-1"
   ]
  },
  {
   "cell_type": "markdown",
   "metadata": {},
   "source": [
    "### 3.c) Data Transforms"
   ]
  },
  {
   "cell_type": "code",
   "execution_count": 18,
   "metadata": {},
   "outputs": [
    {
     "name": "stdout",
     "output_type": "stream",
     "text": [
      "targetVar                   category\n",
      "cap-shape                   category\n",
      "cap-surface                 category\n",
      "cap-color                   category\n",
      "bruises                     category\n",
      "odor                        category\n",
      "gill-attachment             category\n",
      "gill-spacing                category\n",
      "gill-size                   category\n",
      "gill-color                  category\n",
      "stalk-shape                 category\n",
      "stalk-root                  category\n",
      "stalk-surface-above-ring    category\n",
      "stalk-surface-below-ring    category\n",
      "stalk-color-above-ring      category\n",
      "stalk-color-below-ring      category\n",
      "veil-color                  category\n",
      "ring-number                 category\n",
      "ring-type                   category\n",
      "spore-print-color           category\n",
      "population                  category\n",
      "habitat                     category\n",
      "dtype: object\n"
     ]
    }
   ],
   "source": [
    "# Conver the string variables to categorical variables as appropriate\n",
    "# get column names of data frame in a list\n",
    "col_names = list(entireDataset)\n",
    "# loop to change each column to category type\n",
    "for col in col_names:\n",
    "    entireDataset[col] = entireDataset[col].astype('category')\n",
    "print(entireDataset.dtypes)"
   ]
  },
  {
   "cell_type": "code",
   "execution_count": 19,
   "metadata": {},
   "outputs": [
    {
     "name": "stdout",
     "output_type": "stream",
     "text": [
      "targetVar_e            uint8\n",
      "targetVar_p            uint8\n",
      "cap-shape_b            uint8\n",
      "cap-shape_c            uint8\n",
      "cap-shape_f            uint8\n",
      "cap-shape_k            uint8\n",
      "cap-shape_s            uint8\n",
      "cap-shape_x            uint8\n",
      "cap-surface_f          uint8\n",
      "cap-surface_g          uint8\n",
      "cap-surface_s          uint8\n",
      "cap-surface_y          uint8\n",
      "cap-color_b            uint8\n",
      "cap-color_c            uint8\n",
      "cap-color_e            uint8\n",
      "cap-color_g            uint8\n",
      "cap-color_n            uint8\n",
      "cap-color_p            uint8\n",
      "cap-color_r            uint8\n",
      "cap-color_u            uint8\n",
      "cap-color_w            uint8\n",
      "cap-color_y            uint8\n",
      "bruises_f              uint8\n",
      "bruises_t              uint8\n",
      "odor_a                 uint8\n",
      "odor_c                 uint8\n",
      "odor_f                 uint8\n",
      "odor_l                 uint8\n",
      "odor_m                 uint8\n",
      "odor_n                 uint8\n",
      "                       ...  \n",
      "ring-number_n          uint8\n",
      "ring-number_o          uint8\n",
      "ring-number_t          uint8\n",
      "ring-type_e            uint8\n",
      "ring-type_f            uint8\n",
      "ring-type_l            uint8\n",
      "ring-type_n            uint8\n",
      "ring-type_p            uint8\n",
      "spore-print-color_b    uint8\n",
      "spore-print-color_h    uint8\n",
      "spore-print-color_k    uint8\n",
      "spore-print-color_n    uint8\n",
      "spore-print-color_o    uint8\n",
      "spore-print-color_r    uint8\n",
      "spore-print-color_u    uint8\n",
      "spore-print-color_w    uint8\n",
      "spore-print-color_y    uint8\n",
      "population_a           uint8\n",
      "population_c           uint8\n",
      "population_n           uint8\n",
      "population_s           uint8\n",
      "population_v           uint8\n",
      "population_y           uint8\n",
      "habitat_d              uint8\n",
      "habitat_g              uint8\n",
      "habitat_l              uint8\n",
      "habitat_m              uint8\n",
      "habitat_p              uint8\n",
      "habitat_u              uint8\n",
      "habitat_w              uint8\n",
      "Length: 118, dtype: object\n"
     ]
    }
   ],
   "source": [
    "# Apply the One-Hot-Encoding (Dummy Variables) technique\n",
    "entireDataset_dummies = get_dummies(entireDataset)\n",
    "print(entireDataset_dummies.dtypes)"
   ]
  },
  {
   "cell_type": "markdown",
   "metadata": {},
   "source": [
    "### 3.d) Split-out training and validation datasets\n",
    "We create a training dataset (variable name \"training\") and a validation dataset (variable name \"validation\")."
   ]
  },
  {
   "cell_type": "code",
   "execution_count": 20,
   "metadata": {},
   "outputs": [
    {
     "name": "stdout",
     "output_type": "stream",
     "text": [
      "X_entire.shape: (8124, 116) Y_entire.shape: (8124,)\n",
      "X_train.shape: (1624, 116) Y_train.shape: (1624,)\n",
      "X_validation.shape: (6500, 116) Y_validation.shape: (6500,)\n",
      "Total time for data handling and visualization: 0:00:00.493202\n"
     ]
    }
   ],
   "source": [
    "seedNum = 888\n",
    "featuresOnly = entireDataset_dummies.loc[:, 'cap-shape_b':'habitat_w']\n",
    "X_entire = featuresOnly.values\n",
    "Y_entire = entireDataset_dummies['targetVar_e'].values\n",
    "validation_size = 0.80\n",
    "X_train, X_validation, Y_train, Y_validation = train_test_split(X_entire, Y_entire, test_size=validation_size, random_state=seedNum)\n",
    "print(\"X_entire.shape: {} Y_entire.shape: {}\".format(X_entire.shape, Y_entire.shape))\n",
    "print(\"X_train.shape: {} Y_train.shape: {}\".format(X_train.shape, Y_train.shape))\n",
    "print(\"X_validation.shape: {} Y_validation.shape: {}\".format(X_validation.shape, Y_validation.shape))\n",
    "print('Total time for data handling and visualization:',(datetime.now() - startTimeScript))"
   ]
  },
  {
   "cell_type": "markdown",
   "metadata": {},
   "source": [
    "## 4. Model and Evaluate Algorithms\n",
    "After the data-prep, we next work on finding a workable model by evaluating a subset of machine learning algorithms that are good at exploiting the structure of the training. The typical evaluation tasks include:\n",
    "\n",
    "* Defining test options such as cross validation and the evaluation metric to use.\n",
    "* Spot checking a suite of linear and nonlinear machine learning algorithms.\n",
    "* Comparing the estimated accuracy of algorithms.\n",
    "\n",
    "For this project, we will evaluate one linear, four non-linear and five ensemble algorithms:\n",
    "\n",
    "Linear Algorithm: Logistic Regression\n",
    "\n",
    "Non-Linear Algorithms: Decision Trees (CART), Naive Bayes, k-Nearest Neighbors, and Support Vector Machine\n",
    "\n",
    "Ensemble Algorithms: Bagged Decision Trees, Random Forest, Extra Trees, AdaBoost, and Stochastic Gradient Boosting\n",
    "\n",
    "The random number seed is reset before each run to ensure that the evaluation of each algorithm is performed using the same data splits. It ensures the results are directly comparable."
   ]
  },
  {
   "cell_type": "markdown",
   "metadata": {},
   "source": [
    "### 4.a) Set test options and evaluation metric"
   ]
  },
  {
   "cell_type": "code",
   "execution_count": 21,
   "metadata": {},
   "outputs": [],
   "source": [
    "# Run algorithms using 10-fold cross validation\n",
    "num_folds = 10\n",
    "scoring = 'accuracy'"
   ]
  },
  {
   "cell_type": "code",
   "execution_count": 22,
   "metadata": {},
   "outputs": [],
   "source": [
    "# Set up Algorithms Spot-Checking Array\n",
    "models = []\n",
    "models.append(('LR', LogisticRegression()))\n",
    "models.append(('CART', DecisionTreeClassifier()))\n",
    "models.append(('NB', GaussianNB()))\n",
    "models.append(('KNN', KNeighborsClassifier()))\n",
    "models.append(('SVM', SVC()))\n",
    "models.append(('BT', BaggingClassifier()))\n",
    "models.append(('RF', RandomForestClassifier()))\n",
    "models.append(('ET', ExtraTreesClassifier()))\n",
    "models.append(('AB', AdaBoostClassifier()))\n",
    "models.append(('GBM', GradientBoostingClassifier()))\n",
    "results = []\n",
    "names = []"
   ]
  },
  {
   "cell_type": "code",
   "execution_count": 23,
   "metadata": {},
   "outputs": [
    {
     "name": "stdout",
     "output_type": "stream",
     "text": [
      "LR: 0.998148 (0.002829)\n",
      "Model training time: 0:00:00.097936\n",
      "CART: 0.998765 (0.002469)\n",
      "Model training time: 0:00:00.079954\n",
      "NB: 0.966148 (0.016527)\n",
      "Model training time: 0:00:00.051971\n",
      "KNN: 0.996917 (0.003083)\n",
      "Model training time: 0:00:00.460939\n",
      "SVM: 0.982754 (0.010603)\n",
      "Model training time: 0:00:00.713703\n",
      "BT: 0.998765 (0.002469)\n",
      "Model training time: 0:00:00.380996\n",
      "RF: 0.999387 (0.001840)\n",
      "Model training time: 0:00:00.171835\n",
      "ET: 0.999387 (0.001840)\n",
      "Model training time: 0:00:00.185418\n",
      "AB: 0.998765 (0.002469)\n",
      "Model training time: 0:00:01.347387\n",
      "GBM: 0.998765 (0.002469)\n",
      "Model training time: 0:00:04.699591\n"
     ]
    }
   ],
   "source": [
    "# Generate model in turn\n",
    "for name, model in models:\n",
    "\tstartTimeModule = datetime.now()\n",
    "\tkfold = KFold(n_splits=num_folds, random_state=seedNum)\n",
    "\tcv_results = cross_val_score(model, X_train, Y_train, cv=kfold, scoring=scoring)\n",
    "\tresults.append(cv_results)\n",
    "\tnames.append(name)\n",
    "\tmsg = \"%s: %f (%f)\" % (name, cv_results.mean(), cv_results.std())\n",
    "\tprint(msg)\n",
    "\tprint ('Model training time:',(datetime.now() - startTimeModule))"
   ]
  },
  {
   "cell_type": "markdown",
   "metadata": {},
   "source": [
    "### 4.b) Spot-checking baseline algorithms"
   ]
  },
  {
   "cell_type": "code",
   "execution_count": 24,
   "metadata": {},
   "outputs": [
    {
     "data": {
      "image/png": "[encoded data removed]",
      "text/plain": [
       "<Figure size 1152x864 with 1 Axes>"
      ]
     },
     "metadata": {},
     "output_type": "display_data"
    }
   ],
   "source": [
    "fig = pyplot.figure()\n",
    "fig.suptitle('Algorithm Comparison - Spot Checking')\n",
    "ax = fig.add_subplot(111)\n",
    "pyplot.boxplot(results)\n",
    "ax.set_xticklabels(names)\n",
    "pyplot.show()"
   ]
  },
  {
   "cell_type": "markdown",
   "metadata": {},
   "source": [
    "## Section 6 - Finalize Model\n",
    "Once we have narrow down to a model that we believe can make accurate predictions on unseen data, we are ready to finalize it. Finalizing a model may involve sub-tasks such as:\n",
    "* Using an optimal model tuned to make predictions on unseen data.\n",
    "* Creating a standalone model using the tuned parameters\n",
    "* Saving an optimal model to file for later use."
   ]
  },
  {
   "cell_type": "markdown",
   "metadata": {},
   "source": [
    "### 6.1) Predictions on validation dataset using Logistic Regression model"
   ]
  },
  {
   "cell_type": "code",
   "execution_count": 25,
   "metadata": {},
   "outputs": [
    {
     "name": "stdout",
     "output_type": "stream",
     "text": [
      "1.0\n",
      "[[3151    0]\n",
      " [   0 3349]]\n",
      "             precision    recall  f1-score   support\n",
      "\n",
      "          0       1.00      1.00      1.00      3151\n",
      "          1       1.00      1.00      1.00      3349\n",
      "\n",
      "avg / total       1.00      1.00      1.00      6500\n",
      "\n"
     ]
    }
   ],
   "source": [
    "model1 = LogisticRegression(random_state=seedNum)\n",
    "model1.fit(X_train, Y_train)\n",
    "predictions = model1.predict(X_validation)\n",
    "print(accuracy_score(Y_validation, predictions))\n",
    "print(confusion_matrix(Y_validation, predictions))\n",
    "print(classification_report(Y_validation, predictions))"
   ]
  },
  {
   "cell_type": "markdown",
   "metadata": {},
   "source": [
    "### 6.2) Predictions on validation dataset using Decision Trees model"
   ]
  },
  {
   "cell_type": "code",
   "execution_count": 26,
   "metadata": {},
   "outputs": [
    {
     "name": "stdout",
     "output_type": "stream",
     "text": [
      "1.0\n",
      "[[3151    0]\n",
      " [   0 3349]]\n",
      "             precision    recall  f1-score   support\n",
      "\n",
      "          0       1.00      1.00      1.00      3151\n",
      "          1       1.00      1.00      1.00      3349\n",
      "\n",
      "avg / total       1.00      1.00      1.00      6500\n",
      "\n"
     ]
    }
   ],
   "source": [
    "model2 = DecisionTreeClassifier(random_state=seedNum)\n",
    "model2.fit(X_train, Y_train)\n",
    "predictions = model2.predict(X_validation)\n",
    "print(accuracy_score(Y_validation, predictions))\n",
    "print(confusion_matrix(Y_validation, predictions))\n",
    "print(classification_report(Y_validation, predictions))"
   ]
  },
  {
   "cell_type": "markdown",
   "metadata": {},
   "source": [
    "### 6.3) Predictions on validation dataset using k-Nearest Neighbors model"
   ]
  },
  {
   "cell_type": "code",
   "execution_count": 27,
   "metadata": {},
   "outputs": [
    {
     "name": "stdout",
     "output_type": "stream",
     "text": [
      "0.9973846153846154\n",
      "[[3150    1]\n",
      " [  16 3333]]\n",
      "             precision    recall  f1-score   support\n",
      "\n",
      "          0       0.99      1.00      1.00      3151\n",
      "          1       1.00      1.00      1.00      3349\n",
      "\n",
      "avg / total       1.00      1.00      1.00      6500\n",
      "\n"
     ]
    }
   ],
   "source": [
    "model3 = KNeighborsClassifier()\n",
    "model3.fit(X_train, Y_train)\n",
    "predictions = model3.predict(X_validation)\n",
    "print(accuracy_score(Y_validation, predictions))\n",
    "print(confusion_matrix(Y_validation, predictions))\n",
    "print(classification_report(Y_validation, predictions))"
   ]
  },
  {
   "cell_type": "markdown",
   "metadata": {},
   "source": [
    "### 6.4) Predictions on validation dataset using Bagged Decision Trees model"
   ]
  },
  {
   "cell_type": "code",
   "execution_count": 28,
   "metadata": {},
   "outputs": [
    {
     "name": "stdout",
     "output_type": "stream",
     "text": [
      "0.9995384615384615\n",
      "[[3148    3]\n",
      " [   0 3349]]\n",
      "             precision    recall  f1-score   support\n",
      "\n",
      "          0       1.00      1.00      1.00      3151\n",
      "          1       1.00      1.00      1.00      3349\n",
      "\n",
      "avg / total       1.00      1.00      1.00      6500\n",
      "\n"
     ]
    }
   ],
   "source": [
    "model4 = BaggingClassifier(random_state=seedNum)\n",
    "model4.fit(X_train, Y_train)\n",
    "predictions = model4.predict(X_validation)\n",
    "print(accuracy_score(Y_validation, predictions))\n",
    "print(confusion_matrix(Y_validation, predictions))\n",
    "print(classification_report(Y_validation, predictions))"
   ]
  },
  {
   "cell_type": "markdown",
   "metadata": {},
   "source": [
    "### 6.5) Predictions on validation dataset using Random Forest model"
   ]
  },
  {
   "cell_type": "code",
   "execution_count": 29,
   "metadata": {},
   "outputs": [
    {
     "name": "stdout",
     "output_type": "stream",
     "text": [
      "1.0\n",
      "[[3151    0]\n",
      " [   0 3349]]\n",
      "             precision    recall  f1-score   support\n",
      "\n",
      "          0       1.00      1.00      1.00      3151\n",
      "          1       1.00      1.00      1.00      3349\n",
      "\n",
      "avg / total       1.00      1.00      1.00      6500\n",
      "\n"
     ]
    }
   ],
   "source": [
    "model5 = RandomForestClassifier(random_state=seedNum)\n",
    "model5.fit(X_train, Y_train)\n",
    "predictions = model5.predict(X_validation)\n",
    "print(accuracy_score(Y_validation, predictions))\n",
    "print(confusion_matrix(Y_validation, predictions))\n",
    "print(classification_report(Y_validation, predictions))"
   ]
  },
  {
   "cell_type": "markdown",
   "metadata": {},
   "source": [
    "### 6.6) Predictions on validation dataset using Extra Trees model"
   ]
  },
  {
   "cell_type": "code",
   "execution_count": 30,
   "metadata": {},
   "outputs": [
    {
     "name": "stdout",
     "output_type": "stream",
     "text": [
      "0.9996923076923077\n",
      "[[3151    0]\n",
      " [   2 3347]]\n",
      "             precision    recall  f1-score   support\n",
      "\n",
      "          0       1.00      1.00      1.00      3151\n",
      "          1       1.00      1.00      1.00      3349\n",
      "\n",
      "avg / total       1.00      1.00      1.00      6500\n",
      "\n"
     ]
    }
   ],
   "source": [
    "model6 = ExtraTreesClassifier(random_state=seedNum)\n",
    "model6.fit(X_train, Y_train)\n",
    "predictions = model6.predict(X_validation)\n",
    "print(accuracy_score(Y_validation, predictions))\n",
    "print(confusion_matrix(Y_validation, predictions))\n",
    "print(classification_report(Y_validation, predictions))"
   ]
  },
  {
   "cell_type": "markdown",
   "metadata": {},
   "source": [
    "### 6.7) Predictions on validation dataset using AdaBoost model"
   ]
  },
  {
   "cell_type": "code",
   "execution_count": 31,
   "metadata": {},
   "outputs": [
    {
     "name": "stdout",
     "output_type": "stream",
     "text": [
      "1.0\n",
      "[[3151    0]\n",
      " [   0 3349]]\n",
      "             precision    recall  f1-score   support\n",
      "\n",
      "          0       1.00      1.00      1.00      3151\n",
      "          1       1.00      1.00      1.00      3349\n",
      "\n",
      "avg / total       1.00      1.00      1.00      6500\n",
      "\n"
     ]
    }
   ],
   "source": [
    "model7 = AdaBoostClassifier(random_state=seedNum)\n",
    "model7.fit(X_train, Y_train)\n",
    "predictions = model7.predict(X_validation)\n",
    "print(accuracy_score(Y_validation, predictions))\n",
    "print(confusion_matrix(Y_validation, predictions))\n",
    "print(classification_report(Y_validation, predictions))"
   ]
  },
  {
   "cell_type": "markdown",
   "metadata": {},
   "source": [
    "### 6.8) Predictions on validation dataset using Stochastic Gradient Boosting model"
   ]
  },
  {
   "cell_type": "code",
   "execution_count": 32,
   "metadata": {},
   "outputs": [
    {
     "name": "stdout",
     "output_type": "stream",
     "text": [
      "1.0\n",
      "[[3151    0]\n",
      " [   0 3349]]\n",
      "             precision    recall  f1-score   support\n",
      "\n",
      "          0       1.00      1.00      1.00      3151\n",
      "          1       1.00      1.00      1.00      3349\n",
      "\n",
      "avg / total       1.00      1.00      1.00      6500\n",
      "\n"
     ]
    }
   ],
   "source": [
    "model8 = GradientBoostingClassifier(random_state=seedNum)\n",
    "model8.fit(X_train, Y_train)\n",
    "predictions = model8.predict(X_validation)\n",
    "print(accuracy_score(Y_validation, predictions))\n",
    "print(confusion_matrix(Y_validation, predictions))\n",
    "print(classification_report(Y_validation, predictions))"
   ]
  },
  {
   "cell_type": "code",
   "execution_count": 33,
   "metadata": {},
   "outputs": [
    {
     "name": "stdout",
     "output_type": "stream",
     "text": [
      "Total time for the script: 0:00:11.909059\n"
     ]
    }
   ],
   "source": [
    "print ('Total time for the script:',(datetime.now() - startTimeScript))"
   ]
  }
 ],
 "metadata": {
  "kernelspec": {
   "display_name": "Python 3",
   "language": "python",
   "name": "python3"
  },
  "language_info": {
   "codemirror_mode": {
    "name": "ipython",
    "version": 3
   },
   "file_extension": ".py",
   "mimetype": "text/x-python",
   "name": "python",
   "nbconvert_exporter": "python",
   "pygments_lexer": "ipython3",
   "version": "3.6.5"
  }
 },
 "nbformat": 4,
 "nbformat_minor": 2
}
